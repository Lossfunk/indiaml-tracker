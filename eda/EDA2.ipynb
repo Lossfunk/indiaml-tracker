{
 "cells": [
  {
   "cell_type": "code",
   "execution_count": 2,
   "metadata": {},
   "outputs": [],
   "source": [
    "def fetch_all_notes_from_venue(client, venue_group, submission_name_key='submission_name'):\n",
    "    submission_name = venue_group.content.get(submission_name_key, {}).get('value', 'Submission')\n",
    "    invitation = f\"{venue_group.id}/-/{submission_name}\"\n",
    "    notes = client.get_all_notes(invitation=invitation)\n",
    "    return notes\n"
   ]
  },
  {
   "cell_type": "code",
   "execution_count": 3,
   "metadata": {},
   "outputs": [],
   "source": [
    "import openreview\n",
    "\n",
    "client = openreview.api.OpenReviewClient(baseurl=\"https://api2.openreview.net\")"
   ]
  },
  {
   "cell_type": "code",
   "execution_count": null,
   "metadata": {},
   "outputs": [],
   "source": [
    "v = fetch_all_notes_from_venue(client, \"NeurIPS.cc/2024/Conference\")"
   ]
  },
  {
   "cell_type": "code",
   "execution_count": 5,
   "metadata": {},
   "outputs": [],
   "source": [
    "group = client.get_group(\"NeurIPS.cc/2024/Conference\")"
   ]
  },
  {
   "cell_type": "code",
   "execution_count": null,
   "metadata": {},
   "outputs": [],
   "source": [
    "submission_name = group.content.get(\"submission_name\", {}).get('value', 'Submission')"
   ]
  },
  {
   "cell_type": "code",
   "execution_count": 9,
   "metadata": {},
   "outputs": [],
   "source": [
    "invitation = f\"{group.id}/-/{submission_name}\"\n"
   ]
  },
  {
   "cell_type": "code",
   "execution_count": 11,
   "metadata": {},
   "outputs": [
    {
     "name": "stderr",
     "output_type": "stream",
     "text": [
      "Getting V2 Notes: 100%|█████████▉| 4231/4236 [00:35<00:00, 118.89it/s]\n"
     ]
    }
   ],
   "source": [
    "notes = client.get_all_notes(invitation=invitation)\n"
   ]
  },
  {
   "cell_type": "code",
   "execution_count": 15,
   "metadata": {},
   "outputs": [],
   "source": [
    "notes2 = client.get_all_notes(invitation=invitation, content={\"venue\": \"NeurIPS 2024 oral\"})"
   ]
  },
  {
   "cell_type": "code",
   "execution_count": 17,
   "metadata": {},
   "outputs": [
    {
     "data": {
      "text/plain": [
       "61"
      ]
     },
     "execution_count": 17,
     "metadata": {},
     "output_type": "execute_result"
    }
   ],
   "source": [
    "len(notes2)"
   ]
  },
  {
   "cell_type": "code",
   "execution_count": 18,
   "metadata": {},
   "outputs": [
    {
     "data": {
      "text/plain": [
       "4236"
      ]
     },
     "execution_count": 18,
     "metadata": {},
     "output_type": "execute_result"
    }
   ],
   "source": [
    "len(notes)"
   ]
  },
  {
   "cell_type": "code",
   "execution_count": 19,
   "metadata": {},
   "outputs": [
    {
     "data": {
      "text/plain": [
       "Group(id = 'NeurIPS.cc/2024/Conference',invitation = None,invitations = ['OpenReview.net/-/Edit', 'NeurIPS.cc/2024/Conference/-/Edit'],content = {'submission_id': {'value': 'NeurIPS.cc/2024/Conference/-/Submission'}, 'pc_submission_revision_id': {'value': 'NeurIPS.cc/2024/Conference/-/PC_Revision'}, 'meta_invitation_id': {'value': 'NeurIPS.cc/2024/Conference/-/Edit'}, 'submission_name': {'value': 'Submission'}, 'submission_venue_id': {'value': 'NeurIPS.cc/2024/Conference/Submission'}, 'withdrawn_venue_id': {'value': 'NeurIPS.cc/2024/Conference/Withdrawn_Submission'}, 'desk_rejected_venue_id': {'value': 'NeurIPS.cc/2024/Conference/Desk_Rejected_Submission'}, 'rejected_venue_id': {'value': 'NeurIPS.cc/2024/Conference/Rejected_Submission'}, 'public_submissions': {'value': False}, 'public_withdrawn_submissions': {'value': False}, 'public_desk_rejected_submissions': {'value': False}, 'submission_email_template': {'value': 'Your submission to {{Abbreviated_Venue_Name}} has been {{action}}.\\n\\nSubmission Number: {{note_number}} \\n\\nTitle: {{note_title}} {{note_abstract}} \\n\\nTo view your submission, click here: https://openreview.net/forum?id={{note_forum}}'}, 'submission_email_pcs': {'value': False}, 'title': {'value': 'The Thirty-eighth Annual Conference on Neural Information Processing Systems'}, 'subtitle': {'value': 'NeurIPS 2024'}, 'website': {'value': 'https://neurips.cc/'}, 'contact': {'value': 'pc2024@neurips.cc'}, 'location': {'value': 'Vancouver, Canada'}, 'instructions': {'value': \"<b>For Authors</b></br> Please see our <a href='https://neurips.cc/Conferences/2024/CallForPapers'>call for papers</a> with detailed instructions before you submit.</br> You must format your submission using the <a href='https://media.neurips.cc/Conferences/NeurIPS2024/Styles.zip'>NeurIPS 2024 LaTeX style file</a> or the <a href='https://www.overleaf.com/read/kcffhyrygkqc#85f742'>NeurIPS 2024 template on Overleaf</a>. </br><b>IMPORTANT:</b></br> Please join the NeurIPS 2024 Checklist Assistant Study that will provide you with free verification of your checklist performed by an LLM: <a href='https://forms.gle/TBmY3MpofBvpt4VB6'>form link</a>, see <a href='https://blog.neurips.cc/2024/05/07/soliciting-participants-for-the-neurips-2024-checklist-assistant-study/'>our blog</a> for details.\"}, 'start_date': {'value': 'Dec 16 2024'}, 'date': {'value': 'Submission Start: Apr 22 2024 08:00PM UTC-0, Abstract Registration: May 15 2024 08:00PM UTC-0, Submission Deadline: May 22 2024 08:00PM UTC-0'}, 'program_chairs_id': {'value': 'NeurIPS.cc/2024/Conference/Program_Chairs'}, 'reviewers_id': {'value': 'NeurIPS.cc/2024/Conference/Reviewers'}, 'reviewers_name': {'value': 'Reviewers'}, 'reviewers_anon_name': {'value': 'Reviewer_'}, 'reviewers_submitted_name': {'value': 'Submitted'}, 'reviewers_custom_max_papers_id': {'value': 'NeurIPS.cc/2024/Conference/Reviewers/-/Custom_Max_Papers'}, 'reviewers_affinity_score_id': {'value': 'NeurIPS.cc/2024/Conference/Reviewers/-/Affinity_Score'}, 'reviewers_conflict_id': {'value': 'NeurIPS.cc/2024/Conference/Reviewers/-/Conflict'}, 'reviewers_assignment_id': {'value': 'NeurIPS.cc/2024/Conference/Reviewers/-/Assignment'}, 'reviewers_invite_assignment_id': {'value': 'NeurIPS.cc/2024/Conference/Reviewers/-/Invite_Assignment'}, 'reviewers_proposed_assignment_id': {'value': 'NeurIPS.cc/2024/Conference/Reviewers/-/Proposed_Assignment'}, 'reviewers_recruitment_id': {'value': 'NeurIPS.cc/2024/Conference/Reviewers/-/Recruitment'}, 'authors_id': {'value': 'NeurIPS.cc/2024/Conference/Authors'}, 'authors_accepted_id': {'value': 'NeurIPS.cc/2024/Conference/Authors/Accepted'}, 'authors_name': {'value': 'Authors'}, 'withdrawn_submission_id': {'value': 'NeurIPS.cc/2024/Conference/-/Withdrawn_Submission'}, 'withdraw_expiration_id': {'value': 'NeurIPS.cc/2024/Conference/-/Withdraw_Expiration'}, 'withdraw_reversion_id': {'value': 'NeurIPS.cc/2024/Conference/-/Withdrawal_Reversion'}, 'withdraw_committee': {'value': ['NeurIPS.cc/2024/Conference/Program_Chairs', 'NeurIPS.cc/2024/Conference/Submission{number}/Senior_Area_Chairs', 'NeurIPS.cc/2024/Conference/Submission{number}/Area_Chairs', 'NeurIPS.cc/2024/Conference/Submission{number}/Reviewers', 'NeurIPS.cc/2024/Conference/Submission{number}/Authors']}, 'withdrawal_name': {'value': 'Withdrawal'}, 'withdrawal_email_pcs': {'value': False}, 'withdrawn_submission_reveal_authors': {'value': False}, 'desk_rejected_submission_id': {'value': 'NeurIPS.cc/2024/Conference/-/Desk_Rejected_Submission'}, 'desk_reject_expiration_id': {'value': 'NeurIPS.cc/2024/Conference/-/Desk_Reject_Expiration'}, 'desk_rejection_reversion_id': {'value': 'NeurIPS.cc/2024/Conference/-/Desk_Rejection_Reversion'}, 'desk_reject_committee': {'value': ['NeurIPS.cc/2024/Conference/Program_Chairs', 'NeurIPS.cc/2024/Conference/Submission{number}/Senior_Area_Chairs', 'NeurIPS.cc/2024/Conference/Submission{number}/Area_Chairs', 'NeurIPS.cc/2024/Conference/Submission{number}/Reviewers', 'NeurIPS.cc/2024/Conference/Submission{number}/Authors']}, 'desk_rejection_name': {'value': 'Desk_Rejection'}, 'desk_rejection_email_pcs': {'value': False}, 'desk_rejected_submission_reveal_authors': {'value': False}, 'automatic_reviewer_assignment': {'value': True}, 'area_chairs_id': {'value': 'NeurIPS.cc/2024/Conference/Area_Chairs'}, 'area_chairs_name': {'value': 'Area_Chairs'}, 'area_chairs_anon_name': {'value': 'Area_Chair_'}, 'area_chairs_custom_max_papers_id': {'value': 'NeurIPS.cc/2024/Conference/Area_Chairs/-/Custom_Max_Papers'}, 'area_chairs_affinity_score_id': {'value': 'NeurIPS.cc/2024/Conference/Area_Chairs/-/Affinity_Score'}, 'area_chairs_conflict_id': {'value': 'NeurIPS.cc/2024/Conference/Area_Chairs/-/Conflict'}, 'area_chairs_recruitment_id': {'value': 'NeurIPS.cc/2024/Conference/Area_Chairs/-/Recruitment'}, 'area_chairs_assignment_id': {'value': 'NeurIPS.cc/2024/Conference/Area_Chairs/-/Assignment'}, 'senior_area_chairs_id': {'value': 'NeurIPS.cc/2024/Conference/Senior_Area_Chairs'}, 'senior_area_chairs_assignment_id': {'value': 'NeurIPS.cc/2024/Conference/Senior_Area_Chairs/-/Assignment'}, 'senior_area_chairs_affinity_score_id': {'value': 'NeurIPS.cc/2024/Conference/Senior_Area_Chairs/-/Affinity_Score'}, 'senior_area_chairs_name': {'value': 'Senior_Area_Chairs'}, 'review_name': {'value': 'Official_Review'}, 'review_rating': {'value': 'rating'}, 'review_confidence': {'value': 'confidence'}, 'review_email_pcs': {'value': False}, 'meta_review_recommendation': {'value': 'recommendation'}, 'meta_review_name': {'value': 'Meta_Review'}, 'decision_name': {'value': 'Decision'}, 'decision_email_authors': {'value': False}, 'decision_field_name': {'value': 'decision'}, 'submission_revision_accepted': {'value': True}, 'request_form_id': {'value': '2U2Y2BJWFU'}, 'comment_mandatory_readers': {'value': ['NeurIPS.cc/2024/Conference/Program_Chairs', 'NeurIPS.cc/2024/Conference/Submission{number}/Senior_Area_Chairs']}, 'comment_email_pcs': {'value': False}, 'rebuttal_email_pcs': {'value': False}, 'sac_paper_assignments': {'value': False}, 'senior_area_chairs_conflict_id': {'value': 'NeurIPS.cc/2024/Conference/Senior_Area_Chairs/-/Conflict'}, 'message_sender': {'value': {'fromName': 'NeurIPS 2024', 'fromEmail': 'neurips2024-notifications@openreview.net'}}, 'reviewers_message_submission_id': {'value': 'NeurIPS.cc/2024/Conference/Submission{number}/-/Message'}, 'reviewers_message_id': {'value': 'NeurIPS.cc/2024/Conference/Reviewers/-/Message'}, 'area_chairs_message_id': {'value': 'NeurIPS.cc/2024/Conference/Area_Chairs/-/Message'}, 'accept_decision_options': {'value': ['Accept (oral)', 'Accept (spotlight)', 'Accept (poster)']}, 'reviewers_conflict_policy': {'value': 'NeurIPS'}, 'reviewers_conflict_n_years': {'value': 3}, 'bid_name': {'value': 'Bid'}, 'area_chairs_conflict_policy': {'value': 'NeurIPS'}, 'area_chairs_conflict_n_years': {'value': 3}, 'comment_email_sacs': {'value': False}, 'enable_reviewers_reassignment': {'value': True}, 'deletion_expiration_id': {'value': 'NeurIPS.cc/2024/Conference/-/Deletion_Expiration'}, 'area_chairs_message_submission_id': {'value': 'NeurIPS.cc/2024/Conference/Submission{number}/Area_Chairs/-/Message'}, 'ethics_chairs_id': {'value': 'NeurIPS.cc/2024/Conference/Ethics_Chairs'}, 'ethics_chairs_name': {'value': 'Ethics_Chairs'}, 'ethics_reviewers_name': {'value': 'Ethics_Reviewers'}, 'ethics_review_name': {'value': 'Ethics_Review'}, 'anon_ethics_reviewer_name': {'value': 'Ethics_Reviewer_'}, 'release_submissions_to_ethics_chairs': {'value': True}, 'commitments_venue': {'value': False}, 'preferred_emails_groups': {'value': ['NeurIPS.cc/2024/Conference/Senior_Area_Chairs', 'NeurIPS.cc/2024/Conference/Area_Chairs', 'NeurIPS.cc/2024/Conference/Reviewers']}, 'preferred_emails_id': {'value': 'NeurIPS.cc/2024/Conference/-/Preferred_Emails'}, 'decision_heading_map': {'value': {'NeurIPS 2024 oral': 'Accept (oral)', 'NeurIPS 2024 spotlight': 'Accept (spotlight)', 'NeurIPS 2024 poster': 'Accept (poster)', 'Submitted to NeurIPS 2024': 'Reject'}}},cdate = 1709233852862,ddate = None,tcdate = 1709233852862,tmdate = 1728310268396,writers = ['NeurIPS.cc/2024/Conference'],members = ['NeurIPS.cc/2024/Conference/Program_Chairs'],readers = ['everyone'],nonreaders = [],signatures = ['~Super_User1'],signatories = ['NeurIPS.cc/2024/Conference'],anonids = None,web = \"// Webfield component\\nconst tabs = [{\\n  name: 'Your Consoles',\\n  type: 'consoles'\\n}]\\n\\nconst decisionHeadingMap = domain.content.decision_heading_map?.value\\n\\nif (decisionHeadingMap) {\\n  for (const [venue, tabName] of Object.entries(decisionHeadingMap)) {\\n    tabs.push({\\n      name:tabName,\\n      query: {\\n        'content.venue': venue\\n      },\\n      options: {\\n        hideWhenEmpty: true\\n      }\\n    })\\n  }\\n}\\n\\nif (domain.content.public_submissions.value && !decisionHeadingMap) {\\n  tabs.push({\\n    name: 'Active Submissions',\\n    query: {\\n      'content.venueid': domain.content.submission_venue_id?.value\\n    },\\n    options: {\\n      enableSearch: true\\n    }\\n  })\\n}\\n\\nif (domain.content.public_withdrawn_submissions?.value) {\\n  tabs.push({\\n    name: 'Withdrawn Submissions',\\n    query: {\\n      'content.venueid': domain.content.withdrawn_venue_id?.value\\n    },\\n    options: {\\n      hideWhenEmpty: true\\n    }\\n  })\\n}\\n\\nif (domain.content.public_desk_rejected_submissions?.value) {\\n  tabs.push({\\n    name: 'Desk Rejected Submissions',\\n    query: {\\n      'content.venueid': domain.content.desk_rejected_venue_id?.value\\n    },\\n    options: {\\n      hideWhenEmpty: true\\n    }\\n  })\\n}\\n\\ntabs.push({\\n  name: 'Recent Activity',\\n  type: 'activity'\\n})\\n\\nreturn {\\n  component: 'VenueHomepage',\\n  version: 1,\\n  properties: {\\n    header: {\\n      title: domain.content.title?.value,\\n      subtitle: domain.content.subtitle?.value,\\n      website: domain.content.website?.value,\\n      contact: domain.content.contact?.value,\\n      location: domain.content.location.value,\\n      instructions: domain.content.instructions.value,\\n      date: domain.content.start_date.value,\\n      deadline: domain.content.date.value\\n    },\\n    submissionId: domain.content.submission_id?.value,\\n    parentGroupId: domain.parent,\\n    tabs: tabs\\n  }\\n}\\n\",impersonators = None,host = 'NeurIPS.cc',domain = 'NeurIPS.cc/2024/Conference',parent = 'NeurIPS.cc/2024',deanonymizers = None,details = {'writable': False},anon_members = [])"
      ]
     },
     "execution_count": 19,
     "metadata": {},
     "output_type": "execute_result"
    }
   ],
   "source": [
    "group"
   ]
  },
  {
   "cell_type": "code",
   "execution_count": null,
   "metadata": {},
   "outputs": [],
   "source": []
  },
  {
   "cell_type": "code",
   "execution_count": null,
   "metadata": {},
   "outputs": [],
   "source": []
  },
  {
   "cell_type": "code",
   "execution_count": null,
   "metadata": {},
   "outputs": [],
   "source": []
  },
  {
   "cell_type": "code",
   "execution_count": null,
   "metadata": {},
   "outputs": [],
   "source": []
  }
 ],
 "metadata": {
  "kernelspec": {
   "display_name": ".venv",
   "language": "python",
   "name": "python3"
  },
  "language_info": {
   "codemirror_mode": {
    "name": "ipython",
    "version": 3
   },
   "file_extension": ".py",
   "mimetype": "text/x-python",
   "name": "python",
   "nbconvert_exporter": "python",
   "pygments_lexer": "ipython3",
   "version": "3.12.3"
  }
 },
 "nbformat": 4,
 "nbformat_minor": 2
}
