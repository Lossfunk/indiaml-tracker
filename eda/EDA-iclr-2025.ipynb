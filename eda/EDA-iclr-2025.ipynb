{
 "cells": [
  {
   "cell_type": "code",
   "execution_count": 2,
   "id": "99bad2f1",
   "metadata": {},
   "outputs": [
    {
     "name": "stdout",
     "output_type": "stream",
     "text": [
      "/Users/elvish/Documents/PersonalCODING/indiaml-tracker/eda/.venv/bin/python: No module named pip\n",
      "Note: you may need to restart the kernel to use updated packages.\n"
     ]
    }
   ],
   "source": [
    "%pip install pandas matplotlib"
   ]
  },
  {
   "cell_type": "code",
   "execution_count": 1,
   "id": "7fca24b6",
   "metadata": {},
   "outputs": [],
   "source": [
    "import pandas as pd\n",
    "import matplotlib\n",
    "import sqlite3\n",
    "import numpy as np\n",
    "\n",
    "import pandas as pd\n",
    "import plotly.express as px\n",
    "import pycountry"
   ]
  },
  {
   "cell_type": "code",
   "execution_count": 2,
   "id": "250c059c",
   "metadata": {},
   "outputs": [],
   "source": [
    "conn = sqlite3.Connection(\"venues-iclr-2025-v2.db\")"
   ]
  },
  {
   "cell_type": "code",
   "execution_count": 3,
   "id": "6dfd485b",
   "metadata": {},
   "outputs": [],
   "source": [
    "def get_df_by_conference(conf):\n",
    "    df = pd.read_sql_query(f\"SELECT author_id, full_name, openreview_id, affiliation_country FROM (SELECT * FROM paper_authors JOIN authors on author_id = authors.id JOIN papers on paper_id = papers.id JOIN venue_infos on papers.venue_info_id = venue_infos.id) where conference = '{conf}' and affiliation_country != 'UNK'\", conn)\n",
    "    return df\n",
    "\n",
    "\n",
    "# Function to convert country names to ISO Alpha-3 codes\n",
    "def country_to_iso(country_name):\n",
    "    try:\n",
    "        country = pycountry.countries.search_fuzzy(country_name)[0]\n",
    "        return country.alpha_3\n",
    "    except:\n",
    "        return None\n",
    "    \n",
    "    \n",
    "def plt_author_df(country_counts, title, threshold = 6000):\n",
    "\n",
    "    # # Count authors per country\n",
    "    # country_counts = df['affiliation_country'].value_counts().reset_index()\n",
    "    country_counts.columns = ['country', 'author_count']\n",
    "\n",
    "\n",
    "    # Add ISO codes to the DataFrame\n",
    "    country_counts['iso_code'] = country_counts['country'].apply(country_to_iso)\n",
    "\n",
    "    # Drop rows with missing ISO codes (optional: investigate these manually)\n",
    "    country_counts.dropna(subset=['iso_code'], inplace=True)\n",
    "\n",
    "\n",
    "    max_count = country_counts['author_count'].max()  # e.g., 6700\n",
    "\n",
    "    # Custom transformation: log below threshold, linear above\n",
    "    def transform_count(x):\n",
    "        if x <= threshold:\n",
    "            return np.log10(x + 1)  # Use log10 for interpretability\n",
    "        else:\n",
    "            return np.log10(threshold + 1) + (x - threshold) / (max_count - threshold)\n",
    "\n",
    "    # Apply the transformation and normalize to [0, 1]\n",
    "    country_counts['transformed'] = country_counts['author_count'].apply(transform_count)\n",
    "    t_min = np.log10(1)  # Minimum transformed value (log10(0+1)=0)\n",
    "    t_max = np.log10(threshold + 1) + 1  # Max transformed value (log10(6001) + 1)\n",
    "    country_counts['normalized'] = (country_counts['transformed'] - t_min) / (t_max - t_min)\n",
    "\n",
    "    # Define key ticks for the color bar (log below 6000, linear above)\n",
    "    tick_values = [1, 10, 100, 1000, threshold, max_count]\n",
    "    tick_transformed = [transform_count(v) for v in tick_values]\n",
    "    tick_normalized = [(t - t_min) / (t_max - t_min) for t in tick_transformed]\n",
    "\n",
    "\n",
    "    # Create the choropleth map\n",
    "    fig = px.choropleth(\n",
    "        country_counts,\n",
    "        locations=\"iso_code\",\n",
    "        color=\"normalized\",\n",
    "        hover_name=\"country\",\n",
    "        hover_data={\"author_count\": True, \"normalized\": False},  # Hide normalized values in hover\n",
    "        color_continuous_scale=px.colors.sequential.Mint,\n",
    "        title=title,\n",
    "        labels={'author_count': 'Authors'}\n",
    "    )\n",
    "\n",
    "    fig.update_coloraxes(\n",
    "        colorbar=dict(\n",
    "            title=\"Number of Authors\",\n",
    "            tickvals=tick_normalized,\n",
    "            ticktext=[str(v) for v in tick_values]\n",
    "        )\n",
    "    )\n",
    "\n",
    "    # Customize layout\n",
    "    fig.update_layout(\n",
    "        geo=dict(\n",
    "            showframe=False,\n",
    "            showcoastlines=False,\n",
    "            projection_type='natural earth'\n",
    "        ),\n",
    "        margin={\"r\":0, \"t\":40, \"l\":0, \"b\":0}\n",
    "    )\n",
    "    return fig\n"
   ]
  },
  {
   "cell_type": "markdown",
   "id": "a39876ac",
   "metadata": {},
   "source": [
    "## India at ICLR 2025 Conference"
   ]
  },
  {
   "cell_type": "code",
   "execution_count": null,
   "id": "5349b248",
   "metadata": {},
   "outputs": [
    {
     "data": {
      "application/vnd.plotly.v1+json": {
       "config": {
        "plotlyServerURL": "https://plot.ly"
       },
       "data": [
        {
         "coloraxis": "coloraxis",
         "customdata": {
          "bdata": "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",
          "dtype": "f8",
          "shape": "105, 2"
         },
         "geo": "geo",
         "hovertemplate": "<b>%{hovertext}</b><br><br>iso_code=%{location}<br>Authors=%{customdata[0]}<extra></extra>",
         "hovertext": [
          "US",
          "CN",
          "KR",
          "GB",
          "DE",
          "HK",
          "SG",
          "CA",
          "AU",
          "CH",
          "JP",
          "FR",
          "IL",
          "IN",
          "UK",
          "NL",
          "IT",
          "RU",
          "TW",
          "AE",
          "SA",
          "AT",
          "SE",
          "VN",
          "ES",
          "PL",
          "DK",
          "AI",
          "BE",
          "FI",
          "IR",
          "BR",
          "GR",
          "MO",
          "NZ",
          "NO",
          "CZ",
          "IE",
          "BD",
          "TR",
          "PT",
          "AM",
          "LU",
          "ZA",
          "QA",
          "BG",
          "CL",
          "MY",
          "MX",
          "ID",
          "KP",
          "HU",
          "SI",
          "EU",
          "UY",
          "EG",
          "MA",
          "SK",
          "EE",
          "CO",
          "PH",
          "HR",
          "TN",
          "CX",
          "PK",
          "AR",
          "TH",
          "LV",
          "ZW",
          "UA",
          "IO",
          "AF",
          "RW",
          "ML",
          "GE",
          "RS",
          "VG",
          "LI",
          "TD",
          "USA",
          "RO",
          "AL",
          "BN",
          "TZ",
          "ME",
          "ET",
          "PE",
          "CC",
          "LB",
          "PR",
          "NA",
          "South Korea",
          "KE",
          "",
          "RE",
          "Canada",
          "AS",
          "UG",
          "NG",
          "ED",
          "NP",
          "LT",
          "BY",
          "CY",
          "IQ"
         ],
         "locations": [
          "USA",
          "CHN",
          "KOR",
          "GBR",
          "DEU",
          "HKG",
          "SGP",
          "CAN",
          "AUS",
          "CHE",
          "JPN",
          "FRA",
          "ISR",
          "IND",
          "UGA",
          "NLD",
          "ITA",
          "RUS",
          "TWN",
          "ARE",
          "SAU",
          "AUT",
          "SWE",
          "VNM",
          "ESP",
          "POL",
          "DNK",
          "KNA",
          "BEL",
          "FIN",
          "IRN",
          "BRA",
          "GRC",
          "MCO",
          "NZL",
          "NOR",
          "CZE",
          "IRL",
          "BGD",
          "TUR",
          "PRT",
          "ARM",
          "LUX",
          "ZAF",
          "QAT",
          "BGR",
          "CHL",
          "MYS",
          "MEX",
          "IDN",
          "PRK",
          "HUN",
          "SVN",
          "REU",
          "URY",
          "EGY",
          "MAR",
          "SVK",
          "EST",
          "COL",
          "PHL",
          "HRV",
          "TUN",
          "CXR",
          "PAK",
          "ARG",
          "THA",
          "LVA",
          "ZWE",
          "UKR",
          "IOT",
          "AFG",
          "RWA",
          "MLI",
          "GEO",
          "SRB",
          "VGB",
          "LIE",
          "TCD",
          "USA",
          "ROU",
          "ALB",
          "BRN",
          "TZA",
          "MNE",
          "ETH",
          "PER",
          "CCK",
          "LBN",
          "PRI",
          "NAM",
          "KOR",
          "KEN",
          "GBR",
          "GBR",
          "CAN",
          "RUS",
          "UGA",
          "NGA",
          "GBR",
          "NPL",
          "LTU",
          "BLR",
          "CYP",
          "IRQ"
         ],
         "name": "",
         "type": "choropleth",
         "z": {
          "bdata": "AAAAAAAA8D+rRIeAz5HvPyRUSP8y5uU//JUI1+nK5T9+zTQoVsblP8qFdThdvuU/0jA/TPu65T89/PVRSXXlP7nRQRkUJuQ/yQ2MT7bJ4z8VwL7HHUPjP+7JhbcMA+M/4bSn7pSu4j9uxG9kKEviP8tyRfYp5eE/pA3jLHl/4T+DswBeBD/hP2d/x8noKOE/bbEiUNrd4D9EX/u/oaXgP5RP9dUTdN8/9IL2w7FN3j+GBYDZTDndP5BA+qJo3tw/HS8mgfpE3D/0r2TIYzncP7Y7Fl3Hf9s/sYJ6pi9l2z+wgc3Ly/XaP7xi3Rn9jNo/BbLDyANf2D8OZAip6QHYPwG/G038+9Y/WMAJtBHf1j/Men+ClMHWP8x6f4KUwdY/+v0Yn2lF1j/wemPIriTWP8hxlJ6VT9U/Ba9uo+LI0z/X5JzLNj3SP9fknMs2PdI/kU91Xr610T+RT3VevrXRPx26C1+0INE/PuNdxDDQ0D8+413EMNDQPz7jXcQw0NA/TAcBc+Szzj9MBwFz5LPOP3cZR0wt180/75P7VcfJyj82lMPh+4/JPzaUw+H7j8k/0Zbo9DAxyD8H1QjMfqPGPwfVCMx+o8Y/B9UIzH6jxj8H1QjMfqPGP2H82Zdj2MQ/YfzZl2PYxD+qYQOvYbnCP6phA69hucI/qmEDr2G5wj+qYQOvYbnCP6phA69hucI/qmEDr2G5wj+LZPBNyyDAP4tk8E3LIMA/i2TwTcsgwD82lMPh+4+5PzaUw+H7j7k/NpTD4fuPuT82lMPh+4+5PzaUw+H7j7k/NpTD4fuPuT82lMPh+4+5PzaUw+H7j7k/NpTD4fuPuT82lMPh+4+5PzaUw+H7j7k/NpTD4fuPuT82lMPh+4+5PzaUw+H7j7k/i2TwTcsgsD+LZPBNyyCwP4tk8E3LILA/i2TwTcsgsD+LZPBNyyCwP4tk8E3LILA/i2TwTcsgsD+LZPBNyyCwP4tk8E3LILA/i2TwTcsgsD+LZPBNyyCwP4tk8E3LILA/i2TwTcsgsD+LZPBNyyCwP4tk8E3LILA/i2TwTcsgsD+LZPBNyyCwP4tk8E3LILA/i2TwTcsgsD+LZPBNyyCwP4tk8E3LILA/",
          "dtype": "f8"
         }
        }
       ],
       "layout": {
        "coloraxis": {
         "colorbar": {
          "ticktext": [
           "1",
           "10",
           "100",
           "1000",
           "6000",
           "19303"
          ],
          "tickvals": [
           0.0630003991394849,
           0.21794557276990406,
           0.41946998096846466,
           0.6279392326202224,
           0.7907172041094275,
           1
          ],
          "title": {
           "text": "Number of Authors"
          }
         },
         "colorscale": [
          [
           0,
           "rgb(228, 241, 225)"
          ],
          [
           0.16666666666666666,
           "rgb(180, 217, 204)"
          ],
          [
           0.3333333333333333,
           "rgb(137, 192, 182)"
          ],
          [
           0.5,
           "rgb(99, 166, 160)"
          ],
          [
           0.6666666666666666,
           "rgb(68, 140, 138)"
          ],
          [
           0.8333333333333334,
           "rgb(40, 114, 116)"
          ],
          [
           1,
           "rgb(13, 88, 95)"
          ]
         ]
        },
        "geo": {
         "center": {},
         "domain": {
          "x": [
           0,
           1
          ],
          "y": [
           0,
           1
          ]
         },
         "projection": {
          "type": "natural earth"
         },
         "showcoastlines": false,
         "showframe": false
        },
        "legend": {
         "tracegroupgap": 0
        },
        "margin": {
         "b": 0,
         "l": 0,
         "r": 0,
         "t": 40
        },
        "template": {
         "data": {
          "bar": [
           {
            "error_x": {
             "color": "#2a3f5f"
            },
            "error_y": {
             "color": "#2a3f5f"
            },
            "marker": {
             "line": {
              "color": "#E5ECF6",
              "width": 0.5
             },
             "pattern": {
              "fillmode": "overlay",
              "size": 10,
              "solidity": 0.2
             }
            },
            "type": "bar"
           }
          ],
          "barpolar": [
           {
            "marker": {
             "line": {
              "color": "#E5ECF6",
              "width": 0.5
             },
             "pattern": {
              "fillmode": "overlay",
              "size": 10,
              "solidity": 0.2
             }
            },
            "type": "barpolar"
           }
          ],
          "carpet": [
           {
            "aaxis": {
             "endlinecolor": "#2a3f5f",
             "gridcolor": "white",
             "linecolor": "white",
             "minorgridcolor": "white",
             "startlinecolor": "#2a3f5f"
            },
            "baxis": {
             "endlinecolor": "#2a3f5f",
             "gridcolor": "white",
             "linecolor": "white",
             "minorgridcolor": "white",
             "startlinecolor": "#2a3f5f"
            },
            "type": "carpet"
           }
          ],
          "choropleth": [
           {
            "colorbar": {
             "outlinewidth": 0,
             "ticks": ""
            },
            "type": "choropleth"
           }
          ],
          "contour": [
           {
            "colorbar": {
             "outlinewidth": 0,
             "ticks": ""
            },
            "colorscale": [
             [
              0,
              "#0d0887"
             ],
             [
              0.1111111111111111,
              "#46039f"
             ],
             [
              0.2222222222222222,
              "#7201a8"
             ],
             [
              0.3333333333333333,
              "#9c179e"
             ],
             [
              0.4444444444444444,
              "#bd3786"
             ],
             [
              0.5555555555555556,
              "#d8576b"
             ],
             [
              0.6666666666666666,
              "#ed7953"
             ],
             [
              0.7777777777777778,
              "#fb9f3a"
             ],
             [
              0.8888888888888888,
              "#fdca26"
             ],
             [
              1,
              "#f0f921"
             ]
            ],
            "type": "contour"
           }
          ],
          "contourcarpet": [
           {
            "colorbar": {
             "outlinewidth": 0,
             "ticks": ""
            },
            "type": "contourcarpet"
           }
          ],
          "heatmap": [
           {
            "colorbar": {
             "outlinewidth": 0,
             "ticks": ""
            },
            "colorscale": [
             [
              0,
              "#0d0887"
             ],
             [
              0.1111111111111111,
              "#46039f"
             ],
             [
              0.2222222222222222,
              "#7201a8"
             ],
             [
              0.3333333333333333,
              "#9c179e"
             ],
             [
              0.4444444444444444,
              "#bd3786"
             ],
             [
              0.5555555555555556,
              "#d8576b"
             ],
             [
              0.6666666666666666,
              "#ed7953"
             ],
             [
              0.7777777777777778,
              "#fb9f3a"
             ],
             [
              0.8888888888888888,
              "#fdca26"
             ],
             [
              1,
              "#f0f921"
             ]
            ],
            "type": "heatmap"
           }
          ],
          "histogram": [
           {
            "marker": {
             "pattern": {
              "fillmode": "overlay",
              "size": 10,
              "solidity": 0.2
             }
            },
            "type": "histogram"
           }
          ],
          "histogram2d": [
           {
            "colorbar": {
             "outlinewidth": 0,
             "ticks": ""
            },
            "colorscale": [
             [
              0,
              "#0d0887"
             ],
             [
              0.1111111111111111,
              "#46039f"
             ],
             [
              0.2222222222222222,
              "#7201a8"
             ],
             [
              0.3333333333333333,
              "#9c179e"
             ],
             [
              0.4444444444444444,
              "#bd3786"
             ],
             [
              0.5555555555555556,
              "#d8576b"
             ],
             [
              0.6666666666666666,
              "#ed7953"
             ],
             [
              0.7777777777777778,
              "#fb9f3a"
             ],
             [
              0.8888888888888888,
              "#fdca26"
             ],
             [
              1,
              "#f0f921"
             ]
            ],
            "type": "histogram2d"
           }
          ],
          "histogram2dcontour": [
           {
            "colorbar": {
             "outlinewidth": 0,
             "ticks": ""
            },
            "colorscale": [
             [
              0,
              "#0d0887"
             ],
             [
              0.1111111111111111,
              "#46039f"
             ],
             [
              0.2222222222222222,
              "#7201a8"
             ],
             [
              0.3333333333333333,
              "#9c179e"
             ],
             [
              0.4444444444444444,
              "#bd3786"
             ],
             [
              0.5555555555555556,
              "#d8576b"
             ],
             [
              0.6666666666666666,
              "#ed7953"
             ],
             [
              0.7777777777777778,
              "#fb9f3a"
             ],
             [
              0.8888888888888888,
              "#fdca26"
             ],
             [
              1,
              "#f0f921"
             ]
            ],
            "type": "histogram2dcontour"
           }
          ],
          "mesh3d": [
           {
            "colorbar": {
             "outlinewidth": 0,
             "ticks": ""
            },
            "type": "mesh3d"
           }
          ],
          "parcoords": [
           {
            "line": {
             "colorbar": {
              "outlinewidth": 0,
              "ticks": ""
             }
            },
            "type": "parcoords"
           }
          ],
          "pie": [
           {
            "automargin": true,
            "type": "pie"
           }
          ],
          "scatter": [
           {
            "fillpattern": {
             "fillmode": "overlay",
             "size": 10,
             "solidity": 0.2
            },
            "type": "scatter"
           }
          ],
          "scatter3d": [
           {
            "line": {
             "colorbar": {
              "outlinewidth": 0,
              "ticks": ""
             }
            },
            "marker": {
             "colorbar": {
              "outlinewidth": 0,
              "ticks": ""
             }
            },
            "type": "scatter3d"
           }
          ],
          "scattercarpet": [
           {
            "marker": {
             "colorbar": {
              "outlinewidth": 0,
              "ticks": ""
             }
            },
            "type": "scattercarpet"
           }
          ],
          "scattergeo": [
           {
            "marker": {
             "colorbar": {
              "outlinewidth": 0,
              "ticks": ""
             }
            },
            "type": "scattergeo"
           }
          ],
          "scattergl": [
           {
            "marker": {
             "colorbar": {
              "outlinewidth": 0,
              "ticks": ""
             }
            },
            "type": "scattergl"
           }
          ],
          "scattermap": [
           {
            "marker": {
             "colorbar": {
              "outlinewidth": 0,
              "ticks": ""
             }
            },
            "type": "scattermap"
           }
          ],
          "scattermapbox": [
           {
            "marker": {
             "colorbar": {
              "outlinewidth": 0,
              "ticks": ""
             }
            },
            "type": "scattermapbox"
           }
          ],
          "scatterpolar": [
           {
            "marker": {
             "colorbar": {
              "outlinewidth": 0,
              "ticks": ""
             }
            },
            "type": "scatterpolar"
           }
          ],
          "scatterpolargl": [
           {
            "marker": {
             "colorbar": {
              "outlinewidth": 0,
              "ticks": ""
             }
            },
            "type": "scatterpolargl"
           }
          ],
          "scatterternary": [
           {
            "marker": {
             "colorbar": {
              "outlinewidth": 0,
              "ticks": ""
             }
            },
            "type": "scatterternary"
           }
          ],
          "surface": [
           {
            "colorbar": {
             "outlinewidth": 0,
             "ticks": ""
            },
            "colorscale": [
             [
              0,
              "#0d0887"
             ],
             [
              0.1111111111111111,
              "#46039f"
             ],
             [
              0.2222222222222222,
              "#7201a8"
             ],
             [
              0.3333333333333333,
              "#9c179e"
             ],
             [
              0.4444444444444444,
              "#bd3786"
             ],
             [
              0.5555555555555556,
              "#d8576b"
             ],
             [
              0.6666666666666666,
              "#ed7953"
             ],
             [
              0.7777777777777778,
              "#fb9f3a"
             ],
             [
              0.8888888888888888,
              "#fdca26"
             ],
             [
              1,
              "#f0f921"
             ]
            ],
            "type": "surface"
           }
          ],
          "table": [
           {
            "cells": {
             "fill": {
              "color": "#EBF0F8"
             },
             "line": {
              "color": "white"
             }
            },
            "header": {
             "fill": {
              "color": "#C8D4E3"
             },
             "line": {
              "color": "white"
             }
            },
            "type": "table"
           }
          ]
         },
         "layout": {
          "annotationdefaults": {
           "arrowcolor": "#2a3f5f",
           "arrowhead": 0,
           "arrowwidth": 1
          },
          "autotypenumbers": "strict",
          "coloraxis": {
           "colorbar": {
            "outlinewidth": 0,
            "ticks": ""
           }
          },
          "colorscale": {
           "diverging": [
            [
             0,
             "#8e0152"
            ],
            [
             0.1,
             "#c51b7d"
            ],
            [
             0.2,
             "#de77ae"
            ],
            [
             0.3,
             "#f1b6da"
            ],
            [
             0.4,
             "#fde0ef"
            ],
            [
             0.5,
             "#f7f7f7"
            ],
            [
             0.6,
             "#e6f5d0"
            ],
            [
             0.7,
             "#b8e186"
            ],
            [
             0.8,
             "#7fbc41"
            ],
            [
             0.9,
             "#4d9221"
            ],
            [
             1,
             "#276419"
            ]
           ],
           "sequential": [
            [
             0,
             "#0d0887"
            ],
            [
             0.1111111111111111,
             "#46039f"
            ],
            [
             0.2222222222222222,
             "#7201a8"
            ],
            [
             0.3333333333333333,
             "#9c179e"
            ],
            [
             0.4444444444444444,
             "#bd3786"
            ],
            [
             0.5555555555555556,
             "#d8576b"
            ],
            [
             0.6666666666666666,
             "#ed7953"
            ],
            [
             0.7777777777777778,
             "#fb9f3a"
            ],
            [
             0.8888888888888888,
             "#fdca26"
            ],
            [
             1,
             "#f0f921"
            ]
           ],
           "sequentialminus": [
            [
             0,
             "#0d0887"
            ],
            [
             0.1111111111111111,
             "#46039f"
            ],
            [
             0.2222222222222222,
             "#7201a8"
            ],
            [
             0.3333333333333333,
             "#9c179e"
            ],
            [
             0.4444444444444444,
             "#bd3786"
            ],
            [
             0.5555555555555556,
             "#d8576b"
            ],
            [
             0.6666666666666666,
             "#ed7953"
            ],
            [
             0.7777777777777778,
             "#fb9f3a"
            ],
            [
             0.8888888888888888,
             "#fdca26"
            ],
            [
             1,
             "#f0f921"
            ]
           ]
          },
          "colorway": [
           "#636efa",
           "#EF553B",
           "#00cc96",
           "#ab63fa",
           "#FFA15A",
           "#19d3f3",
           "#FF6692",
           "#B6E880",
           "#FF97FF",
           "#FECB52"
          ],
          "font": {
           "color": "#2a3f5f"
          },
          "geo": {
           "bgcolor": "white",
           "lakecolor": "white",
           "landcolor": "#E5ECF6",
           "showlakes": true,
           "showland": true,
           "subunitcolor": "white"
          },
          "hoverlabel": {
           "align": "left"
          },
          "hovermode": "closest",
          "mapbox": {
           "style": "light"
          },
          "paper_bgcolor": "white",
          "plot_bgcolor": "#E5ECF6",
          "polar": {
           "angularaxis": {
            "gridcolor": "white",
            "linecolor": "white",
            "ticks": ""
           },
           "bgcolor": "#E5ECF6",
           "radialaxis": {
            "gridcolor": "white",
            "linecolor": "white",
            "ticks": ""
           }
          },
          "scene": {
           "xaxis": {
            "backgroundcolor": "#E5ECF6",
            "gridcolor": "white",
            "gridwidth": 2,
            "linecolor": "white",
            "showbackground": true,
            "ticks": "",
            "zerolinecolor": "white"
           },
           "yaxis": {
            "backgroundcolor": "#E5ECF6",
            "gridcolor": "white",
            "gridwidth": 2,
            "linecolor": "white",
            "showbackground": true,
            "ticks": "",
            "zerolinecolor": "white"
           },
           "zaxis": {
            "backgroundcolor": "#E5ECF6",
            "gridcolor": "white",
            "gridwidth": 2,
            "linecolor": "white",
            "showbackground": true,
            "ticks": "",
            "zerolinecolor": "white"
           }
          },
          "shapedefaults": {
           "line": {
            "color": "#2a3f5f"
           }
          },
          "ternary": {
           "aaxis": {
            "gridcolor": "white",
            "linecolor": "white",
            "ticks": ""
           },
           "baxis": {
            "gridcolor": "white",
            "linecolor": "white",
            "ticks": ""
           },
           "bgcolor": "#E5ECF6",
           "caxis": {
            "gridcolor": "white",
            "linecolor": "white",
            "ticks": ""
           }
          },
          "title": {
           "x": 0.05
          },
          "xaxis": {
           "automargin": true,
           "gridcolor": "white",
           "linecolor": "white",
           "ticks": "",
           "title": {
            "standoff": 15
           },
           "zerolinecolor": "white",
           "zerolinewidth": 2
          },
          "yaxis": {
           "automargin": true,
           "gridcolor": "white",
           "linecolor": "white",
           "ticks": "",
           "title": {
            "standoff": 15
           },
           "zerolinecolor": "white",
           "zerolinewidth": 2
          }
         }
        },
        "title": {
         "text": "NeurIPS 2025 Conference, Number of Authors by Country"
        }
       }
      }
     },
     "metadata": {},
     "output_type": "display_data"
    }
   ],
   "source": [
    "df = get_df_by_conference('ICLR')\n",
    "country_counts = df['affiliation_country'].value_counts().reset_index()\n",
    "\n",
    "\n",
    "plt_author_df(country_counts, \"ICLR 2025 Conference, Number of Authors by Country\", threshold=6000)"
   ]
  },
  {
   "cell_type": "code",
   "execution_count": 5,
   "id": "13f4bce3",
   "metadata": {},
   "outputs": [],
   "source": [
    "def get_paper_counts_by_conference(conf):\n",
    "    query = f\"\"\"\n",
    "        SELECT affiliation_country, COUNT(DISTINCT paper_id) as paper_count \n",
    "        FROM (\n",
    "            SELECT * \n",
    "            FROM paper_authors \n",
    "            JOIN authors ON author_id = authors.id \n",
    "            JOIN papers ON paper_id = papers.id \n",
    "            JOIN venue_infos ON papers.venue_info_id = venue_infos.id\n",
    "        ) \n",
    "        WHERE conference = '{conf}' AND affiliation_country != 'UNK'\n",
    "        GROUP BY affiliation_country\n",
    "    \"\"\"\n",
    "    df = pd.read_sql_query(query, conn)\n",
    "    return df\n",
    "\n",
    "def plt_paper_df(paper_counts, title, threshold=1000):\n",
    "    # Rename columns for consistency\n",
    "    paper_counts = paper_counts.rename(columns={'affiliation_country': 'country', 'paper_count': 'count'})\n",
    "    \n",
    "    # Convert country names to ISO codes\n",
    "    paper_counts['iso_code'] = paper_counts['country'].apply(country_to_iso)\n",
    "    paper_counts.dropna(subset=['iso_code'], inplace=True)\n",
    "    \n",
    "    # Apply log-linear transformation\n",
    "    max_count = paper_counts['count'].max()\n",
    "    def transform_count(x):\n",
    "        if x <= threshold:\n",
    "            return np.log10(x + 1)\n",
    "        else:\n",
    "            return np.log10(threshold + 1) + (x - threshold) / (max_count - threshold)\n",
    "    \n",
    "    paper_counts['transformed'] = paper_counts['count'].apply(transform_count)\n",
    "    t_min = np.log10(1)\n",
    "    t_max = np.log10(threshold + 1) + 1\n",
    "    paper_counts['normalized'] = (paper_counts['transformed'] - t_min) / (t_max - t_min)\n",
    "    \n",
    "    # Generate ticks for color bar\n",
    "    tick_values = [1, 10, 100, threshold, max_count]\n",
    "    valid_ticks = [v for v in tick_values if v <= max_count]\n",
    "    if max_count not in valid_ticks:\n",
    "        valid_ticks.append(max_count)\n",
    "    valid_ticks = sorted(valid_ticks)\n",
    "    \n",
    "    tick_transformed = [transform_count(v) for v in valid_ticks]\n",
    "    tick_normalized = [(t - t_min) / (t_max - t_min) for t in tick_transformed]\n",
    "    \n",
    "    # Create choropleth map\n",
    "    fig = px.choropleth(\n",
    "        paper_counts,\n",
    "        locations=\"iso_code\",\n",
    "        color=\"normalized\",\n",
    "        hover_name=\"country\",\n",
    "        hover_data={\"count\": True, \"normalized\": False},\n",
    "        color_continuous_scale=px.colors.sequential.Mint,\n",
    "        title=title,\n",
    "        labels={'count': 'Papers'}\n",
    "    )\n",
    "    \n",
    "    fig.update_coloraxes(\n",
    "        colorbar=dict(\n",
    "            title=\"Number of Papers\",\n",
    "            tickvals=tick_normalized,\n",
    "            ticktext=[str(v) for v in valid_ticks]\n",
    "        )\n",
    "    )\n",
    "    \n",
    "    fig.update_layout(\n",
    "        geo=dict(\n",
    "            showframe=False,\n",
    "            showcoastlines=False,\n",
    "            projection_type='natural earth'\n",
    "        ),\n",
    "        margin={\"r\":0, \"t\":40, \"l\":0, \"b\":0}\n",
    "    )\n",
    "    return fig"
   ]
  },
  {
   "cell_type": "code",
   "execution_count": 13,
   "id": "0aa38ad2",
   "metadata": {},
   "outputs": [
    {
     "data": {
      "application/vnd.plotly.v1+json": {
       "config": {
        "plotlyServerURL": "https://plot.ly"
       },
       "data": [
        {
         "coloraxis": "coloraxis",
         "customdata": {
          "bdata": "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",
          "dtype": "f8",
          "shape": "105, 2"
         },
         "geo": "geo",
         "hovertemplate": "<b>%{hovertext}</b><br><br>iso_code=%{location}<br>Papers=%{customdata[0]}<extra></extra>",
         "hovertext": [
          "",
          "AE",
          "AF",
          "AI",
          "AL",
          "AM",
          "AR",
          "AS",
          "AT",
          "AU",
          "BD",
          "BE",
          "BG",
          "BN",
          "BR",
          "BY",
          "CA",
          "CC",
          "CH",
          "CL",
          "CN",
          "CO",
          "CX",
          "CY",
          "CZ",
          "Canada",
          "DE",
          "DK",
          "ED",
          "EE",
          "EG",
          "ES",
          "ET",
          "EU",
          "FI",
          "FR",
          "GB",
          "GE",
          "GR",
          "HK",
          "HR",
          "HU",
          "ID",
          "IE",
          "IL",
          "IN",
          "IO",
          "IQ",
          "IR",
          "IT",
          "JP",
          "KE",
          "KP",
          "KR",
          "LB",
          "LI",
          "LT",
          "LU",
          "LV",
          "MA",
          "ME",
          "ML",
          "MO",
          "MX",
          "MY",
          "NA",
          "NG",
          "NL",
          "NO",
          "NP",
          "NZ",
          "PE",
          "PH",
          "PK",
          "PL",
          "PR",
          "PT",
          "QA",
          "RE",
          "RO",
          "RS",
          "RU",
          "RW",
          "SA",
          "SE",
          "SG",
          "SI",
          "SK",
          "South Korea",
          "TD",
          "TH",
          "TN",
          "TR",
          "TW",
          "TZ",
          "UA",
          "UG",
          "UK",
          "US",
          "USA",
          "UY",
          "VG",
          "VN",
          "ZA",
          "ZW"
         ],
         "locations": [
          "GBR",
          "ARE",
          "AFG",
          "KNA",
          "ALB",
          "ARM",
          "ARG",
          "RUS",
          "AUT",
          "AUS",
          "BGD",
          "BEL",
          "BGR",
          "BRN",
          "BRA",
          "BLR",
          "CAN",
          "CCK",
          "CHE",
          "CHL",
          "CHN",
          "COL",
          "CXR",
          "CYP",
          "CZE",
          "CAN",
          "DEU",
          "DNK",
          "GBR",
          "EST",
          "EGY",
          "ESP",
          "ETH",
          "REU",
          "FIN",
          "FRA",
          "GBR",
          "GEO",
          "GRC",
          "HKG",
          "HRV",
          "HUN",
          "IDN",
          "IRL",
          "ISR",
          "IND",
          "IOT",
          "IRQ",
          "IRN",
          "ITA",
          "JPN",
          "KEN",
          "PRK",
          "KOR",
          "LBN",
          "LIE",
          "LTU",
          "LUX",
          "LVA",
          "MAR",
          "MNE",
          "MLI",
          "MCO",
          "MEX",
          "MYS",
          "NAM",
          "NGA",
          "NLD",
          "NOR",
          "NPL",
          "NZL",
          "PER",
          "PHL",
          "PAK",
          "POL",
          "PRI",
          "PRT",
          "QAT",
          "GBR",
          "ROU",
          "SRB",
          "RUS",
          "RWA",
          "SAU",
          "SWE",
          "SGP",
          "SVN",
          "SVK",
          "KOR",
          "TCD",
          "THA",
          "TUN",
          "TUR",
          "TWN",
          "TZA",
          "UKR",
          "UGA",
          "UGA",
          "USA",
          "USA",
          "URY",
          "VGB",
          "VNM",
          "ZAF",
          "ZWE"
         ],
         "name": "",
         "type": "choropleth",
         "z": {
          "bdata": "x1LgT4pDsz+VdKWCmKzhP3jUUnFOiL4/JX/qxtUv3z941FJxToi+P3jUUnFOiM4/x1LgT4pDsz/HUuBPikOzP1gngc0ba90/fKGn+jgn5T+Ro5aFN9LRP/XMhq38c9s/kaOWhTfS0T/HUuBPikOzP8EVQ4bqJtc/x1LgT4pDsz97AxwDVbXmP8dS4E+KQ7M/3iYC6TbO5D+C3kTE2EPRP2b09z2X9+0/oJOZYOzlyD/YlX1JV13GP8dS4E+KQ7M/T/SuzHDQ1D/HUuBPikOzP81V4OcgwuY/KnzQd0/l3D/HUuBPikOzP8dS4E+KQ8M/x1LgT4pDwz95LsBxyjbdP8dS4E+KQ7M/KnzQd0/lzD/LmTv39SHaPxlT0bT/5+M/EDuOitfP5z941FJxToi+P9iVfUlXXdY/nwaJkqdr5z941FJxToi+P6CTmWDs5cg/oJOZYOzlyD/BFUOG6ibXP4xAr5ljk+I/mnE2nrW44j941FJxToi+P8dS4E+KQ7M/Wx/+1Drm1j/qgj1ZAErhPy/c8jMo+eM/x1LgT4pDsz+Ro5aFN9LRP3BRrtpD/eU/x1LgT4pDsz/HUuBPikOzP8dS4E+KQ7M/cZBf4xSp0D941FJxToi+P6CTmWDs5cg/x1LgT4pDsz941FJxToi+P/DAVGsXRtk/vNilvEoKyz+Ro5aFN9LRP8dS4E+KQ7M/x1LgT4pDsz877uq0l4biP+k6vA1VZdc/x1LgT4pDsz9RXag1X6/TP8dS4E+KQ7M/2JV9SVddxj941FJxToi+Pyg1aN3Scto/x1LgT4pDsz+Ro5aFN9LRPzu/bXEc/88/x1LgT4pDsz941FJxToi+P3jUUnFOiL4/uzUrWzJM4D/HUuBPikOzP1mwWwEIft8/a6jhcO6d3T+TC3ygHP3mP9iVfUlXXcY/x1LgT4pDwz/HUuBPikOzP3jUUnFOiL4/x1LgT4pDwz941FJxToi+P+5+ocwJFdQ/rfoIHDzt3z/HUuBPikOzP3jUUnFOiL4/x1LgT4pDsz/ufqHMCRXkPwAAAAAAAPA/eNRScU6Ivj/HUuBPikOzP8dS4E+KQ7M/7Q//+Nas3D941FJxTojOP8dS4E+KQ8M/",
          "dtype": "f8"
         }
        }
       ],
       "layout": {
        "coloraxis": {
         "colorbar": {
          "ticktext": [
           "1",
           "10",
           "100",
           "1000",
           "5415"
          ],
          "tickvals": [
           0.07524933290580825,
           0.2603199215357171,
           0.501025972422865,
           0.7500271268986634,
           1
          ],
          "title": {
           "text": "Number of Papers"
          }
         },
         "colorscale": [
          [
           0,
           "rgb(228, 241, 225)"
          ],
          [
           0.16666666666666666,
           "rgb(180, 217, 204)"
          ],
          [
           0.3333333333333333,
           "rgb(137, 192, 182)"
          ],
          [
           0.5,
           "rgb(99, 166, 160)"
          ],
          [
           0.6666666666666666,
           "rgb(68, 140, 138)"
          ],
          [
           0.8333333333333334,
           "rgb(40, 114, 116)"
          ],
          [
           1,
           "rgb(13, 88, 95)"
          ]
         ]
        },
        "geo": {
         "center": {},
         "domain": {
          "x": [
           0,
           1
          ],
          "y": [
           0,
           1
          ]
         },
         "projection": {
          "type": "natural earth"
         },
         "showcoastlines": false,
         "showframe": false
        },
        "legend": {
         "tracegroupgap": 0
        },
        "margin": {
         "b": 0,
         "l": 0,
         "r": 0,
         "t": 40
        },
        "template": {
         "data": {
          "bar": [
           {
            "error_x": {
             "color": "#2a3f5f"
            },
            "error_y": {
             "color": "#2a3f5f"
            },
            "marker": {
             "line": {
              "color": "#E5ECF6",
              "width": 0.5
             },
             "pattern": {
              "fillmode": "overlay",
              "size": 10,
              "solidity": 0.2
             }
            },
            "type": "bar"
           }
          ],
          "barpolar": [
           {
            "marker": {
             "line": {
              "color": "#E5ECF6",
              "width": 0.5
             },
             "pattern": {
              "fillmode": "overlay",
              "size": 10,
              "solidity": 0.2
             }
            },
            "type": "barpolar"
           }
          ],
          "carpet": [
           {
            "aaxis": {
             "endlinecolor": "#2a3f5f",
             "gridcolor": "white",
             "linecolor": "white",
             "minorgridcolor": "white",
             "startlinecolor": "#2a3f5f"
            },
            "baxis": {
             "endlinecolor": "#2a3f5f",
             "gridcolor": "white",
             "linecolor": "white",
             "minorgridcolor": "white",
             "startlinecolor": "#2a3f5f"
            },
            "type": "carpet"
           }
          ],
          "choropleth": [
           {
            "colorbar": {
             "outlinewidth": 0,
             "ticks": ""
            },
            "type": "choropleth"
           }
          ],
          "contour": [
           {
            "colorbar": {
             "outlinewidth": 0,
             "ticks": ""
            },
            "colorscale": [
             [
              0,
              "#0d0887"
             ],
             [
              0.1111111111111111,
              "#46039f"
             ],
             [
              0.2222222222222222,
              "#7201a8"
             ],
             [
              0.3333333333333333,
              "#9c179e"
             ],
             [
              0.4444444444444444,
              "#bd3786"
             ],
             [
              0.5555555555555556,
              "#d8576b"
             ],
             [
              0.6666666666666666,
              "#ed7953"
             ],
             [
              0.7777777777777778,
              "#fb9f3a"
             ],
             [
              0.8888888888888888,
              "#fdca26"
             ],
             [
              1,
              "#f0f921"
             ]
            ],
            "type": "contour"
           }
          ],
          "contourcarpet": [
           {
            "colorbar": {
             "outlinewidth": 0,
             "ticks": ""
            },
            "type": "contourcarpet"
           }
          ],
          "heatmap": [
           {
            "colorbar": {
             "outlinewidth": 0,
             "ticks": ""
            },
            "colorscale": [
             [
              0,
              "#0d0887"
             ],
             [
              0.1111111111111111,
              "#46039f"
             ],
             [
              0.2222222222222222,
              "#7201a8"
             ],
             [
              0.3333333333333333,
              "#9c179e"
             ],
             [
              0.4444444444444444,
              "#bd3786"
             ],
             [
              0.5555555555555556,
              "#d8576b"
             ],
             [
              0.6666666666666666,
              "#ed7953"
             ],
             [
              0.7777777777777778,
              "#fb9f3a"
             ],
             [
              0.8888888888888888,
              "#fdca26"
             ],
             [
              1,
              "#f0f921"
             ]
            ],
            "type": "heatmap"
           }
          ],
          "histogram": [
           {
            "marker": {
             "pattern": {
              "fillmode": "overlay",
              "size": 10,
              "solidity": 0.2
             }
            },
            "type": "histogram"
           }
          ],
          "histogram2d": [
           {
            "colorbar": {
             "outlinewidth": 0,
             "ticks": ""
            },
            "colorscale": [
             [
              0,
              "#0d0887"
             ],
             [
              0.1111111111111111,
              "#46039f"
             ],
             [
              0.2222222222222222,
              "#7201a8"
             ],
             [
              0.3333333333333333,
              "#9c179e"
             ],
             [
              0.4444444444444444,
              "#bd3786"
             ],
             [
              0.5555555555555556,
              "#d8576b"
             ],
             [
              0.6666666666666666,
              "#ed7953"
             ],
             [
              0.7777777777777778,
              "#fb9f3a"
             ],
             [
              0.8888888888888888,
              "#fdca26"
             ],
             [
              1,
              "#f0f921"
             ]
            ],
            "type": "histogram2d"
           }
          ],
          "histogram2dcontour": [
           {
            "colorbar": {
             "outlinewidth": 0,
             "ticks": ""
            },
            "colorscale": [
             [
              0,
              "#0d0887"
             ],
             [
              0.1111111111111111,
              "#46039f"
             ],
             [
              0.2222222222222222,
              "#7201a8"
             ],
             [
              0.3333333333333333,
              "#9c179e"
             ],
             [
              0.4444444444444444,
              "#bd3786"
             ],
             [
              0.5555555555555556,
              "#d8576b"
             ],
             [
              0.6666666666666666,
              "#ed7953"
             ],
             [
              0.7777777777777778,
              "#fb9f3a"
             ],
             [
              0.8888888888888888,
              "#fdca26"
             ],
             [
              1,
              "#f0f921"
             ]
            ],
            "type": "histogram2dcontour"
           }
          ],
          "mesh3d": [
           {
            "colorbar": {
             "outlinewidth": 0,
             "ticks": ""
            },
            "type": "mesh3d"
           }
          ],
          "parcoords": [
           {
            "line": {
             "colorbar": {
              "outlinewidth": 0,
              "ticks": ""
             }
            },
            "type": "parcoords"
           }
          ],
          "pie": [
           {
            "automargin": true,
            "type": "pie"
           }
          ],
          "scatter": [
           {
            "fillpattern": {
             "fillmode": "overlay",
             "size": 10,
             "solidity": 0.2
            },
            "type": "scatter"
           }
          ],
          "scatter3d": [
           {
            "line": {
             "colorbar": {
              "outlinewidth": 0,
              "ticks": ""
             }
            },
            "marker": {
             "colorbar": {
              "outlinewidth": 0,
              "ticks": ""
             }
            },
            "type": "scatter3d"
           }
          ],
          "scattercarpet": [
           {
            "marker": {
             "colorbar": {
              "outlinewidth": 0,
              "ticks": ""
             }
            },
            "type": "scattercarpet"
           }
          ],
          "scattergeo": [
           {
            "marker": {
             "colorbar": {
              "outlinewidth": 0,
              "ticks": ""
             }
            },
            "type": "scattergeo"
           }
          ],
          "scattergl": [
           {
            "marker": {
             "colorbar": {
              "outlinewidth": 0,
              "ticks": ""
             }
            },
            "type": "scattergl"
           }
          ],
          "scattermap": [
           {
            "marker": {
             "colorbar": {
              "outlinewidth": 0,
              "ticks": ""
             }
            },
            "type": "scattermap"
           }
          ],
          "scattermapbox": [
           {
            "marker": {
             "colorbar": {
              "outlinewidth": 0,
              "ticks": ""
             }
            },
            "type": "scattermapbox"
           }
          ],
          "scatterpolar": [
           {
            "marker": {
             "colorbar": {
              "outlinewidth": 0,
              "ticks": ""
             }
            },
            "type": "scatterpolar"
           }
          ],
          "scatterpolargl": [
           {
            "marker": {
             "colorbar": {
              "outlinewidth": 0,
              "ticks": ""
             }
            },
            "type": "scatterpolargl"
           }
          ],
          "scatterternary": [
           {
            "marker": {
             "colorbar": {
              "outlinewidth": 0,
              "ticks": ""
             }
            },
            "type": "scatterternary"
           }
          ],
          "surface": [
           {
            "colorbar": {
             "outlinewidth": 0,
             "ticks": ""
            },
            "colorscale": [
             [
              0,
              "#0d0887"
             ],
             [
              0.1111111111111111,
              "#46039f"
             ],
             [
              0.2222222222222222,
              "#7201a8"
             ],
             [
              0.3333333333333333,
              "#9c179e"
             ],
             [
              0.4444444444444444,
              "#bd3786"
             ],
             [
              0.5555555555555556,
              "#d8576b"
             ],
             [
              0.6666666666666666,
              "#ed7953"
             ],
             [
              0.7777777777777778,
              "#fb9f3a"
             ],
             [
              0.8888888888888888,
              "#fdca26"
             ],
             [
              1,
              "#f0f921"
             ]
            ],
            "type": "surface"
           }
          ],
          "table": [
           {
            "cells": {
             "fill": {
              "color": "#EBF0F8"
             },
             "line": {
              "color": "white"
             }
            },
            "header": {
             "fill": {
              "color": "#C8D4E3"
             },
             "line": {
              "color": "white"
             }
            },
            "type": "table"
           }
          ]
         },
         "layout": {
          "annotationdefaults": {
           "arrowcolor": "#2a3f5f",
           "arrowhead": 0,
           "arrowwidth": 1
          },
          "autotypenumbers": "strict",
          "coloraxis": {
           "colorbar": {
            "outlinewidth": 0,
            "ticks": ""
           }
          },
          "colorscale": {
           "diverging": [
            [
             0,
             "#8e0152"
            ],
            [
             0.1,
             "#c51b7d"
            ],
            [
             0.2,
             "#de77ae"
            ],
            [
             0.3,
             "#f1b6da"
            ],
            [
             0.4,
             "#fde0ef"
            ],
            [
             0.5,
             "#f7f7f7"
            ],
            [
             0.6,
             "#e6f5d0"
            ],
            [
             0.7,
             "#b8e186"
            ],
            [
             0.8,
             "#7fbc41"
            ],
            [
             0.9,
             "#4d9221"
            ],
            [
             1,
             "#276419"
            ]
           ],
           "sequential": [
            [
             0,
             "#0d0887"
            ],
            [
             0.1111111111111111,
             "#46039f"
            ],
            [
             0.2222222222222222,
             "#7201a8"
            ],
            [
             0.3333333333333333,
             "#9c179e"
            ],
            [
             0.4444444444444444,
             "#bd3786"
            ],
            [
             0.5555555555555556,
             "#d8576b"
            ],
            [
             0.6666666666666666,
             "#ed7953"
            ],
            [
             0.7777777777777778,
             "#fb9f3a"
            ],
            [
             0.8888888888888888,
             "#fdca26"
            ],
            [
             1,
             "#f0f921"
            ]
           ],
           "sequentialminus": [
            [
             0,
             "#0d0887"
            ],
            [
             0.1111111111111111,
             "#46039f"
            ],
            [
             0.2222222222222222,
             "#7201a8"
            ],
            [
             0.3333333333333333,
             "#9c179e"
            ],
            [
             0.4444444444444444,
             "#bd3786"
            ],
            [
             0.5555555555555556,
             "#d8576b"
            ],
            [
             0.6666666666666666,
             "#ed7953"
            ],
            [
             0.7777777777777778,
             "#fb9f3a"
            ],
            [
             0.8888888888888888,
             "#fdca26"
            ],
            [
             1,
             "#f0f921"
            ]
           ]
          },
          "colorway": [
           "#636efa",
           "#EF553B",
           "#00cc96",
           "#ab63fa",
           "#FFA15A",
           "#19d3f3",
           "#FF6692",
           "#B6E880",
           "#FF97FF",
           "#FECB52"
          ],
          "font": {
           "color": "#2a3f5f"
          },
          "geo": {
           "bgcolor": "white",
           "lakecolor": "white",
           "landcolor": "#E5ECF6",
           "showlakes": true,
           "showland": true,
           "subunitcolor": "white"
          },
          "hoverlabel": {
           "align": "left"
          },
          "hovermode": "closest",
          "mapbox": {
           "style": "light"
          },
          "paper_bgcolor": "white",
          "plot_bgcolor": "#E5ECF6",
          "polar": {
           "angularaxis": {
            "gridcolor": "white",
            "linecolor": "white",
            "ticks": ""
           },
           "bgcolor": "#E5ECF6",
           "radialaxis": {
            "gridcolor": "white",
            "linecolor": "white",
            "ticks": ""
           }
          },
          "scene": {
           "xaxis": {
            "backgroundcolor": "#E5ECF6",
            "gridcolor": "white",
            "gridwidth": 2,
            "linecolor": "white",
            "showbackground": true,
            "ticks": "",
            "zerolinecolor": "white"
           },
           "yaxis": {
            "backgroundcolor": "#E5ECF6",
            "gridcolor": "white",
            "gridwidth": 2,
            "linecolor": "white",
            "showbackground": true,
            "ticks": "",
            "zerolinecolor": "white"
           },
           "zaxis": {
            "backgroundcolor": "#E5ECF6",
            "gridcolor": "white",
            "gridwidth": 2,
            "linecolor": "white",
            "showbackground": true,
            "ticks": "",
            "zerolinecolor": "white"
           }
          },
          "shapedefaults": {
           "line": {
            "color": "#2a3f5f"
           }
          },
          "ternary": {
           "aaxis": {
            "gridcolor": "white",
            "linecolor": "white",
            "ticks": ""
           },
           "baxis": {
            "gridcolor": "white",
            "linecolor": "white",
            "ticks": ""
           },
           "bgcolor": "#E5ECF6",
           "caxis": {
            "gridcolor": "white",
            "linecolor": "white",
            "ticks": ""
           }
          },
          "title": {
           "x": 0.05
          },
          "xaxis": {
           "automargin": true,
           "gridcolor": "white",
           "linecolor": "white",
           "ticks": "",
           "title": {
            "standoff": 15
           },
           "zerolinecolor": "white",
           "zerolinewidth": 2
          },
          "yaxis": {
           "automargin": true,
           "gridcolor": "white",
           "linecolor": "white",
           "ticks": "",
           "title": {
            "standoff": 15
           },
           "zerolinecolor": "white",
           "zerolinewidth": 2
          }
         }
        },
        "title": {
         "text": "Paper Distribution by Country at ICLR 2025"
        }
       }
      }
     },
     "metadata": {},
     "output_type": "display_data"
    }
   ],
   "source": [
    "conf = 'ICLR'\n",
    "paper_counts_df = get_paper_counts_by_conference(conf)\n",
    "\n",
    "paper_counts_df.to_json(\"neurips-2024-cc-papers.json\", orient=\"records\")\n",
    "\n",
    "# Generate and show the plot\n",
    "fig = plt_paper_df(paper_counts_df, f'Paper Distribution by Country at {conf} 2025', threshold=1000)\n",
    "fig.show()"
   ]
  },
  {
   "cell_type": "markdown",
   "id": "94363569",
   "metadata": {},
   "source": []
  },
  {
   "cell_type": "code",
   "execution_count": 14,
   "id": "fdadabba",
   "metadata": {},
   "outputs": [],
   "source": [
    "squeel = \"\"\"SELECT title, paper_id, pdf_url, full_name, position, affiliation_name, affiliation_domain, affiliation_country FROM ( SELECT * \n",
    "FROM paper_authors \n",
    "JOIN authors ON author_id = authors.id \n",
    "JOIN papers ON paper_id = papers.id \n",
    "JOIN venue_infos ON papers.venue_info_id = venue_infos.id)\n",
    "\n",
    "WHERE affiliation_country = 'IN'\n",
    "and conference = 'NeurIPS'\n",
    "and year = '2024'\n",
    "and track = 'Conference';\n",
    "\"\"\"\n",
    "\n",
    "\n",
    "ddf = pd.read_sql_query(squeel, conn)\n",
    "top_indian_authors = ddf[(ddf['position'] == 0) & (ddf['affiliation_country'] == 'IN')]\n",
    "\n",
    "papers_with_top_indian_authors = top_indian_authors[['title', 'paper_id', 'pdf_url', 'full_name']]\n",
    "papers_with_top_indian_authors.loc[:, \"pdf_url\"] = \"https://openreview.net\" + papers_with_top_indian_authors[\"pdf_url\"]"
   ]
  },
  {
   "cell_type": "code",
   "execution_count": 15,
   "id": "06d78d89",
   "metadata": {},
   "outputs": [],
   "source": [
    "def process_papers(ddf, cc='IN'):\n",
    "    filtered_papers = []\n",
    "    \n",
    "    # Group by paper_id to process each paper individually\n",
    "    grouped = ddf.groupby('paper_id')\n",
    "    \n",
    "    for paper_id, group in grouped:\n",
    "        paper_title = group['title'].iloc[0]\n",
    "        pdf_url = group['pdf_url'].iloc[0]\n",
    "        paper_id = group['paper_id'].iloc[0]\n",
    "        authors = group[['full_name', 'openreview_id', 'affiliation_name', 'affiliation_domain', 'affiliation_country', 'position']].drop_duplicates()\n",
    "        \n",
    "        # Filter authors from India\n",
    "        indian_authors = authors[authors['affiliation_country'] == cc]\n",
    "        \n",
    "        if not indian_authors.empty:\n",
    "            # Create author list\n",
    "            author_list = authors.apply(lambda row: {\n",
    "                'name': row['full_name'],\n",
    "                'openreview_id': row['openreview_id'],\n",
    "                'affiliation_name': row['affiliation_name'],\n",
    "                'affiliation_domain': row['affiliation_domain'],\n",
    "                'affiliation_country': row['affiliation_country']\n",
    "            }, axis=1).tolist()\n",
    "            \n",
    "            # Check if top author is from India\n",
    "            top_author_from_india = (authors.sort_values(by='position').iloc[0]['affiliation_country'] == cc)\n",
    "            \n",
    "            # Check if majority authors are from India\n",
    "            majority_authors_from_india = len(indian_authors) / len(authors) >= 0.5\n",
    "            \n",
    "            filtered_papers.append({\n",
    "                'paper_title': paper_title,\n",
    "                'paper_id': paper_id,\n",
    "                'pdf_url': pdf_url,\n",
    "                'author_list': author_list,\n",
    "                'top_author_from_india': top_author_from_india,\n",
    "                'majority_authors_from_india': majority_authors_from_india\n",
    "            })\n",
    "    \n",
    "    return pd.DataFrame(filtered_papers)"
   ]
  },
  {
   "cell_type": "code",
   "execution_count": 10,
   "id": "cb1c28c4",
   "metadata": {},
   "outputs": [
    {
     "ename": "KeyError",
     "evalue": "'pdf_url'",
     "output_type": "error",
     "traceback": [
      "\u001b[31m---------------------------------------------------------------------------\u001b[39m",
      "\u001b[31mKeyError\u001b[39m                                  Traceback (most recent call last)",
      "\u001b[36mCell\u001b[39m\u001b[36m \u001b[39m\u001b[32mIn[10]\u001b[39m\u001b[32m, line 16\u001b[39m\n\u001b[32m     12\u001b[39m ddf = pd.read_sql_query(squeel, conn)\n\u001b[32m     14\u001b[39m neurips_df = process_papers(ddf)\n\u001b[32m---> \u001b[39m\u001b[32m16\u001b[39m neurips_df[\u001b[33m\"\u001b[39m\u001b[33mpdf_url\u001b[39m\u001b[33m\"\u001b[39m] = \u001b[33m\"\u001b[39m\u001b[33mhttp://openreview.net\u001b[39m\u001b[33m\"\u001b[39m+ \u001b[43mneurips_df\u001b[49m\u001b[43m[\u001b[49m\u001b[33;43m\"\u001b[39;49m\u001b[33;43mpdf_url\u001b[39;49m\u001b[33;43m\"\u001b[39;49m\u001b[43m]\u001b[49m\n\u001b[32m     18\u001b[39m neurips_df.to_json(\u001b[33m\"\u001b[39m\u001b[33miclr-2025-india.json\u001b[39m\u001b[33m\"\u001b[39m, orient=\u001b[33m\"\u001b[39m\u001b[33mrecords\u001b[39m\u001b[33m\"\u001b[39m)\n\u001b[32m     20\u001b[39m neurips_df\n",
      "\u001b[36mFile \u001b[39m\u001b[32m~/Documents/PersonalCODING/indiaml-tracker/indiaml/.venv/lib/python3.12/site-packages/pandas/core/frame.py:4102\u001b[39m, in \u001b[36mDataFrame.__getitem__\u001b[39m\u001b[34m(self, key)\u001b[39m\n\u001b[32m   4100\u001b[39m \u001b[38;5;28;01mif\u001b[39;00m \u001b[38;5;28mself\u001b[39m.columns.nlevels > \u001b[32m1\u001b[39m:\n\u001b[32m   4101\u001b[39m     \u001b[38;5;28;01mreturn\u001b[39;00m \u001b[38;5;28mself\u001b[39m._getitem_multilevel(key)\n\u001b[32m-> \u001b[39m\u001b[32m4102\u001b[39m indexer = \u001b[38;5;28;43mself\u001b[39;49m\u001b[43m.\u001b[49m\u001b[43mcolumns\u001b[49m\u001b[43m.\u001b[49m\u001b[43mget_loc\u001b[49m\u001b[43m(\u001b[49m\u001b[43mkey\u001b[49m\u001b[43m)\u001b[49m\n\u001b[32m   4103\u001b[39m \u001b[38;5;28;01mif\u001b[39;00m is_integer(indexer):\n\u001b[32m   4104\u001b[39m     indexer = [indexer]\n",
      "\u001b[36mFile \u001b[39m\u001b[32m~/Documents/PersonalCODING/indiaml-tracker/indiaml/.venv/lib/python3.12/site-packages/pandas/core/indexes/range.py:417\u001b[39m, in \u001b[36mRangeIndex.get_loc\u001b[39m\u001b[34m(self, key)\u001b[39m\n\u001b[32m    415\u001b[39m         \u001b[38;5;28;01mraise\u001b[39;00m \u001b[38;5;167;01mKeyError\u001b[39;00m(key) \u001b[38;5;28;01mfrom\u001b[39;00m\u001b[38;5;250m \u001b[39m\u001b[34;01merr\u001b[39;00m\n\u001b[32m    416\u001b[39m \u001b[38;5;28;01mif\u001b[39;00m \u001b[38;5;28misinstance\u001b[39m(key, Hashable):\n\u001b[32m--> \u001b[39m\u001b[32m417\u001b[39m     \u001b[38;5;28;01mraise\u001b[39;00m \u001b[38;5;167;01mKeyError\u001b[39;00m(key)\n\u001b[32m    418\u001b[39m \u001b[38;5;28mself\u001b[39m._check_indexing_error(key)\n\u001b[32m    419\u001b[39m \u001b[38;5;28;01mraise\u001b[39;00m \u001b[38;5;167;01mKeyError\u001b[39;00m(key)\n",
      "\u001b[31mKeyError\u001b[39m: 'pdf_url'"
     ]
    }
   ],
   "source": [
    "squeel = \"\"\"SELECT title, paper_id, pdf_url, full_name, openreview_id, position, affiliation_name, affiliation_domain, affiliation_country FROM ( SELECT * \n",
    "FROM paper_authors \n",
    "JOIN authors ON author_id = authors.id \n",
    "JOIN papers ON paper_id = papers.id \n",
    "JOIN venue_infos ON papers.venue_info_id = venue_infos.id)\n",
    "\n",
    "WHERE conference = 'NeurIPS'\n",
    "and year = '2024'\n",
    "and track = 'Conference';\n",
    "\"\"\"\n",
    "\n",
    "ddf = pd.read_sql_query(squeel, conn)\n",
    "\n",
    "neurips_df = process_papers(ddf)\n",
    "\n",
    "neurips_df[\"pdf_url\"] = \"http://openreview.net\"+ neurips_df[\"pdf_url\"]\n",
    "\n",
    "neurips_df.to_json(\"iclr-2025-india.json\", orient=\"records\")\n",
    "\n",
    "neurips_df"
   ]
  },
  {
   "cell_type": "code",
   "execution_count": null,
   "id": "2cb1c3c3",
   "metadata": {},
   "outputs": [],
   "source": []
  }
 ],
 "metadata": {
  "kernelspec": {
   "display_name": ".venv",
   "language": "python",
   "name": "python3"
  },
  "language_info": {
   "codemirror_mode": {
    "name": "ipython",
    "version": 3
   },
   "file_extension": ".py",
   "mimetype": "text/x-python",
   "name": "python",
   "nbconvert_exporter": "python",
   "pygments_lexer": "ipython3",
   "version": "3.12.3"
  }
 },
 "nbformat": 4,
 "nbformat_minor": 5
}
