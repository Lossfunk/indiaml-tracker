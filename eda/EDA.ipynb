{
 "cells": [
  {
   "cell_type": "code",
   "execution_count": 2,
   "id": "99bad2f1",
   "metadata": {},
   "outputs": [
    {
     "name": "stdout",
     "output_type": "stream",
     "text": [
      "/Users/elvish/Documents/PersonalCODING/indiaml-tracker/eda/.venv/bin/python: No module named pip\n",
      "Note: you may need to restart the kernel to use updated packages.\n"
     ]
    }
   ],
   "source": [
    "%pip install pandas matplotlib"
   ]
  },
  {
   "cell_type": "code",
   "execution_count": 2,
   "id": "7fca24b6",
   "metadata": {},
   "outputs": [],
   "source": [
    "import pandas as pd\n",
    "import matplotlib\n",
    "import sqlite3\n",
    "import numpy as np\n",
    "\n",
    "import pandas as pd\n",
    "import plotly.express as px\n",
    "import pycountry"
   ]
  },
  {
   "cell_type": "code",
   "execution_count": 3,
   "id": "250c059c",
   "metadata": {},
   "outputs": [],
   "source": [
    "conn = sqlite3.Connection(\"venues-final.db\")"
   ]
  },
  {
   "cell_type": "code",
   "execution_count": 4,
   "id": "6dfd485b",
   "metadata": {},
   "outputs": [],
   "source": [
    "def get_df_by_conference(conf):\n",
    "    df = pd.read_sql_query(f\"SELECT author_id, full_name, openreview_id, affiliation_country FROM (SELECT * FROM paper_authors JOIN authors on author_id = authors.id JOIN papers on paper_id = papers.id JOIN venue_infos on papers.venue_info_id = venue_infos.id) where conference = '{conf}' and affiliation_country != 'UNK'\", conn)\n",
    "    return df\n",
    "\n",
    "\n",
    "# Function to convert country names to ISO Alpha-3 codes\n",
    "def country_to_iso(country_name):\n",
    "    try:\n",
    "        country = pycountry.countries.search_fuzzy(country_name)[0]\n",
    "        return country.alpha_3\n",
    "    except:\n",
    "        return None\n",
    "    \n",
    "    \n",
    "def plt_author_df(country_counts, title, threshold = 6000):\n",
    "\n",
    "    # # Count authors per country\n",
    "    # country_counts = df['affiliation_country'].value_counts().reset_index()\n",
    "    country_counts.columns = ['country', 'author_count']\n",
    "\n",
    "\n",
    "    # Add ISO codes to the DataFrame\n",
    "    country_counts['iso_code'] = country_counts['country'].apply(country_to_iso)\n",
    "\n",
    "    # Drop rows with missing ISO codes (optional: investigate these manually)\n",
    "    country_counts.dropna(subset=['iso_code'], inplace=True)\n",
    "\n",
    "\n",
    "    max_count = country_counts['author_count'].max()  # e.g., 6700\n",
    "\n",
    "    # Custom transformation: log below threshold, linear above\n",
    "    def transform_count(x):\n",
    "        if x <= threshold:\n",
    "            return np.log10(x + 1)  # Use log10 for interpretability\n",
    "        else:\n",
    "            return np.log10(threshold + 1) + (x - threshold) / (max_count - threshold)\n",
    "\n",
    "    # Apply the transformation and normalize to [0, 1]\n",
    "    country_counts['transformed'] = country_counts['author_count'].apply(transform_count)\n",
    "    t_min = np.log10(1)  # Minimum transformed value (log10(0+1)=0)\n",
    "    t_max = np.log10(threshold + 1) + 1  # Max transformed value (log10(6001) + 1)\n",
    "    country_counts['normalized'] = (country_counts['transformed'] - t_min) / (t_max - t_min)\n",
    "\n",
    "    # Define key ticks for the color bar (log below 6000, linear above)\n",
    "    tick_values = [1, 10, 100, 1000, threshold, max_count]\n",
    "    tick_transformed = [transform_count(v) for v in tick_values]\n",
    "    tick_normalized = [(t - t_min) / (t_max - t_min) for t in tick_transformed]\n",
    "\n",
    "\n",
    "    # Create the choropleth map\n",
    "    fig = px.choropleth(\n",
    "        country_counts,\n",
    "        locations=\"iso_code\",\n",
    "        color=\"normalized\",\n",
    "        hover_name=\"country\",\n",
    "        hover_data={\"author_count\": True, \"normalized\": False},  # Hide normalized values in hover\n",
    "        color_continuous_scale=px.colors.sequential.Mint,\n",
    "        title=title,\n",
    "        labels={'author_count': 'Authors'}\n",
    "    )\n",
    "\n",
    "    fig.update_coloraxes(\n",
    "        colorbar=dict(\n",
    "            title=\"Number of Authors\",\n",
    "            tickvals=tick_normalized,\n",
    "            ticktext=[str(v) for v in tick_values]\n",
    "        )\n",
    "    )\n",
    "\n",
    "    # Customize layout\n",
    "    fig.update_layout(\n",
    "        geo=dict(\n",
    "            showframe=False,\n",
    "            showcoastlines=False,\n",
    "            projection_type='natural earth'\n",
    "        ),\n",
    "        margin={\"r\":0, \"t\":40, \"l\":0, \"b\":0}\n",
    "    )\n",
    "    return fig\n"
   ]
  },
  {
   "cell_type": "markdown",
   "id": "a39876ac",
   "metadata": {},
   "source": [
    "## India at NeurIPS 2024 Conference"
   ]
  },
  {
   "cell_type": "code",
   "execution_count": 5,
   "id": "5349b248",
   "metadata": {},
   "outputs": [
    {
     "data": {
      "application/vnd.plotly.v1+json": {
       "config": {
        "plotlyServerURL": "https://plot.ly"
       },
       "data": [
        {
         "coloraxis": "coloraxis",
         "customdata": {
          "bdata": "AAAAAAA+ukAAAAAAAADwPwAAAAAAirhA3asAp+ru6z8AAAAAAIiEQKPPhj2x3+I/AAAAAACggkAkPP8eQZfiPwAAAAAACIJA3OdWJSx/4j8AAAAAAOCBQCFD3ha0eOI/AAAAAAAogUBQF6s/M1riPwAAAAAAUIBAssy8gLg04j8AAAAAAGB4QBHgmsMkXOE/AAAAAADgdUDxHbvHyQvhPwAAAAAAIG9A0JUArSIP4D8AAAAAAKBrQNSb9nlibd8/AAAAAAAga0D/R9D6TlLfPwAAAAAAgGRAtknJzIGz3T8AAAAAACBkQFitP7UumN0/AAAAAABAXUBlo+wMQcDbPwAAAAAAgFdA8mqNNmV92j8AAAAAAEBWQBOU35vhLNo/AAAAAADAUkBj7AMGGjHZPwAAAAAAgE9A0Zbo9DAx2D8AAAAAAABPQJ405la9Gdg/AAAAAAAATkDnnYXLsunXPwAAAAAAAEtAqWRY1IJP1z8AAAAAAABJQFjACbQR39Y/AAAAAACASEDMen+ClMHWPwAAAAAAgEVAGubOozcD1j8AAAAAAIBEQLRo8THxvdU/AAAAAAAAQEDimEf10FbUPwAAAAAAADtAyZz8DCVi0z8AAAAAAAA0QJFPdV6+tdE/AAAAAAAANECRT3VevrXRPwAAAAAAADFAPuNdxDDQ0D8AAAAAAAAuQItk8E3LINA/AAAAAAAALkCLZPBNyyDQPwAAAAAAACxAxSvln1+Bzz8AAAAAAAAqQEwHAXPks84/AAAAAAAAJkCnLtI+yejMPwAAAAAAACZApy7SPsnozD8AAAAAAAAgQDaUw+H7j8k/AAAAAAAAIEA2lMPh+4/JPwAAAAAAABxA0Zbo9DAxyD8AAAAAAAAUQGH82Zdj2MQ/AAAAAAAAFEBh/NmXY9jEPwAAAAAAABRAYfzZl2PYxD8AAAAAAAAQQKphA69hucI/AAAAAAAAEECqYQOvYbnCPwAAAAAAABBAqmEDr2G5wj8AAAAAAAAQQKphA69hucI/AAAAAAAACECLZPBNyyDAPwAAAAAAAAhAi2TwTcsgwD8AAAAAAAAIQItk8E3LIMA/AAAAAAAAAEA2lMPh+4+5PwAAAAAAAABANpTD4fuPuT8AAAAAAAAAQDaUw+H7j7k/AAAAAAAAAEA2lMPh+4+5PwAAAAAAAPA/i2TwTcsgsD8AAAAAAADwP4tk8E3LILA/AAAAAAAA8D+LZPBNyyCwPwAAAAAAAPA/i2TwTcsgsD8AAAAAAADwP4tk8E3LILA/AAAAAAAA8D+LZPBNyyCwPwAAAAAAAPA/i2TwTcsgsD8AAAAAAADwP4tk8E3LILA/",
          "dtype": "f8",
          "shape": "63, 2"
         },
         "geo": "geo",
         "hovertemplate": "<b>%{hovertext}</b><br><br>iso_code=%{location}<br>Authors=%{customdata[0]}<extra></extra>",
         "hovertext": [
          "US",
          "CN",
          "GB",
          "HK",
          "SG",
          "KR",
          "DE",
          "CA",
          "CH",
          "FR",
          "UK",
          "AU",
          "JP",
          "IT",
          "IL",
          "NL",
          "RU",
          "TW",
          "AT",
          "IN",
          "AE",
          "DK",
          "SE",
          "SA",
          "AI",
          "FI",
          "BE",
          "ES",
          "PL",
          "VN",
          "IR",
          "MO",
          "BR",
          "TR",
          "GR",
          "PT",
          "NO",
          "CZ",
          "LU",
          "EU",
          "CL",
          "SI",
          "PH",
          "BG",
          "IE",
          "NZ",
          "IO",
          "MY",
          "TH",
          "CX",
          "CO",
          "KP",
          "CM",
          "UY",
          "AC",
          "MA",
          "HR",
          "EG",
          "NA",
          "TD",
          "CY",
          "AM",
          "RE"
         ],
         "locations": [
          "USA",
          "CHN",
          "GBR",
          "HKG",
          "SGP",
          "KOR",
          "DEU",
          "CAN",
          "CHE",
          "FRA",
          "UGA",
          "AUS",
          "JPN",
          "ITA",
          "ISR",
          "NLD",
          "RUS",
          "TWN",
          "AUT",
          "IND",
          "ARE",
          "DNK",
          "SWE",
          "SAU",
          "KNA",
          "FIN",
          "BEL",
          "ESP",
          "POL",
          "VNM",
          "IRN",
          "MCO",
          "BRA",
          "TUR",
          "GRC",
          "PRT",
          "NOR",
          "CZE",
          "LUX",
          "REU",
          "CHL",
          "SVN",
          "PHL",
          "BGR",
          "IRL",
          "NZL",
          "IOT",
          "MYS",
          "THA",
          "CXR",
          "COL",
          "PRK",
          "CMR",
          "URY",
          "MAC",
          "MAR",
          "HRV",
          "EGY",
          "NAM",
          "TCD",
          "CYP",
          "ARM",
          "GBR"
         ],
         "name": "",
         "type": "choropleth",
         "z": {
          "bdata": "AAAAAAAA8D/dqwCn6u7rP6PPhj2x3+I/JDz/HkGX4j/c51YlLH/iPyFD3ha0eOI/UBerPzNa4j+yzLyAuDTiPxHgmsMkXOE/8R27x8kL4T/QlQCtIg/gP9Sb9nlibd8//0fQ+k5S3z+2ScnMgbPdP1itP7UumN0/ZaPsDEHA2z/yao02ZX3aPxOU35vhLNo/Y+wDBhox2T/Rluj0MDHYP5405la9Gdg/552Fy7Lp1z+pZFjUgk/XP1jACbQR39Y/zHp/gpTB1j8a5s6jNwPWP7Ro8THxvdU/4phH9dBW1D/JnPwMJWLTP5FPdV6+tdE/kU91Xr610T8+413EMNDQP4tk8E3LINA/i2TwTcsg0D/FK+WfX4HPP0wHAXPks84/py7SPsnozD+nLtI+yejMPzaUw+H7j8k/NpTD4fuPyT/Rluj0MDHIP2H82Zdj2MQ/YfzZl2PYxD9h/NmXY9jEP6phA69hucI/qmEDr2G5wj+qYQOvYbnCP6phA69hucI/i2TwTcsgwD+LZPBNyyDAP4tk8E3LIMA/NpTD4fuPuT82lMPh+4+5PzaUw+H7j7k/NpTD4fuPuT+LZPBNyyCwP4tk8E3LILA/i2TwTcsgsD+LZPBNyyCwP4tk8E3LILA/i2TwTcsgsD+LZPBNyyCwP4tk8E3LILA/",
          "dtype": "f8"
         }
        }
       ],
       "layout": {
        "coloraxis": {
         "colorbar": {
          "ticktext": [
           "1",
           "10",
           "100",
           "1000",
           "6000",
           "6718"
          ],
          "tickvals": [
           0.0630003991394849,
           0.21794557276990406,
           0.41946998096846466,
           0.6279392326202224,
           0.7907172041094275,
           1
          ],
          "title": {
           "text": "Number of Authors"
          }
         },
         "colorscale": [
          [
           0,
           "rgb(228, 241, 225)"
          ],
          [
           0.16666666666666666,
           "rgb(180, 217, 204)"
          ],
          [
           0.3333333333333333,
           "rgb(137, 192, 182)"
          ],
          [
           0.5,
           "rgb(99, 166, 160)"
          ],
          [
           0.6666666666666666,
           "rgb(68, 140, 138)"
          ],
          [
           0.8333333333333334,
           "rgb(40, 114, 116)"
          ],
          [
           1,
           "rgb(13, 88, 95)"
          ]
         ]
        },
        "geo": {
         "center": {},
         "domain": {
          "x": [
           0,
           1
          ],
          "y": [
           0,
           1
          ]
         },
         "projection": {
          "type": "natural earth"
         },
         "showcoastlines": false,
         "showframe": false
        },
        "legend": {
         "tracegroupgap": 0
        },
        "margin": {
         "b": 0,
         "l": 0,
         "r": 0,
         "t": 40
        },
        "template": {
         "data": {
          "bar": [
           {
            "error_x": {
             "color": "#2a3f5f"
            },
            "error_y": {
             "color": "#2a3f5f"
            },
            "marker": {
             "line": {
              "color": "#E5ECF6",
              "width": 0.5
             },
             "pattern": {
              "fillmode": "overlay",
              "size": 10,
              "solidity": 0.2
             }
            },
            "type": "bar"
           }
          ],
          "barpolar": [
           {
            "marker": {
             "line": {
              "color": "#E5ECF6",
              "width": 0.5
             },
             "pattern": {
              "fillmode": "overlay",
              "size": 10,
              "solidity": 0.2
             }
            },
            "type": "barpolar"
           }
          ],
          "carpet": [
           {
            "aaxis": {
             "endlinecolor": "#2a3f5f",
             "gridcolor": "white",
             "linecolor": "white",
             "minorgridcolor": "white",
             "startlinecolor": "#2a3f5f"
            },
            "baxis": {
             "endlinecolor": "#2a3f5f",
             "gridcolor": "white",
             "linecolor": "white",
             "minorgridcolor": "white",
             "startlinecolor": "#2a3f5f"
            },
            "type": "carpet"
           }
          ],
          "choropleth": [
           {
            "colorbar": {
             "outlinewidth": 0,
             "ticks": ""
            },
            "type": "choropleth"
           }
          ],
          "contour": [
           {
            "colorbar": {
             "outlinewidth": 0,
             "ticks": ""
            },
            "colorscale": [
             [
              0,
              "#0d0887"
             ],
             [
              0.1111111111111111,
              "#46039f"
             ],
             [
              0.2222222222222222,
              "#7201a8"
             ],
             [
              0.3333333333333333,
              "#9c179e"
             ],
             [
              0.4444444444444444,
              "#bd3786"
             ],
             [
              0.5555555555555556,
              "#d8576b"
             ],
             [
              0.6666666666666666,
              "#ed7953"
             ],
             [
              0.7777777777777778,
              "#fb9f3a"
             ],
             [
              0.8888888888888888,
              "#fdca26"
             ],
             [
              1,
              "#f0f921"
             ]
            ],
            "type": "contour"
           }
          ],
          "contourcarpet": [
           {
            "colorbar": {
             "outlinewidth": 0,
             "ticks": ""
            },
            "type": "contourcarpet"
           }
          ],
          "heatmap": [
           {
            "colorbar": {
             "outlinewidth": 0,
             "ticks": ""
            },
            "colorscale": [
             [
              0,
              "#0d0887"
             ],
             [
              0.1111111111111111,
              "#46039f"
             ],
             [
              0.2222222222222222,
              "#7201a8"
             ],
             [
              0.3333333333333333,
              "#9c179e"
             ],
             [
              0.4444444444444444,
              "#bd3786"
             ],
             [
              0.5555555555555556,
              "#d8576b"
             ],
             [
              0.6666666666666666,
              "#ed7953"
             ],
             [
              0.7777777777777778,
              "#fb9f3a"
             ],
             [
              0.8888888888888888,
              "#fdca26"
             ],
             [
              1,
              "#f0f921"
             ]
            ],
            "type": "heatmap"
           }
          ],
          "histogram": [
           {
            "marker": {
             "pattern": {
              "fillmode": "overlay",
              "size": 10,
              "solidity": 0.2
             }
            },
            "type": "histogram"
           }
          ],
          "histogram2d": [
           {
            "colorbar": {
             "outlinewidth": 0,
             "ticks": ""
            },
            "colorscale": [
             [
              0,
              "#0d0887"
             ],
             [
              0.1111111111111111,
              "#46039f"
             ],
             [
              0.2222222222222222,
              "#7201a8"
             ],
             [
              0.3333333333333333,
              "#9c179e"
             ],
             [
              0.4444444444444444,
              "#bd3786"
             ],
             [
              0.5555555555555556,
              "#d8576b"
             ],
             [
              0.6666666666666666,
              "#ed7953"
             ],
             [
              0.7777777777777778,
              "#fb9f3a"
             ],
             [
              0.8888888888888888,
              "#fdca26"
             ],
             [
              1,
              "#f0f921"
             ]
            ],
            "type": "histogram2d"
           }
          ],
          "histogram2dcontour": [
           {
            "colorbar": {
             "outlinewidth": 0,
             "ticks": ""
            },
            "colorscale": [
             [
              0,
              "#0d0887"
             ],
             [
              0.1111111111111111,
              "#46039f"
             ],
             [
              0.2222222222222222,
              "#7201a8"
             ],
             [
              0.3333333333333333,
              "#9c179e"
             ],
             [
              0.4444444444444444,
              "#bd3786"
             ],
             [
              0.5555555555555556,
              "#d8576b"
             ],
             [
              0.6666666666666666,
              "#ed7953"
             ],
             [
              0.7777777777777778,
              "#fb9f3a"
             ],
             [
              0.8888888888888888,
              "#fdca26"
             ],
             [
              1,
              "#f0f921"
             ]
            ],
            "type": "histogram2dcontour"
           }
          ],
          "mesh3d": [
           {
            "colorbar": {
             "outlinewidth": 0,
             "ticks": ""
            },
            "type": "mesh3d"
           }
          ],
          "parcoords": [
           {
            "line": {
             "colorbar": {
              "outlinewidth": 0,
              "ticks": ""
             }
            },
            "type": "parcoords"
           }
          ],
          "pie": [
           {
            "automargin": true,
            "type": "pie"
           }
          ],
          "scatter": [
           {
            "fillpattern": {
             "fillmode": "overlay",
             "size": 10,
             "solidity": 0.2
            },
            "type": "scatter"
           }
          ],
          "scatter3d": [
           {
            "line": {
             "colorbar": {
              "outlinewidth": 0,
              "ticks": ""
             }
            },
            "marker": {
             "colorbar": {
              "outlinewidth": 0,
              "ticks": ""
             }
            },
            "type": "scatter3d"
           }
          ],
          "scattercarpet": [
           {
            "marker": {
             "colorbar": {
              "outlinewidth": 0,
              "ticks": ""
             }
            },
            "type": "scattercarpet"
           }
          ],
          "scattergeo": [
           {
            "marker": {
             "colorbar": {
              "outlinewidth": 0,
              "ticks": ""
             }
            },
            "type": "scattergeo"
           }
          ],
          "scattergl": [
           {
            "marker": {
             "colorbar": {
              "outlinewidth": 0,
              "ticks": ""
             }
            },
            "type": "scattergl"
           }
          ],
          "scattermap": [
           {
            "marker": {
             "colorbar": {
              "outlinewidth": 0,
              "ticks": ""
             }
            },
            "type": "scattermap"
           }
          ],
          "scattermapbox": [
           {
            "marker": {
             "colorbar": {
              "outlinewidth": 0,
              "ticks": ""
             }
            },
            "type": "scattermapbox"
           }
          ],
          "scatterpolar": [
           {
            "marker": {
             "colorbar": {
              "outlinewidth": 0,
              "ticks": ""
             }
            },
            "type": "scatterpolar"
           }
          ],
          "scatterpolargl": [
           {
            "marker": {
             "colorbar": {
              "outlinewidth": 0,
              "ticks": ""
             }
            },
            "type": "scatterpolargl"
           }
          ],
          "scatterternary": [
           {
            "marker": {
             "colorbar": {
              "outlinewidth": 0,
              "ticks": ""
             }
            },
            "type": "scatterternary"
           }
          ],
          "surface": [
           {
            "colorbar": {
             "outlinewidth": 0,
             "ticks": ""
            },
            "colorscale": [
             [
              0,
              "#0d0887"
             ],
             [
              0.1111111111111111,
              "#46039f"
             ],
             [
              0.2222222222222222,
              "#7201a8"
             ],
             [
              0.3333333333333333,
              "#9c179e"
             ],
             [
              0.4444444444444444,
              "#bd3786"
             ],
             [
              0.5555555555555556,
              "#d8576b"
             ],
             [
              0.6666666666666666,
              "#ed7953"
             ],
             [
              0.7777777777777778,
              "#fb9f3a"
             ],
             [
              0.8888888888888888,
              "#fdca26"
             ],
             [
              1,
              "#f0f921"
             ]
            ],
            "type": "surface"
           }
          ],
          "table": [
           {
            "cells": {
             "fill": {
              "color": "#EBF0F8"
             },
             "line": {
              "color": "white"
             }
            },
            "header": {
             "fill": {
              "color": "#C8D4E3"
             },
             "line": {
              "color": "white"
             }
            },
            "type": "table"
           }
          ]
         },
         "layout": {
          "annotationdefaults": {
           "arrowcolor": "#2a3f5f",
           "arrowhead": 0,
           "arrowwidth": 1
          },
          "autotypenumbers": "strict",
          "coloraxis": {
           "colorbar": {
            "outlinewidth": 0,
            "ticks": ""
           }
          },
          "colorscale": {
           "diverging": [
            [
             0,
             "#8e0152"
            ],
            [
             0.1,
             "#c51b7d"
            ],
            [
             0.2,
             "#de77ae"
            ],
            [
             0.3,
             "#f1b6da"
            ],
            [
             0.4,
             "#fde0ef"
            ],
            [
             0.5,
             "#f7f7f7"
            ],
            [
             0.6,
             "#e6f5d0"
            ],
            [
             0.7,
             "#b8e186"
            ],
            [
             0.8,
             "#7fbc41"
            ],
            [
             0.9,
             "#4d9221"
            ],
            [
             1,
             "#276419"
            ]
           ],
           "sequential": [
            [
             0,
             "#0d0887"
            ],
            [
             0.1111111111111111,
             "#46039f"
            ],
            [
             0.2222222222222222,
             "#7201a8"
            ],
            [
             0.3333333333333333,
             "#9c179e"
            ],
            [
             0.4444444444444444,
             "#bd3786"
            ],
            [
             0.5555555555555556,
             "#d8576b"
            ],
            [
             0.6666666666666666,
             "#ed7953"
            ],
            [
             0.7777777777777778,
             "#fb9f3a"
            ],
            [
             0.8888888888888888,
             "#fdca26"
            ],
            [
             1,
             "#f0f921"
            ]
           ],
           "sequentialminus": [
            [
             0,
             "#0d0887"
            ],
            [
             0.1111111111111111,
             "#46039f"
            ],
            [
             0.2222222222222222,
             "#7201a8"
            ],
            [
             0.3333333333333333,
             "#9c179e"
            ],
            [
             0.4444444444444444,
             "#bd3786"
            ],
            [
             0.5555555555555556,
             "#d8576b"
            ],
            [
             0.6666666666666666,
             "#ed7953"
            ],
            [
             0.7777777777777778,
             "#fb9f3a"
            ],
            [
             0.8888888888888888,
             "#fdca26"
            ],
            [
             1,
             "#f0f921"
            ]
           ]
          },
          "colorway": [
           "#636efa",
           "#EF553B",
           "#00cc96",
           "#ab63fa",
           "#FFA15A",
           "#19d3f3",
           "#FF6692",
           "#B6E880",
           "#FF97FF",
           "#FECB52"
          ],
          "font": {
           "color": "#2a3f5f"
          },
          "geo": {
           "bgcolor": "white",
           "lakecolor": "white",
           "landcolor": "#E5ECF6",
           "showlakes": true,
           "showland": true,
           "subunitcolor": "white"
          },
          "hoverlabel": {
           "align": "left"
          },
          "hovermode": "closest",
          "mapbox": {
           "style": "light"
          },
          "paper_bgcolor": "white",
          "plot_bgcolor": "#E5ECF6",
          "polar": {
           "angularaxis": {
            "gridcolor": "white",
            "linecolor": "white",
            "ticks": ""
           },
           "bgcolor": "#E5ECF6",
           "radialaxis": {
            "gridcolor": "white",
            "linecolor": "white",
            "ticks": ""
           }
          },
          "scene": {
           "xaxis": {
            "backgroundcolor": "#E5ECF6",
            "gridcolor": "white",
            "gridwidth": 2,
            "linecolor": "white",
            "showbackground": true,
            "ticks": "",
            "zerolinecolor": "white"
           },
           "yaxis": {
            "backgroundcolor": "#E5ECF6",
            "gridcolor": "white",
            "gridwidth": 2,
            "linecolor": "white",
            "showbackground": true,
            "ticks": "",
            "zerolinecolor": "white"
           },
           "zaxis": {
            "backgroundcolor": "#E5ECF6",
            "gridcolor": "white",
            "gridwidth": 2,
            "linecolor": "white",
            "showbackground": true,
            "ticks": "",
            "zerolinecolor": "white"
           }
          },
          "shapedefaults": {
           "line": {
            "color": "#2a3f5f"
           }
          },
          "ternary": {
           "aaxis": {
            "gridcolor": "white",
            "linecolor": "white",
            "ticks": ""
           },
           "baxis": {
            "gridcolor": "white",
            "linecolor": "white",
            "ticks": ""
           },
           "bgcolor": "#E5ECF6",
           "caxis": {
            "gridcolor": "white",
            "linecolor": "white",
            "ticks": ""
           }
          },
          "title": {
           "x": 0.05
          },
          "xaxis": {
           "automargin": true,
           "gridcolor": "white",
           "linecolor": "white",
           "ticks": "",
           "title": {
            "standoff": 15
           },
           "zerolinecolor": "white",
           "zerolinewidth": 2
          },
          "yaxis": {
           "automargin": true,
           "gridcolor": "white",
           "linecolor": "white",
           "ticks": "",
           "title": {
            "standoff": 15
           },
           "zerolinecolor": "white",
           "zerolinewidth": 2
          }
         }
        },
        "title": {
         "text": "NeurIPS 2024 Conference, Number of Authors by Country"
        }
       }
      }
     },
     "metadata": {},
     "output_type": "display_data"
    }
   ],
   "source": [
    "df = get_df_by_conference('NeurIPS')\n",
    "country_counts = df['affiliation_country'].value_counts().reset_index()\n",
    "\n",
    "\n",
    "plt_author_df(country_counts, \"NeurIPS 2024 Conference, Number of Authors by Country\", threshold=6000)"
   ]
  },
  {
   "cell_type": "code",
   "execution_count": null,
   "id": "13f4bce3",
   "metadata": {},
   "outputs": [],
   "source": [
    "def get_paper_counts_by_conference(conf):\n",
    "    query = f\"\"\"\n",
    "        SELECT affiliation_country, COUNT(DISTINCT paper_id) as paper_count \n",
    "        FROM (\n",
    "            SELECT * \n",
    "            FROM paper_authors \n",
    "            JOIN authors ON author_id = authors.id \n",
    "            JOIN papers ON paper_id = papers.id \n",
    "            JOIN venue_infos ON papers.venue_info_id = venue_infos.id\n",
    "        ) \n",
    "        WHERE conference = '{conf}' AND affiliation_country != 'UNK'\n",
    "        GROUP BY affiliation_country\n",
    "    \"\"\"\n",
    "    df = pd.read_sql_query(query, conn)\n",
    "    return df\n",
    "\n",
    "def plt_paper_df(paper_counts, title, threshold=1000):\n",
    "    # Rename columns for consistency\n",
    "    paper_counts = paper_counts.rename(columns={'affiliation_country': 'country', 'paper_count': 'count'})\n",
    "    \n",
    "    # Convert country names to ISO codes\n",
    "    paper_counts['iso_code'] = paper_counts['country'].apply(country_to_iso)\n",
    "    paper_counts.dropna(subset=['iso_code'], inplace=True)\n",
    "    \n",
    "    # Apply log-linear transformation\n",
    "    max_count = paper_counts['count'].max()\n",
    "    def transform_count(x):\n",
    "        if x <= threshold:\n",
    "            return np.log10(x + 1)\n",
    "        else:\n",
    "            return np.log10(threshold + 1) + (x - threshold) / (max_count - threshold)\n",
    "    \n",
    "    paper_counts['transformed'] = paper_counts['count'].apply(transform_count)\n",
    "    t_min = np.log10(1)\n",
    "    t_max = np.log10(threshold + 1) + 1\n",
    "    paper_counts['normalized'] = (paper_counts['transformed'] - t_min) / (t_max - t_min)\n",
    "    \n",
    "    # Generate ticks for color bar\n",
    "    tick_values = [1, 10, 100, threshold, max_count]\n",
    "    valid_ticks = [v for v in tick_values if v <= max_count]\n",
    "    if max_count not in valid_ticks:\n",
    "        valid_ticks.append(max_count)\n",
    "    valid_ticks = sorted(valid_ticks)\n",
    "    \n",
    "    tick_transformed = [transform_count(v) for v in valid_ticks]\n",
    "    tick_normalized = [(t - t_min) / (t_max - t_min) for t in tick_transformed]\n",
    "    \n",
    "    # Create choropleth map\n",
    "    fig = px.choropleth(\n",
    "        paper_counts,\n",
    "        locations=\"iso_code\",\n",
    "        color=\"normalized\",\n",
    "        hover_name=\"country\",\n",
    "        hover_data={\"count\": True, \"normalized\": False},\n",
    "        color_continuous_scale=px.colors.sequential.Mint,\n",
    "        title=title,\n",
    "        labels={'count': 'Papers'}\n",
    "    )\n",
    "    \n",
    "    fig.update_coloraxes(\n",
    "        colorbar=dict(\n",
    "            title=\"Number of Papers\",\n",
    "            tickvals=tick_normalized,\n",
    "            ticktext=[str(v) for v in valid_ticks]\n",
    "        )\n",
    "    )\n",
    "    \n",
    "    fig.update_layout(\n",
    "        geo=dict(\n",
    "            showframe=False,\n",
    "            showcoastlines=False,\n",
    "            projection_type='natural earth'\n",
    "        ),\n",
    "        margin={\"r\":0, \"t\":40, \"l\":0, \"b\":0}\n",
    "    )\n",
    "    return fig"
   ]
  },
  {
   "cell_type": "code",
   "execution_count": null,
   "id": "0aa38ad2",
   "metadata": {},
   "outputs": [
    {
     "data": {
      "application/vnd.plotly.v1+json": {
       "config": {
        "plotlyServerURL": "https://plot.ly"
       },
       "data": [
        {
         "coloraxis": "coloraxis",
         "customdata": {
          "bdata": "AAAAAAAAAEB41FJxToi+PwAAAAAAAENAr1jrIUt02T8AAAAAAIBDQAAJp2BTodk/AAAAAAAA8D/HUuBPikOzPwAAAAAAgEBAA3KgyUGA2D8AAAAAAMBbQJKfGddXZOA/AAAAAAAANEB8oaf6OCfVPwAAAAAAABBA2JV9SVddxj8AAAAAAAAiQDu/bXEc/88/AAAAAADAbUAwX2gsbgbjPwAAAAAAQGRAnaipkBGy4T8AAAAAAAAYQLzYpbxKCss/AAAAAAAAAEB41FJxToi+PwAAAAAAgJZAxAJO4C526z8AAAAAAAAIQMdS4E+KQ8M/AAAAAAAACEDHUuBPikPDPwAAAAAAAPA/x1LgT4pDsz8AAAAAAAAcQCp80HdP5cw/AAAAAADAa0BoFH93zsjiPwAAAAAAAD1Au5QL1aGh1z8AAAAAAADwP8dS4E+KQ7M/AAAAAAAAM0BP9K7McNDUPwAAAAAAABRAoJOZYOzlyD8AAAAAAAAyQD6sXNc0ddQ/AAAAAACAY0DX0fbptpDhPwAAAAAA4HVAdWFKLTlc5D8AAAAAAAAkQHGQX+MUqdA/AAAAAADAckAVQ8eqjdPjPwAAAAAAAPA/x1LgT4pDsz8AAAAAAAAAQHjUUnFOiL4/AAAAAABAU0BhbeO1LUXePwAAAAAAAEFASrcRA9Gz2D8AAAAAAAAQQNiVfUlXXcY/AAAAAAAAEEDYlX1JV13GPwAAAAAAAFBAfW5VKuMA3T8AAAAAAABaQDQ2s0/yKuA/AAAAAAAAAEB41FJxToi+PwAAAAAAYGVAl+GVj93h4T8AAAAAAAAQQNiVfUlXXcY/AAAAAAAA8D/HUuBPikOzPwAAAAAAAChAkaOWhTfS0T8AAAAAAAAAQHjUUnFOiL4/AAAAAAAA8D/HUuBPikOzPwAAAAAAgElA9cyGrfxz2z8AAAAAAAAgQHjUUnFOiM4/AAAAAAAACEDHUuBPikPDPwAAAAAAABBA2JV9SVddxj8AAAAAAAAgQHjUUnFOiM4/AAAAAAAAFECgk5lg7OXIPwAAAAAAAPA/x1LgT4pDsz8AAAAAAAA8QOk6vA1VZdc/AAAAAAAAOEDYlX1JV13WPwAAAAAAADxA6Tq8DVVl1z8AAAAAAKBwQCKan7H0aOM/AAAAAAAAAEB41FJxToi+PwAAAAAAAPA/x1LgT4pDsz8AAAAAAADwP8dS4E+KQ7M/AAAAAAAAGEC82KW8SgrLPwAAAAAAgEBAA3KgyUGA2D8AAAAAACBkQJV0pYKYrOE/AAAAAACEn0AAAAAAAADwPwAAAAAAAPA/x1LgT4pDsz8AAAAAAAAmQILeRMTYQ9E/",
          "dtype": "f8",
          "shape": "63, 2"
         },
         "geo": "geo",
         "hovertemplate": "<b>%{hovertext}</b><br><br>iso_code=%{location}<br>Papers=%{customdata[0]}<extra></extra>",
         "hovertext": [
          "AC",
          "AE",
          "AI",
          "AM",
          "AT",
          "AU",
          "BE",
          "BG",
          "BR",
          "CA",
          "CH",
          "CL",
          "CM",
          "CN",
          "CO",
          "CX",
          "CY",
          "CZ",
          "DE",
          "DK",
          "EG",
          "ES",
          "EU",
          "FI",
          "FR",
          "GB",
          "GR",
          "HK",
          "HR",
          "IE",
          "IL",
          "IN",
          "IO",
          "IR",
          "IT",
          "JP",
          "KP",
          "KR",
          "LU",
          "MA",
          "MO",
          "MY",
          "NA",
          "NL",
          "NO",
          "NZ",
          "PH",
          "PL",
          "PT",
          "RE",
          "RU",
          "SA",
          "SE",
          "SG",
          "SI",
          "TD",
          "TH",
          "TR",
          "TW",
          "UK",
          "US",
          "UY",
          "VN"
         ],
         "locations": [
          "MAC",
          "ARE",
          "KNA",
          "ARM",
          "AUT",
          "AUS",
          "BEL",
          "BGR",
          "BRA",
          "CAN",
          "CHE",
          "CHL",
          "CMR",
          "CHN",
          "COL",
          "CXR",
          "CYP",
          "CZE",
          "DEU",
          "DNK",
          "EGY",
          "ESP",
          "REU",
          "FIN",
          "FRA",
          "GBR",
          "GRC",
          "HKG",
          "HRV",
          "IRL",
          "ISR",
          "IND",
          "IOT",
          "IRN",
          "ITA",
          "JPN",
          "PRK",
          "KOR",
          "LUX",
          "MAR",
          "MCO",
          "MYS",
          "NAM",
          "NLD",
          "NOR",
          "NZL",
          "PHL",
          "POL",
          "PRT",
          "GBR",
          "RUS",
          "SAU",
          "SWE",
          "SGP",
          "SVN",
          "TCD",
          "THA",
          "TUR",
          "TWN",
          "UGA",
          "USA",
          "URY",
          "VNM"
         ],
         "name": "",
         "type": "choropleth",
         "z": {
          "bdata": "eNRScU6Ivj+vWOshS3TZPwAJp2BTodk/x1LgT4pDsz8DcqDJQYDYP5KfGddXZOA/fKGn+jgn1T/YlX1JV13GPzu/bXEc/88/MF9oLG4G4z+dqKmQEbLhP7zYpbxKCss/eNRScU6Ivj/EAk7gLnbrP8dS4E+KQ8M/x1LgT4pDwz/HUuBPikOzPyp80HdP5cw/aBR/d87I4j+7lAvVoaHXP8dS4E+KQ7M/T/SuzHDQ1D+gk5lg7OXIPz6sXNc0ddQ/19H26baQ4T91YUotOVzkP3GQX+MUqdA/FUPHqo3T4z/HUuBPikOzP3jUUnFOiL4/YW3jtS1F3j9KtxED0bPYP9iVfUlXXcY/2JV9SVddxj99blUq4wDdPzQ2s0/yKuA/eNRScU6Ivj+X4ZWP3eHhP9iVfUlXXcY/x1LgT4pDsz+Ro5aFN9LRP3jUUnFOiL4/x1LgT4pDsz/1zIat/HPbP3jUUnFOiM4/x1LgT4pDwz/YlX1JV13GP3jUUnFOiM4/oJOZYOzlyD/HUuBPikOzP+k6vA1VZdc/2JV9SVdd1j/pOrwNVWXXPyKan7H0aOM/eNRScU6Ivj/HUuBPikOzP8dS4E+KQ7M/vNilvEoKyz8DcqDJQYDYP5V0pYKYrOE/AAAAAAAA8D/HUuBPikOzP4LeRMTYQ9E/",
          "dtype": "f8"
         }
        }
       ],
       "layout": {
        "coloraxis": {
         "colorbar": {
          "ticktext": [
           "1",
           "10",
           "100",
           "1000",
           "2017"
          ],
          "tickvals": [
           0.07524933290580825,
           0.2603199215357171,
           0.501025972422865,
           0.7500271268986634,
           1
          ],
          "title": {
           "text": "Number of Papers"
          }
         },
         "colorscale": [
          [
           0,
           "rgb(228, 241, 225)"
          ],
          [
           0.16666666666666666,
           "rgb(180, 217, 204)"
          ],
          [
           0.3333333333333333,
           "rgb(137, 192, 182)"
          ],
          [
           0.5,
           "rgb(99, 166, 160)"
          ],
          [
           0.6666666666666666,
           "rgb(68, 140, 138)"
          ],
          [
           0.8333333333333334,
           "rgb(40, 114, 116)"
          ],
          [
           1,
           "rgb(13, 88, 95)"
          ]
         ]
        },
        "geo": {
         "center": {},
         "domain": {
          "x": [
           0,
           1
          ],
          "y": [
           0,
           1
          ]
         },
         "projection": {
          "type": "natural earth"
         },
         "showcoastlines": false,
         "showframe": false
        },
        "legend": {
         "tracegroupgap": 0
        },
        "margin": {
         "b": 0,
         "l": 0,
         "r": 0,
         "t": 40
        },
        "template": {
         "data": {
          "bar": [
           {
            "error_x": {
             "color": "#2a3f5f"
            },
            "error_y": {
             "color": "#2a3f5f"
            },
            "marker": {
             "line": {
              "color": "#E5ECF6",
              "width": 0.5
             },
             "pattern": {
              "fillmode": "overlay",
              "size": 10,
              "solidity": 0.2
             }
            },
            "type": "bar"
           }
          ],
          "barpolar": [
           {
            "marker": {
             "line": {
              "color": "#E5ECF6",
              "width": 0.5
             },
             "pattern": {
              "fillmode": "overlay",
              "size": 10,
              "solidity": 0.2
             }
            },
            "type": "barpolar"
           }
          ],
          "carpet": [
           {
            "aaxis": {
             "endlinecolor": "#2a3f5f",
             "gridcolor": "white",
             "linecolor": "white",
             "minorgridcolor": "white",
             "startlinecolor": "#2a3f5f"
            },
            "baxis": {
             "endlinecolor": "#2a3f5f",
             "gridcolor": "white",
             "linecolor": "white",
             "minorgridcolor": "white",
             "startlinecolor": "#2a3f5f"
            },
            "type": "carpet"
           }
          ],
          "choropleth": [
           {
            "colorbar": {
             "outlinewidth": 0,
             "ticks": ""
            },
            "type": "choropleth"
           }
          ],
          "contour": [
           {
            "colorbar": {
             "outlinewidth": 0,
             "ticks": ""
            },
            "colorscale": [
             [
              0,
              "#0d0887"
             ],
             [
              0.1111111111111111,
              "#46039f"
             ],
             [
              0.2222222222222222,
              "#7201a8"
             ],
             [
              0.3333333333333333,
              "#9c179e"
             ],
             [
              0.4444444444444444,
              "#bd3786"
             ],
             [
              0.5555555555555556,
              "#d8576b"
             ],
             [
              0.6666666666666666,
              "#ed7953"
             ],
             [
              0.7777777777777778,
              "#fb9f3a"
             ],
             [
              0.8888888888888888,
              "#fdca26"
             ],
             [
              1,
              "#f0f921"
             ]
            ],
            "type": "contour"
           }
          ],
          "contourcarpet": [
           {
            "colorbar": {
             "outlinewidth": 0,
             "ticks": ""
            },
            "type": "contourcarpet"
           }
          ],
          "heatmap": [
           {
            "colorbar": {
             "outlinewidth": 0,
             "ticks": ""
            },
            "colorscale": [
             [
              0,
              "#0d0887"
             ],
             [
              0.1111111111111111,
              "#46039f"
             ],
             [
              0.2222222222222222,
              "#7201a8"
             ],
             [
              0.3333333333333333,
              "#9c179e"
             ],
             [
              0.4444444444444444,
              "#bd3786"
             ],
             [
              0.5555555555555556,
              "#d8576b"
             ],
             [
              0.6666666666666666,
              "#ed7953"
             ],
             [
              0.7777777777777778,
              "#fb9f3a"
             ],
             [
              0.8888888888888888,
              "#fdca26"
             ],
             [
              1,
              "#f0f921"
             ]
            ],
            "type": "heatmap"
           }
          ],
          "histogram": [
           {
            "marker": {
             "pattern": {
              "fillmode": "overlay",
              "size": 10,
              "solidity": 0.2
             }
            },
            "type": "histogram"
           }
          ],
          "histogram2d": [
           {
            "colorbar": {
             "outlinewidth": 0,
             "ticks": ""
            },
            "colorscale": [
             [
              0,
              "#0d0887"
             ],
             [
              0.1111111111111111,
              "#46039f"
             ],
             [
              0.2222222222222222,
              "#7201a8"
             ],
             [
              0.3333333333333333,
              "#9c179e"
             ],
             [
              0.4444444444444444,
              "#bd3786"
             ],
             [
              0.5555555555555556,
              "#d8576b"
             ],
             [
              0.6666666666666666,
              "#ed7953"
             ],
             [
              0.7777777777777778,
              "#fb9f3a"
             ],
             [
              0.8888888888888888,
              "#fdca26"
             ],
             [
              1,
              "#f0f921"
             ]
            ],
            "type": "histogram2d"
           }
          ],
          "histogram2dcontour": [
           {
            "colorbar": {
             "outlinewidth": 0,
             "ticks": ""
            },
            "colorscale": [
             [
              0,
              "#0d0887"
             ],
             [
              0.1111111111111111,
              "#46039f"
             ],
             [
              0.2222222222222222,
              "#7201a8"
             ],
             [
              0.3333333333333333,
              "#9c179e"
             ],
             [
              0.4444444444444444,
              "#bd3786"
             ],
             [
              0.5555555555555556,
              "#d8576b"
             ],
             [
              0.6666666666666666,
              "#ed7953"
             ],
             [
              0.7777777777777778,
              "#fb9f3a"
             ],
             [
              0.8888888888888888,
              "#fdca26"
             ],
             [
              1,
              "#f0f921"
             ]
            ],
            "type": "histogram2dcontour"
           }
          ],
          "mesh3d": [
           {
            "colorbar": {
             "outlinewidth": 0,
             "ticks": ""
            },
            "type": "mesh3d"
           }
          ],
          "parcoords": [
           {
            "line": {
             "colorbar": {
              "outlinewidth": 0,
              "ticks": ""
             }
            },
            "type": "parcoords"
           }
          ],
          "pie": [
           {
            "automargin": true,
            "type": "pie"
           }
          ],
          "scatter": [
           {
            "fillpattern": {
             "fillmode": "overlay",
             "size": 10,
             "solidity": 0.2
            },
            "type": "scatter"
           }
          ],
          "scatter3d": [
           {
            "line": {
             "colorbar": {
              "outlinewidth": 0,
              "ticks": ""
             }
            },
            "marker": {
             "colorbar": {
              "outlinewidth": 0,
              "ticks": ""
             }
            },
            "type": "scatter3d"
           }
          ],
          "scattercarpet": [
           {
            "marker": {
             "colorbar": {
              "outlinewidth": 0,
              "ticks": ""
             }
            },
            "type": "scattercarpet"
           }
          ],
          "scattergeo": [
           {
            "marker": {
             "colorbar": {
              "outlinewidth": 0,
              "ticks": ""
             }
            },
            "type": "scattergeo"
           }
          ],
          "scattergl": [
           {
            "marker": {
             "colorbar": {
              "outlinewidth": 0,
              "ticks": ""
             }
            },
            "type": "scattergl"
           }
          ],
          "scattermap": [
           {
            "marker": {
             "colorbar": {
              "outlinewidth": 0,
              "ticks": ""
             }
            },
            "type": "scattermap"
           }
          ],
          "scattermapbox": [
           {
            "marker": {
             "colorbar": {
              "outlinewidth": 0,
              "ticks": ""
             }
            },
            "type": "scattermapbox"
           }
          ],
          "scatterpolar": [
           {
            "marker": {
             "colorbar": {
              "outlinewidth": 0,
              "ticks": ""
             }
            },
            "type": "scatterpolar"
           }
          ],
          "scatterpolargl": [
           {
            "marker": {
             "colorbar": {
              "outlinewidth": 0,
              "ticks": ""
             }
            },
            "type": "scatterpolargl"
           }
          ],
          "scatterternary": [
           {
            "marker": {
             "colorbar": {
              "outlinewidth": 0,
              "ticks": ""
             }
            },
            "type": "scatterternary"
           }
          ],
          "surface": [
           {
            "colorbar": {
             "outlinewidth": 0,
             "ticks": ""
            },
            "colorscale": [
             [
              0,
              "#0d0887"
             ],
             [
              0.1111111111111111,
              "#46039f"
             ],
             [
              0.2222222222222222,
              "#7201a8"
             ],
             [
              0.3333333333333333,
              "#9c179e"
             ],
             [
              0.4444444444444444,
              "#bd3786"
             ],
             [
              0.5555555555555556,
              "#d8576b"
             ],
             [
              0.6666666666666666,
              "#ed7953"
             ],
             [
              0.7777777777777778,
              "#fb9f3a"
             ],
             [
              0.8888888888888888,
              "#fdca26"
             ],
             [
              1,
              "#f0f921"
             ]
            ],
            "type": "surface"
           }
          ],
          "table": [
           {
            "cells": {
             "fill": {
              "color": "#EBF0F8"
             },
             "line": {
              "color": "white"
             }
            },
            "header": {
             "fill": {
              "color": "#C8D4E3"
             },
             "line": {
              "color": "white"
             }
            },
            "type": "table"
           }
          ]
         },
         "layout": {
          "annotationdefaults": {
           "arrowcolor": "#2a3f5f",
           "arrowhead": 0,
           "arrowwidth": 1
          },
          "autotypenumbers": "strict",
          "coloraxis": {
           "colorbar": {
            "outlinewidth": 0,
            "ticks": ""
           }
          },
          "colorscale": {
           "diverging": [
            [
             0,
             "#8e0152"
            ],
            [
             0.1,
             "#c51b7d"
            ],
            [
             0.2,
             "#de77ae"
            ],
            [
             0.3,
             "#f1b6da"
            ],
            [
             0.4,
             "#fde0ef"
            ],
            [
             0.5,
             "#f7f7f7"
            ],
            [
             0.6,
             "#e6f5d0"
            ],
            [
             0.7,
             "#b8e186"
            ],
            [
             0.8,
             "#7fbc41"
            ],
            [
             0.9,
             "#4d9221"
            ],
            [
             1,
             "#276419"
            ]
           ],
           "sequential": [
            [
             0,
             "#0d0887"
            ],
            [
             0.1111111111111111,
             "#46039f"
            ],
            [
             0.2222222222222222,
             "#7201a8"
            ],
            [
             0.3333333333333333,
             "#9c179e"
            ],
            [
             0.4444444444444444,
             "#bd3786"
            ],
            [
             0.5555555555555556,
             "#d8576b"
            ],
            [
             0.6666666666666666,
             "#ed7953"
            ],
            [
             0.7777777777777778,
             "#fb9f3a"
            ],
            [
             0.8888888888888888,
             "#fdca26"
            ],
            [
             1,
             "#f0f921"
            ]
           ],
           "sequentialminus": [
            [
             0,
             "#0d0887"
            ],
            [
             0.1111111111111111,
             "#46039f"
            ],
            [
             0.2222222222222222,
             "#7201a8"
            ],
            [
             0.3333333333333333,
             "#9c179e"
            ],
            [
             0.4444444444444444,
             "#bd3786"
            ],
            [
             0.5555555555555556,
             "#d8576b"
            ],
            [
             0.6666666666666666,
             "#ed7953"
            ],
            [
             0.7777777777777778,
             "#fb9f3a"
            ],
            [
             0.8888888888888888,
             "#fdca26"
            ],
            [
             1,
             "#f0f921"
            ]
           ]
          },
          "colorway": [
           "#636efa",
           "#EF553B",
           "#00cc96",
           "#ab63fa",
           "#FFA15A",
           "#19d3f3",
           "#FF6692",
           "#B6E880",
           "#FF97FF",
           "#FECB52"
          ],
          "font": {
           "color": "#2a3f5f"
          },
          "geo": {
           "bgcolor": "white",
           "lakecolor": "white",
           "landcolor": "#E5ECF6",
           "showlakes": true,
           "showland": true,
           "subunitcolor": "white"
          },
          "hoverlabel": {
           "align": "left"
          },
          "hovermode": "closest",
          "mapbox": {
           "style": "light"
          },
          "paper_bgcolor": "white",
          "plot_bgcolor": "#E5ECF6",
          "polar": {
           "angularaxis": {
            "gridcolor": "white",
            "linecolor": "white",
            "ticks": ""
           },
           "bgcolor": "#E5ECF6",
           "radialaxis": {
            "gridcolor": "white",
            "linecolor": "white",
            "ticks": ""
           }
          },
          "scene": {
           "xaxis": {
            "backgroundcolor": "#E5ECF6",
            "gridcolor": "white",
            "gridwidth": 2,
            "linecolor": "white",
            "showbackground": true,
            "ticks": "",
            "zerolinecolor": "white"
           },
           "yaxis": {
            "backgroundcolor": "#E5ECF6",
            "gridcolor": "white",
            "gridwidth": 2,
            "linecolor": "white",
            "showbackground": true,
            "ticks": "",
            "zerolinecolor": "white"
           },
           "zaxis": {
            "backgroundcolor": "#E5ECF6",
            "gridcolor": "white",
            "gridwidth": 2,
            "linecolor": "white",
            "showbackground": true,
            "ticks": "",
            "zerolinecolor": "white"
           }
          },
          "shapedefaults": {
           "line": {
            "color": "#2a3f5f"
           }
          },
          "ternary": {
           "aaxis": {
            "gridcolor": "white",
            "linecolor": "white",
            "ticks": ""
           },
           "baxis": {
            "gridcolor": "white",
            "linecolor": "white",
            "ticks": ""
           },
           "bgcolor": "#E5ECF6",
           "caxis": {
            "gridcolor": "white",
            "linecolor": "white",
            "ticks": ""
           }
          },
          "title": {
           "x": 0.05
          },
          "xaxis": {
           "automargin": true,
           "gridcolor": "white",
           "linecolor": "white",
           "ticks": "",
           "title": {
            "standoff": 15
           },
           "zerolinecolor": "white",
           "zerolinewidth": 2
          },
          "yaxis": {
           "automargin": true,
           "gridcolor": "white",
           "linecolor": "white",
           "ticks": "",
           "title": {
            "standoff": 15
           },
           "zerolinecolor": "white",
           "zerolinewidth": 2
          }
         }
        },
        "title": {
         "text": "Paper Distribution by Country at NeurIPS"
        }
       }
      }
     },
     "metadata": {},
     "output_type": "display_data"
    }
   ],
   "source": [
    "conf = 'NeurIPS'\n",
    "paper_counts_df = get_paper_counts_by_conference(conf)\n",
    "\n",
    "# Generate and show the plot\n",
    "fig = plt_paper_df(paper_counts_df, f'Paper Distribution by Country at {conf}', threshold=1000)\n",
    "fig.show()"
   ]
  },
  {
   "cell_type": "markdown",
   "id": "94363569",
   "metadata": {},
   "source": []
  },
  {
   "cell_type": "code",
   "execution_count": null,
   "id": "fdadabba",
   "metadata": {},
   "outputs": [
    {
     "name": "stderr",
     "output_type": "stream",
     "text": [
      "/var/folders/ps/ccvmq3y93y3b3bszzzcw33g00000gn/T/ipykernel_66336/2219464011.py:18: SettingWithCopyWarning:\n",
      "\n",
      "\n",
      "A value is trying to be set on a copy of a slice from a DataFrame.\n",
      "Try using .loc[row_indexer,col_indexer] = value instead\n",
      "\n",
      "See the caveats in the documentation: https://pandas.pydata.org/pandas-docs/stable/user_guide/indexing.html#returning-a-view-versus-a-copy\n",
      "\n"
     ]
    },
    {
     "data": {
      "text/html": [
       "<div>\n",
       "<style scoped>\n",
       "    .dataframe tbody tr th:only-of-type {\n",
       "        vertical-align: middle;\n",
       "    }\n",
       "\n",
       "    .dataframe tbody tr th {\n",
       "        vertical-align: top;\n",
       "    }\n",
       "\n",
       "    .dataframe thead th {\n",
       "        text-align: right;\n",
       "    }\n",
       "</style>\n",
       "<table border=\"1\" class=\"dataframe\">\n",
       "  <thead>\n",
       "    <tr style=\"text-align: right;\">\n",
       "      <th></th>\n",
       "      <th>title</th>\n",
       "      <th>paper_id</th>\n",
       "      <th>pdf_url</th>\n",
       "      <th>full_name</th>\n",
       "    </tr>\n",
       "  </thead>\n",
       "  <tbody>\n",
       "    <tr>\n",
       "      <th>3</th>\n",
       "      <td>Iteratively Refined Early Interaction Alignmen...</td>\n",
       "      <td>udTwwF7tks</td>\n",
       "      <td>https://openreview.net/pdf/4ae7afbdb746c97e2bf...</td>\n",
       "      <td>Ashwin Ramachandran</td>\n",
       "    </tr>\n",
       "    <tr>\n",
       "      <th>12</th>\n",
       "      <td>DisCEdit: Model Editing by Identifying Discrim...</td>\n",
       "      <td>tuiqq1G8I5</td>\n",
       "      <td>https://openreview.net/pdf/c7df4a98dbe1cbf0192...</td>\n",
       "      <td>Chiranjib Bhattacharyya</td>\n",
       "    </tr>\n",
       "    <tr>\n",
       "      <th>14</th>\n",
       "      <td>Time-Reversal Provides Unsupervised Feedback t...</td>\n",
       "      <td>nY0BrZdqLt</td>\n",
       "      <td>https://openreview.net/pdf/08ee7a3ea3b3fd8e7bf...</td>\n",
       "      <td>Yerram Varun</td>\n",
       "    </tr>\n",
       "    <tr>\n",
       "      <th>18</th>\n",
       "      <td>UGC: Universal Graph Coarsening</td>\n",
       "      <td>nN6NSd1Qds</td>\n",
       "      <td>https://openreview.net/pdf/7835e160109c7dd1023...</td>\n",
       "      <td>Mohit Kataria</td>\n",
       "    </tr>\n",
       "    <tr>\n",
       "      <th>21</th>\n",
       "      <td>GraphTrail: Translating GNN Predictions into H...</td>\n",
       "      <td>fzlMza6dRZ</td>\n",
       "      <td>https://openreview.net/pdf/476e9d9dcd1fe989b9e...</td>\n",
       "      <td>Burouj Armgaan</td>\n",
       "    </tr>\n",
       "    <tr>\n",
       "      <th>26</th>\n",
       "      <td>Optimal Top-Two Method for Best Arm Identifica...</td>\n",
       "      <td>YXQW4qQe2U</td>\n",
       "      <td>https://openreview.net/pdf/4c086ee463f48a315e6...</td>\n",
       "      <td>Agniv Bandyopadhyay</td>\n",
       "    </tr>\n",
       "    <tr>\n",
       "      <th>32</th>\n",
       "      <td>Optimal Algorithms for Online Convex Optimizat...</td>\n",
       "      <td>TxffvJMnBy</td>\n",
       "      <td>https://openreview.net/pdf/269618651cc4c3886e1...</td>\n",
       "      <td>Abhishek Sinha</td>\n",
       "    </tr>\n",
       "    <tr>\n",
       "      <th>38</th>\n",
       "      <td>FUGAL: Feature-fortified Unrestricted Graph Al...</td>\n",
       "      <td>SdLOs1FR4h</td>\n",
       "      <td>https://openreview.net/pdf/17aef8ff1d289ba15e7...</td>\n",
       "      <td>Aditya Bommakanti</td>\n",
       "    </tr>\n",
       "    <tr>\n",
       "      <th>41</th>\n",
       "      <td>Accuracy is Not All You Need</td>\n",
       "      <td>QVG7j29Sta</td>\n",
       "      <td>https://openreview.net/pdf/7ecf82af167db2fa1a4...</td>\n",
       "      <td>Abhinav Dutta</td>\n",
       "    </tr>\n",
       "    <tr>\n",
       "      <th>46</th>\n",
       "      <td>Mitigating Biases in Blackbox Feature Extracto...</td>\n",
       "      <td>HwO1mNluoL</td>\n",
       "      <td>https://openreview.net/pdf/3ccdc8010ed3b8d6389...</td>\n",
       "      <td>Abhipsa Basu</td>\n",
       "    </tr>\n",
       "    <tr>\n",
       "      <th>48</th>\n",
       "      <td>Mixture of Nested Experts: Adaptive Processing...</td>\n",
       "      <td>HbV5vRJMOY</td>\n",
       "      <td>https://openreview.net/pdf/34a8b1b90acda923db4...</td>\n",
       "      <td>Gagan Jain</td>\n",
       "    </tr>\n",
       "    <tr>\n",
       "      <th>56</th>\n",
       "      <td>COLD: Causal reasOning in cLosed Daily activities</td>\n",
       "      <td>7Mo1NOosNT</td>\n",
       "      <td>https://openreview.net/pdf/015330ba1dcf5481f99...</td>\n",
       "      <td>Abhinav Joshi</td>\n",
       "    </tr>\n",
       "    <tr>\n",
       "      <th>62</th>\n",
       "      <td>Sample-Efficient Constrained Reinforcement Lea...</td>\n",
       "      <td>1po4j1Tv7O</td>\n",
       "      <td>https://openreview.net/pdf/b178b4957c9f40578fc...</td>\n",
       "      <td>Washim Uddin Mondal</td>\n",
       "    </tr>\n",
       "  </tbody>\n",
       "</table>\n",
       "</div>"
      ],
      "text/plain": [
       "                                                title    paper_id  \\\n",
       "3   Iteratively Refined Early Interaction Alignmen...  udTwwF7tks   \n",
       "12  DisCEdit: Model Editing by Identifying Discrim...  tuiqq1G8I5   \n",
       "14  Time-Reversal Provides Unsupervised Feedback t...  nY0BrZdqLt   \n",
       "18                    UGC: Universal Graph Coarsening  nN6NSd1Qds   \n",
       "21  GraphTrail: Translating GNN Predictions into H...  fzlMza6dRZ   \n",
       "26  Optimal Top-Two Method for Best Arm Identifica...  YXQW4qQe2U   \n",
       "32  Optimal Algorithms for Online Convex Optimizat...  TxffvJMnBy   \n",
       "38  FUGAL: Feature-fortified Unrestricted Graph Al...  SdLOs1FR4h   \n",
       "41                       Accuracy is Not All You Need  QVG7j29Sta   \n",
       "46  Mitigating Biases in Blackbox Feature Extracto...  HwO1mNluoL   \n",
       "48  Mixture of Nested Experts: Adaptive Processing...  HbV5vRJMOY   \n",
       "56  COLD: Causal reasOning in cLosed Daily activities  7Mo1NOosNT   \n",
       "62  Sample-Efficient Constrained Reinforcement Lea...  1po4j1Tv7O   \n",
       "\n",
       "                                              pdf_url                full_name  \n",
       "3   https://openreview.net/pdf/4ae7afbdb746c97e2bf...      Ashwin Ramachandran  \n",
       "12  https://openreview.net/pdf/c7df4a98dbe1cbf0192...  Chiranjib Bhattacharyya  \n",
       "14  https://openreview.net/pdf/08ee7a3ea3b3fd8e7bf...             Yerram Varun  \n",
       "18  https://openreview.net/pdf/7835e160109c7dd1023...            Mohit Kataria  \n",
       "21  https://openreview.net/pdf/476e9d9dcd1fe989b9e...           Burouj Armgaan  \n",
       "26  https://openreview.net/pdf/4c086ee463f48a315e6...      Agniv Bandyopadhyay  \n",
       "32  https://openreview.net/pdf/269618651cc4c3886e1...           Abhishek Sinha  \n",
       "38  https://openreview.net/pdf/17aef8ff1d289ba15e7...        Aditya Bommakanti  \n",
       "41  https://openreview.net/pdf/7ecf82af167db2fa1a4...            Abhinav Dutta  \n",
       "46  https://openreview.net/pdf/3ccdc8010ed3b8d6389...             Abhipsa Basu  \n",
       "48  https://openreview.net/pdf/34a8b1b90acda923db4...               Gagan Jain  \n",
       "56  https://openreview.net/pdf/015330ba1dcf5481f99...            Abhinav Joshi  \n",
       "62  https://openreview.net/pdf/b178b4957c9f40578fc...      Washim Uddin Mondal  "
      ]
     },
     "execution_count": 136,
     "metadata": {},
     "output_type": "execute_result"
    }
   ],
   "source": [
    "squeel = \"\"\"SELECT title, paper_id, pdf_url, full_name, position, affiliation_name, affiliation_domain, affiliation_country FROM ( SELECT * \n",
    "FROM paper_authors \n",
    "JOIN authors ON author_id = authors.id \n",
    "JOIN papers ON paper_id = papers.id \n",
    "JOIN venue_infos ON papers.venue_info_id = venue_infos.id)\n",
    "\n",
    "WHERE affiliation_country = 'IN'\n",
    "and conference = 'NeurIPS'\n",
    "and year = '2024'\n",
    "and track = 'Conference';\n",
    "\"\"\"\n",
    "\n",
    "\n",
    "ddf = pd.read_sql_query(squeel, conn)\n",
    "top_indian_authors = ddf[(ddf['position'] == 0) & (ddf['affiliation_country'] == 'IN')]\n",
    "\n",
    "papers_with_top_indian_authors = top_indian_authors[['title', 'paper_id', 'pdf_url', 'full_name']]\n",
    "papers_with_top_indian_authors[\"pdf_url\"] = \"https://openreview.net\" + papers_with_top_indian_authors[\"pdf_url\"]\n",
    "papers_with_top_indian_authors"
   ]
  },
  {
   "cell_type": "code",
   "execution_count": null,
   "id": "06d78d89",
   "metadata": {},
   "outputs": [],
   "source": [
    "def process_papers(ddf, cc='IN'):\n",
    "    filtered_papers = []\n",
    "    \n",
    "    # Group by paper_id to process each paper individually\n",
    "    grouped = ddf.groupby('paper_id')\n",
    "    \n",
    "    for paper_id, group in grouped:\n",
    "        paper_title = group['title'].iloc[0]\n",
    "        pdf_url = group['pdf_url'].iloc[0]\n",
    "        authors = group[['full_name', 'affiliation_country', 'position']].drop_duplicates()\n",
    "        \n",
    "        # Filter authors from India\n",
    "        indian_authors = authors[authors['affiliation_country'] == cc]\n",
    "        \n",
    "        if not indian_authors.empty:\n",
    "            # Create author list\n",
    "            author_list = authors['full_name'].tolist()\n",
    "            \n",
    "            # Check if top author is from India\n",
    "            top_author_from_india = (authors.sort_values(by='position').iloc[0]['affiliation_country'] == cc)\n",
    "            \n",
    "            # Check if majority authors are from India\n",
    "            majority_authors_from_india = len(indian_authors) / len(authors) >= 0.5\n",
    "            \n",
    "            filtered_papers.append({\n",
    "                'paper_title': paper_title,\n",
    "                'pdf_url': pdf_url,\n",
    "                'author_list': author_list,\n",
    "                'top_author_from_india': top_author_from_india,\n",
    "                'majority_authors_from_india': majority_authors_from_india\n",
    "            })\n",
    "    \n",
    "    return pd.DataFrame(filtered_papers)"
   ]
  },
  {
   "cell_type": "code",
   "execution_count": null,
   "id": "cb1c28c4",
   "metadata": {},
   "outputs": [
    {
     "data": {
      "text/html": [
       "<div>\n",
       "<style scoped>\n",
       "    .dataframe tbody tr th:only-of-type {\n",
       "        vertical-align: middle;\n",
       "    }\n",
       "\n",
       "    .dataframe tbody tr th {\n",
       "        vertical-align: top;\n",
       "    }\n",
       "\n",
       "    .dataframe thead th {\n",
       "        text-align: right;\n",
       "    }\n",
       "</style>\n",
       "<table border=\"1\" class=\"dataframe\">\n",
       "  <thead>\n",
       "    <tr style=\"text-align: right;\">\n",
       "      <th></th>\n",
       "      <th>paper_title</th>\n",
       "      <th>pdf_url</th>\n",
       "      <th>author_list</th>\n",
       "      <th>top_author_from_india</th>\n",
       "      <th>majority_authors_from_india</th>\n",
       "    </tr>\n",
       "  </thead>\n",
       "  <tbody>\n",
       "    <tr>\n",
       "      <th>0</th>\n",
       "      <td>Sample-Efficient Constrained Reinforcement Lea...</td>\n",
       "      <td>http://openreview.net/pdf/b178b4957c9f40578fc6...</td>\n",
       "      <td>[Washim Uddin Mondal, Vaneet Aggarwal]</td>\n",
       "      <td>True</td>\n",
       "      <td>True</td>\n",
       "    </tr>\n",
       "    <tr>\n",
       "      <th>1</th>\n",
       "      <td>Tiny Time Mixers (TTMs): Fast Pre-trained Mode...</td>\n",
       "      <td>http://openreview.net/pdf/c1a7cea36450273599d6...</td>\n",
       "      <td>[Vijay Ekambaram, Arindam Jati, , , , , , ]</td>\n",
       "      <td>False</td>\n",
       "      <td>False</td>\n",
       "    </tr>\n",
       "    <tr>\n",
       "      <th>2</th>\n",
       "      <td>Learning General Parameterized Policies for In...</td>\n",
       "      <td>http://openreview.net/pdf/500b125b905014d27b7d...</td>\n",
       "      <td>[Qinbo Bai, Washim Uddin Mondal, Vaneet Aggarwal]</td>\n",
       "      <td>False</td>\n",
       "      <td>False</td>\n",
       "    </tr>\n",
       "    <tr>\n",
       "      <th>3</th>\n",
       "      <td>Text2CAD: Generating Sequential CAD Designs fr...</td>\n",
       "      <td>http://openreview.net/pdf/9f3142a99be0b0075f8f...</td>\n",
       "      <td>[Mohammad Sadil Khan, Sankalp Sinha, Sheikh Ta...</td>\n",
       "      <td>False</td>\n",
       "      <td>False</td>\n",
       "    </tr>\n",
       "    <tr>\n",
       "      <th>4</th>\n",
       "      <td>COLD: Causal reasOning in cLosed Daily activities</td>\n",
       "      <td>http://openreview.net/pdf/015330ba1dcf5481f996...</td>\n",
       "      <td>[Abhinav Joshi, Areeb Ahmad, Ashutosh Modi]</td>\n",
       "      <td>True</td>\n",
       "      <td>True</td>\n",
       "    </tr>\n",
       "    <tr>\n",
       "      <th>5</th>\n",
       "      <td>Near-Optimal Streaming Heavy-Tailed Statistica...</td>\n",
       "      <td>http://openreview.net/pdf/492b971c4dfd9caecfce...</td>\n",
       "      <td>[Aniket Das, Dheeraj Mysore Nagaraj, Soumyabra...</td>\n",
       "      <td>False</td>\n",
       "      <td>False</td>\n",
       "    </tr>\n",
       "    <tr>\n",
       "      <th>6</th>\n",
       "      <td>Generalized Linear Bandits with Limited Adapti...</td>\n",
       "      <td>http://openreview.net/pdf/e2e8732933515749d301...</td>\n",
       "      <td>[Ayush Sawarni, Nirjhar Das, , Gaurav Sinha]</td>\n",
       "      <td>False</td>\n",
       "      <td>True</td>\n",
       "    </tr>\n",
       "    <tr>\n",
       "      <th>7</th>\n",
       "      <td>Mixture of Nested Experts: Adaptive Processing...</td>\n",
       "      <td>http://openreview.net/pdf/34a8b1b90acda923db44...</td>\n",
       "      <td>[Gagan Jain, Nidhi Hegde, Aditya Kusupati, Ars...</td>\n",
       "      <td>True</td>\n",
       "      <td>False</td>\n",
       "    </tr>\n",
       "    <tr>\n",
       "      <th>8</th>\n",
       "      <td>Mitigating Biases in Blackbox Feature Extracto...</td>\n",
       "      <td>http://openreview.net/pdf/3ccdc8010ed3b8d63897...</td>\n",
       "      <td>[Abhipsa Basu, Venkatesh Babu Radhakrishnan]</td>\n",
       "      <td>True</td>\n",
       "      <td>True</td>\n",
       "    </tr>\n",
       "    <tr>\n",
       "      <th>9</th>\n",
       "      <td>Quantifying the Gain in Weak-to-Strong General...</td>\n",
       "      <td>http://openreview.net/pdf/36318fbff6dff7b5a38a...</td>\n",
       "      <td>[Moses Charikar, , Kirankumar Shiragur]</td>\n",
       "      <td>False</td>\n",
       "      <td>False</td>\n",
       "    </tr>\n",
       "    <tr>\n",
       "      <th>10</th>\n",
       "      <td>Transfer Learning for Latent Variable Network ...</td>\n",
       "      <td>http://openreview.net/pdf/4830f6ed817c8346d73e...</td>\n",
       "      <td>[Akhil Jalan, , Soumendu Sundar Mukherjee, ]</td>\n",
       "      <td>False</td>\n",
       "      <td>False</td>\n",
       "    </tr>\n",
       "    <tr>\n",
       "      <th>11</th>\n",
       "      <td>Accuracy is Not All You Need</td>\n",
       "      <td>http://openreview.net/pdf/7ecf82af167db2fa1a4c...</td>\n",
       "      <td>[Abhinav Dutta, Sanjeev Krishnan, Nipun Kwatra...</td>\n",
       "      <td>True</td>\n",
       "      <td>True</td>\n",
       "    </tr>\n",
       "    <tr>\n",
       "      <th>12</th>\n",
       "      <td>FUGAL: Feature-fortified Unrestricted Graph Al...</td>\n",
       "      <td>http://openreview.net/pdf/17aef8ff1d289ba15e7f...</td>\n",
       "      <td>[Aditya Bommakanti, Harshith Reddy Vonteri, Ko...</td>\n",
       "      <td>True</td>\n",
       "      <td>True</td>\n",
       "    </tr>\n",
       "    <tr>\n",
       "      <th>13</th>\n",
       "      <td>Detecting and Measuring Confounding Using Caus...</td>\n",
       "      <td>http://openreview.net/pdf/f7c0e21c497fe89f9229...</td>\n",
       "      <td>[Abbavaram Gowtham Reddy, Vineeth N. Balasubra...</td>\n",
       "      <td>False</td>\n",
       "      <td>True</td>\n",
       "    </tr>\n",
       "    <tr>\n",
       "      <th>14</th>\n",
       "      <td>Conformal Prediction for Class-wise Coverage v...</td>\n",
       "      <td>http://openreview.net/pdf/7ad03c77e17e962d610b...</td>\n",
       "      <td>[Yuanjie Shi, SUBHANKAR GHOSH, Taha Belkhouja,...</td>\n",
       "      <td>False</td>\n",
       "      <td>False</td>\n",
       "    </tr>\n",
       "    <tr>\n",
       "      <th>15</th>\n",
       "      <td>RanDumb: Random Representations Outperform Onl...</td>\n",
       "      <td>http://openreview.net/pdf/c6f95dcde7006c0eddbc...</td>\n",
       "      <td>[, Shiven Sinha, Ponnurangam Kumaraguru, , , P...</td>\n",
       "      <td>False</td>\n",
       "      <td>False</td>\n",
       "    </tr>\n",
       "    <tr>\n",
       "      <th>16</th>\n",
       "      <td>Optimal Algorithms for Online Convex Optimizat...</td>\n",
       "      <td>http://openreview.net/pdf/269618651cc4c3886e15...</td>\n",
       "      <td>[Abhishek Sinha, Rahul Vaze]</td>\n",
       "      <td>True</td>\n",
       "      <td>True</td>\n",
       "    </tr>\n",
       "    <tr>\n",
       "      <th>17</th>\n",
       "      <td>TFS-NeRF: Template-Free NeRF for Semantic 3D R...</td>\n",
       "      <td>http://openreview.net/pdf/b14cb8a20e1c562c42ee...</td>\n",
       "      <td>[Sandika Biswas, Qianyi Wu, Biplab Banerjee, H...</td>\n",
       "      <td>False</td>\n",
       "      <td>False</td>\n",
       "    </tr>\n",
       "    <tr>\n",
       "      <th>18</th>\n",
       "      <td>Safety through feedback in Constrained RL</td>\n",
       "      <td>http://openreview.net/pdf/e7f3312fa2dfe2dbb6bb...</td>\n",
       "      <td>[Shashank Reddy Chirra, , ]</td>\n",
       "      <td>False</td>\n",
       "      <td>False</td>\n",
       "    </tr>\n",
       "    <tr>\n",
       "      <th>19</th>\n",
       "      <td>Sample Complexity of Interventional Causal Rep...</td>\n",
       "      <td>http://openreview.net/pdf/3cd848f730138b8b2afd...</td>\n",
       "      <td>[Emre Acartürk, Burak Varıcı, , ]</td>\n",
       "      <td>False</td>\n",
       "      <td>False</td>\n",
       "    </tr>\n",
       "    <tr>\n",
       "      <th>20</th>\n",
       "      <td>Long-Horizon Planning for Multi-Agent Robots i...</td>\n",
       "      <td>http://openreview.net/pdf/30511ccbe77a9b3fbd9e...</td>\n",
       "      <td>[Siddharth Nayak, Adelmo Morrison Orozco, Mari...</td>\n",
       "      <td>False</td>\n",
       "      <td>False</td>\n",
       "    </tr>\n",
       "    <tr>\n",
       "      <th>21</th>\n",
       "      <td>Optimal Top-Two Method for Best Arm Identifica...</td>\n",
       "      <td>http://openreview.net/pdf/4c086ee463f48a315e6f...</td>\n",
       "      <td>[Agniv Bandyopadhyay, Sandeep Kumar Juneja, Sh...</td>\n",
       "      <td>True</td>\n",
       "      <td>True</td>\n",
       "    </tr>\n",
       "    <tr>\n",
       "      <th>22</th>\n",
       "      <td>Learning Mixtures of Unknown Causal Interventions</td>\n",
       "      <td>http://openreview.net/pdf/c8ddbf508bab28061e33...</td>\n",
       "      <td>[Abhinav Kumar, Kirankumar Shiragur, ]</td>\n",
       "      <td>False</td>\n",
       "      <td>False</td>\n",
       "    </tr>\n",
       "    <tr>\n",
       "      <th>23</th>\n",
       "      <td>AutoMix: Automatically Mixing Language Models</td>\n",
       "      <td>http://openreview.net/pdf/f99d5e58580a4ddb7a4d...</td>\n",
       "      <td>[Pranjal Aggarwal, , Ankit Anand, Swaroop Mish...</td>\n",
       "      <td>False</td>\n",
       "      <td>False</td>\n",
       "    </tr>\n",
       "    <tr>\n",
       "      <th>24</th>\n",
       "      <td>GraphTrail: Translating GNN Predictions into H...</td>\n",
       "      <td>http://openreview.net/pdf/476e9d9dcd1fe989b9ed...</td>\n",
       "      <td>[Burouj Armgaan, Manthan Dalmia, Sourav Medya, ]</td>\n",
       "      <td>True</td>\n",
       "      <td>True</td>\n",
       "    </tr>\n",
       "    <tr>\n",
       "      <th>25</th>\n",
       "      <td>UGC: Universal Graph Coarsening</td>\n",
       "      <td>http://openreview.net/pdf/7835e160109c7dd1023e...</td>\n",
       "      <td>[Mohit Kataria, Sandeep Kumar, ]</td>\n",
       "      <td>True</td>\n",
       "      <td>True</td>\n",
       "    </tr>\n",
       "    <tr>\n",
       "      <th>26</th>\n",
       "      <td>Time-Reversal Provides Unsupervised Feedback t...</td>\n",
       "      <td>http://openreview.net/pdf/08ee7a3ea3b3fd8e7bf8...</td>\n",
       "      <td>[Yerram Varun, Rahul Madhavan, Sravanti Addepa...</td>\n",
       "      <td>True</td>\n",
       "      <td>True</td>\n",
       "    </tr>\n",
       "    <tr>\n",
       "      <th>27</th>\n",
       "      <td>Latent Representation Matters: Human-like Sket...</td>\n",
       "      <td>http://openreview.net/pdf/260aead53bf9f89aad29...</td>\n",
       "      <td>[Victor Boutin, Rishav Mukherji, Aditya Agrawa...</td>\n",
       "      <td>False</td>\n",
       "      <td>False</td>\n",
       "    </tr>\n",
       "    <tr>\n",
       "      <th>28</th>\n",
       "      <td>DisCEdit: Model Editing by Identifying Discrim...</td>\n",
       "      <td>http://openreview.net/pdf/c7df4a98dbe1cbf0192e...</td>\n",
       "      <td>[Chiranjib Bhattacharyya]</td>\n",
       "      <td>True</td>\n",
       "      <td>True</td>\n",
       "    </tr>\n",
       "    <tr>\n",
       "      <th>29</th>\n",
       "      <td>Graph Edit Distance with General Costs Using N...</td>\n",
       "      <td>http://openreview.net/pdf/405e32e6f9667c1d8b69...</td>\n",
       "      <td>[Eeshaan Jain, Indradyumna Roy, Saswat Meher, ...</td>\n",
       "      <td>False</td>\n",
       "      <td>True</td>\n",
       "    </tr>\n",
       "    <tr>\n",
       "      <th>30</th>\n",
       "      <td>Iteratively Refined Early Interaction Alignmen...</td>\n",
       "      <td>http://openreview.net/pdf/4ae7afbdb746c97e2bfe...</td>\n",
       "      <td>[Ashwin Ramachandran, Vaibhav Raj, Indradyumna...</td>\n",
       "      <td>True</td>\n",
       "      <td>True</td>\n",
       "    </tr>\n",
       "    <tr>\n",
       "      <th>31</th>\n",
       "      <td>FactorSim: Generative Simulation via Factorize...</td>\n",
       "      <td>http://openreview.net/pdf/c3c4eed43ecec8fe574f...</td>\n",
       "      <td>[Fan-Yun Sun, Harini S I, Angela Yi, Yihan Zho...</td>\n",
       "      <td>False</td>\n",
       "      <td>False</td>\n",
       "    </tr>\n",
       "    <tr>\n",
       "      <th>32</th>\n",
       "      <td>Linear Causal Representation Learning from Unk...</td>\n",
       "      <td>http://openreview.net/pdf/97134ff9ae5f0c497e59...</td>\n",
       "      <td>[Burak Varıcı, Emre Acartürk, , ]</td>\n",
       "      <td>False</td>\n",
       "      <td>False</td>\n",
       "    </tr>\n",
       "    <tr>\n",
       "      <th>33</th>\n",
       "      <td>Predicting Ground State Properties: Constant S...</td>\n",
       "      <td>http://openreview.net/pdf/83a1900fe49a28fcac07...</td>\n",
       "      <td>[Marc Wanner, Laura Lewis, Chiranjib Bhattacha...</td>\n",
       "      <td>False</td>\n",
       "      <td>False</td>\n",
       "    </tr>\n",
       "  </tbody>\n",
       "</table>\n",
       "</div>"
      ],
      "text/plain": [
       "                                          paper_title  \\\n",
       "0   Sample-Efficient Constrained Reinforcement Lea...   \n",
       "1   Tiny Time Mixers (TTMs): Fast Pre-trained Mode...   \n",
       "2   Learning General Parameterized Policies for In...   \n",
       "3   Text2CAD: Generating Sequential CAD Designs fr...   \n",
       "4   COLD: Causal reasOning in cLosed Daily activities   \n",
       "5   Near-Optimal Streaming Heavy-Tailed Statistica...   \n",
       "6   Generalized Linear Bandits with Limited Adapti...   \n",
       "7   Mixture of Nested Experts: Adaptive Processing...   \n",
       "8   Mitigating Biases in Blackbox Feature Extracto...   \n",
       "9   Quantifying the Gain in Weak-to-Strong General...   \n",
       "10  Transfer Learning for Latent Variable Network ...   \n",
       "11                       Accuracy is Not All You Need   \n",
       "12  FUGAL: Feature-fortified Unrestricted Graph Al...   \n",
       "13  Detecting and Measuring Confounding Using Caus...   \n",
       "14  Conformal Prediction for Class-wise Coverage v...   \n",
       "15  RanDumb: Random Representations Outperform Onl...   \n",
       "16  Optimal Algorithms for Online Convex Optimizat...   \n",
       "17  TFS-NeRF: Template-Free NeRF for Semantic 3D R...   \n",
       "18          Safety through feedback in Constrained RL   \n",
       "19  Sample Complexity of Interventional Causal Rep...   \n",
       "20  Long-Horizon Planning for Multi-Agent Robots i...   \n",
       "21  Optimal Top-Two Method for Best Arm Identifica...   \n",
       "22  Learning Mixtures of Unknown Causal Interventions   \n",
       "23      AutoMix: Automatically Mixing Language Models   \n",
       "24  GraphTrail: Translating GNN Predictions into H...   \n",
       "25                    UGC: Universal Graph Coarsening   \n",
       "26  Time-Reversal Provides Unsupervised Feedback t...   \n",
       "27  Latent Representation Matters: Human-like Sket...   \n",
       "28  DisCEdit: Model Editing by Identifying Discrim...   \n",
       "29  Graph Edit Distance with General Costs Using N...   \n",
       "30  Iteratively Refined Early Interaction Alignmen...   \n",
       "31  FactorSim: Generative Simulation via Factorize...   \n",
       "32  Linear Causal Representation Learning from Unk...   \n",
       "33  Predicting Ground State Properties: Constant S...   \n",
       "\n",
       "                                              pdf_url  \\\n",
       "0   http://openreview.net/pdf/b178b4957c9f40578fc6...   \n",
       "1   http://openreview.net/pdf/c1a7cea36450273599d6...   \n",
       "2   http://openreview.net/pdf/500b125b905014d27b7d...   \n",
       "3   http://openreview.net/pdf/9f3142a99be0b0075f8f...   \n",
       "4   http://openreview.net/pdf/015330ba1dcf5481f996...   \n",
       "5   http://openreview.net/pdf/492b971c4dfd9caecfce...   \n",
       "6   http://openreview.net/pdf/e2e8732933515749d301...   \n",
       "7   http://openreview.net/pdf/34a8b1b90acda923db44...   \n",
       "8   http://openreview.net/pdf/3ccdc8010ed3b8d63897...   \n",
       "9   http://openreview.net/pdf/36318fbff6dff7b5a38a...   \n",
       "10  http://openreview.net/pdf/4830f6ed817c8346d73e...   \n",
       "11  http://openreview.net/pdf/7ecf82af167db2fa1a4c...   \n",
       "12  http://openreview.net/pdf/17aef8ff1d289ba15e7f...   \n",
       "13  http://openreview.net/pdf/f7c0e21c497fe89f9229...   \n",
       "14  http://openreview.net/pdf/7ad03c77e17e962d610b...   \n",
       "15  http://openreview.net/pdf/c6f95dcde7006c0eddbc...   \n",
       "16  http://openreview.net/pdf/269618651cc4c3886e15...   \n",
       "17  http://openreview.net/pdf/b14cb8a20e1c562c42ee...   \n",
       "18  http://openreview.net/pdf/e7f3312fa2dfe2dbb6bb...   \n",
       "19  http://openreview.net/pdf/3cd848f730138b8b2afd...   \n",
       "20  http://openreview.net/pdf/30511ccbe77a9b3fbd9e...   \n",
       "21  http://openreview.net/pdf/4c086ee463f48a315e6f...   \n",
       "22  http://openreview.net/pdf/c8ddbf508bab28061e33...   \n",
       "23  http://openreview.net/pdf/f99d5e58580a4ddb7a4d...   \n",
       "24  http://openreview.net/pdf/476e9d9dcd1fe989b9ed...   \n",
       "25  http://openreview.net/pdf/7835e160109c7dd1023e...   \n",
       "26  http://openreview.net/pdf/08ee7a3ea3b3fd8e7bf8...   \n",
       "27  http://openreview.net/pdf/260aead53bf9f89aad29...   \n",
       "28  http://openreview.net/pdf/c7df4a98dbe1cbf0192e...   \n",
       "29  http://openreview.net/pdf/405e32e6f9667c1d8b69...   \n",
       "30  http://openreview.net/pdf/4ae7afbdb746c97e2bfe...   \n",
       "31  http://openreview.net/pdf/c3c4eed43ecec8fe574f...   \n",
       "32  http://openreview.net/pdf/97134ff9ae5f0c497e59...   \n",
       "33  http://openreview.net/pdf/83a1900fe49a28fcac07...   \n",
       "\n",
       "                                          author_list  top_author_from_india  \\\n",
       "0              [Washim Uddin Mondal, Vaneet Aggarwal]                   True   \n",
       "1         [Vijay Ekambaram, Arindam Jati, , , , , , ]                  False   \n",
       "2   [Qinbo Bai, Washim Uddin Mondal, Vaneet Aggarwal]                  False   \n",
       "3   [Mohammad Sadil Khan, Sankalp Sinha, Sheikh Ta...                  False   \n",
       "4         [Abhinav Joshi, Areeb Ahmad, Ashutosh Modi]                   True   \n",
       "5   [Aniket Das, Dheeraj Mysore Nagaraj, Soumyabra...                  False   \n",
       "6        [Ayush Sawarni, Nirjhar Das, , Gaurav Sinha]                  False   \n",
       "7   [Gagan Jain, Nidhi Hegde, Aditya Kusupati, Ars...                   True   \n",
       "8        [Abhipsa Basu, Venkatesh Babu Radhakrishnan]                   True   \n",
       "9             [Moses Charikar, , Kirankumar Shiragur]                  False   \n",
       "10       [Akhil Jalan, , Soumendu Sundar Mukherjee, ]                  False   \n",
       "11  [Abhinav Dutta, Sanjeev Krishnan, Nipun Kwatra...                   True   \n",
       "12  [Aditya Bommakanti, Harshith Reddy Vonteri, Ko...                   True   \n",
       "13  [Abbavaram Gowtham Reddy, Vineeth N. Balasubra...                  False   \n",
       "14  [Yuanjie Shi, SUBHANKAR GHOSH, Taha Belkhouja,...                  False   \n",
       "15  [, Shiven Sinha, Ponnurangam Kumaraguru, , , P...                  False   \n",
       "16                       [Abhishek Sinha, Rahul Vaze]                   True   \n",
       "17  [Sandika Biswas, Qianyi Wu, Biplab Banerjee, H...                  False   \n",
       "18                        [Shashank Reddy Chirra, , ]                  False   \n",
       "19                  [Emre Acartürk, Burak Varıcı, , ]                  False   \n",
       "20  [Siddharth Nayak, Adelmo Morrison Orozco, Mari...                  False   \n",
       "21  [Agniv Bandyopadhyay, Sandeep Kumar Juneja, Sh...                   True   \n",
       "22             [Abhinav Kumar, Kirankumar Shiragur, ]                  False   \n",
       "23  [Pranjal Aggarwal, , Ankit Anand, Swaroop Mish...                  False   \n",
       "24   [Burouj Armgaan, Manthan Dalmia, Sourav Medya, ]                   True   \n",
       "25                   [Mohit Kataria, Sandeep Kumar, ]                   True   \n",
       "26  [Yerram Varun, Rahul Madhavan, Sravanti Addepa...                   True   \n",
       "27  [Victor Boutin, Rishav Mukherji, Aditya Agrawa...                  False   \n",
       "28                          [Chiranjib Bhattacharyya]                   True   \n",
       "29  [Eeshaan Jain, Indradyumna Roy, Saswat Meher, ...                  False   \n",
       "30  [Ashwin Ramachandran, Vaibhav Raj, Indradyumna...                   True   \n",
       "31  [Fan-Yun Sun, Harini S I, Angela Yi, Yihan Zho...                  False   \n",
       "32                  [Burak Varıcı, Emre Acartürk, , ]                  False   \n",
       "33  [Marc Wanner, Laura Lewis, Chiranjib Bhattacha...                  False   \n",
       "\n",
       "    majority_authors_from_india  \n",
       "0                          True  \n",
       "1                         False  \n",
       "2                         False  \n",
       "3                         False  \n",
       "4                          True  \n",
       "5                         False  \n",
       "6                          True  \n",
       "7                         False  \n",
       "8                          True  \n",
       "9                         False  \n",
       "10                        False  \n",
       "11                         True  \n",
       "12                         True  \n",
       "13                         True  \n",
       "14                        False  \n",
       "15                        False  \n",
       "16                         True  \n",
       "17                        False  \n",
       "18                        False  \n",
       "19                        False  \n",
       "20                        False  \n",
       "21                         True  \n",
       "22                        False  \n",
       "23                        False  \n",
       "24                         True  \n",
       "25                         True  \n",
       "26                         True  \n",
       "27                        False  \n",
       "28                         True  \n",
       "29                         True  \n",
       "30                         True  \n",
       "31                        False  \n",
       "32                        False  \n",
       "33                        False  "
      ]
     },
     "execution_count": 134,
     "metadata": {},
     "output_type": "execute_result"
    }
   ],
   "source": [
    "squeel = \"\"\"SELECT title, paper_id, pdf_url, full_name, position, affiliation_name, affiliation_domain, affiliation_country FROM ( SELECT * \n",
    "FROM paper_authors \n",
    "JOIN authors ON author_id = authors.id \n",
    "JOIN papers ON paper_id = papers.id \n",
    "JOIN venue_infos ON papers.venue_info_id = venue_infos.id)\n",
    "\n",
    "WHERE conference = 'NeurIPS'\n",
    "and year = '2024'\n",
    "and track = 'Conference';\n",
    "\"\"\"\n",
    "\n",
    "ddf = pd.read_sql_query(squeel, conn)\n",
    "\n",
    "\n",
    "kdf = process_papers(ddf)\n",
    "\n",
    "kdf[\"pdf_url\"] = \"http://openreview.net\"+ kdf[\"pdf_url\"]\n",
    "\n",
    "kdf"
   ]
  },
  {
   "cell_type": "markdown",
   "id": "b9489775",
   "metadata": {},
   "source": [
    "## India at ICML 2024 Conference"
   ]
  },
  {
   "cell_type": "code",
   "execution_count": 6,
   "id": "b3358a0a",
   "metadata": {},
   "outputs": [
    {
     "data": {
      "application/vnd.plotly.v1+json": {
       "config": {
        "plotlyServerURL": "https://plot.ly"
       },
       "data": [
        {
         "coloraxis": "coloraxis",
         "customdata": {
          "bdata": "AAAAAACyskAAAAAAAADwPwAAAAAAYqdAyoH6Ucwu6T8AAAAAAOB5QOXPBJ4CxuI/AAAAAABweUBIQN2xcrjiPwAAAAAAsHZAWblJy3hd4j8AAAAAACB2QPeeVRGDSeI/AAAAAADQckAWV/XdmsjhPwAAAAAA4HFAOGboT/2f4T8AAAAAAHBxQERGaa9NjOE/AAAAAADAa0Cj/AIi1tbgPwAAAAAAAGVA+4c/cZDz3z8AAAAAAOBkQF9NyPIZ6t8/AAAAAADAY0DH5pEmT5LfPwAAAAAAQGFA8R0aMPa73j8AAAAAAABVQLvRho/Bq9s/AAAAAABAU0CoYnTNuCLbPwAAAAAAAExA7JhcOZku2T8AAAAAAIBKQALoqZNj2Ng/AAAAAACASUD8t3NjNpzYPwAAAAAAgEZAiIjNdrnY1z8AAAAAAABGQCotSuqttdc/AAAAAAAAREC5EbFsPyHXPwAAAAAAgEBA5+d7ub321T8AAAAAAIBAQOfne7m99tU/AAAAAAAAQEBLLnYSJMfVPwAAAAAAAD5AdayO8nNj1T8AAAAAAAA3QKiSqL9ey9M/AAAAAAAAM0DR10gWqajSPwAAAAAAADNA0ddIFqmo0j8AAAAAAAAxQFZDPxSqANI/AAAAAAAALEB/iN9q9N3QPwAAAAAAACxAf4jfavTd0D8AAAAAAAAmQFMxfVRP9M4/AAAAAAAAJEBAExcm1d7NPwAAAAAAACJAo7u9AeSuzD8AAAAAAAAgQK6Sqv3lXss/AAAAAAAAGEBvdT9mdj3IPwAAAAAAABRAVT2pKeFRxj8AAAAAAAAUQFU9qSnhUcY/AAAAAAAAEECmx+nWdQzEPwAAAAAAAAhA/OenVdxEwT8AAAAAAAAIQPznp1XcRME/AAAAAAAACED856dV3ETBPwAAAAAAAAhA/OenVdxEwT8AAAAAAAAIQPznp1XcRME/AAAAAAAAAECukqr95V67PwAAAAAAAABArpKq/eVeuz8AAAAAAAAAQK6Sqv3lXrs/AAAAAAAA8D/856dV3ESxPwAAAAAAAPA//OenVdxEsT8AAAAAAADwP/znp1XcRLE/AAAAAAAA8D/856dV3ESxPwAAAAAAAPA//OenVdxEsT8AAAAAAADwP/znp1XcRLE/AAAAAAAA8D/856dV3ESxPwAAAAAAAPA//OenVdxEsT8=",
          "dtype": "f8",
          "shape": "56, 2"
         },
         "geo": "geo",
         "hovertemplate": "<b>%{hovertext}</b><br><br>iso_code=%{location}<br>Authors=%{customdata[0]}<extra></extra>",
         "hovertext": [
          "US",
          "CN",
          "GB",
          "DE",
          "KR",
          "CA",
          "CH",
          "HK",
          "SG",
          "FR",
          "UK",
          "IL",
          "JP",
          "AU",
          "IT",
          "NL",
          "AT",
          "SE",
          "AI",
          "RU",
          "IN",
          "AE",
          "SA",
          "PL",
          "DK",
          "TW",
          "FI",
          "BE",
          "BR",
          "ES",
          "NO",
          "GR",
          "IR",
          "CZ",
          "MO",
          "CL",
          "VN",
          "IE",
          "PT",
          "BG",
          "KP",
          "CO",
          "ML",
          "EE",
          "NZ",
          "IO",
          "CY",
          "AM",
          "LU",
          "MY",
          "BO",
          "TR",
          "EU",
          "ZA",
          "ST",
          "AR"
         ],
         "locations": [
          "USA",
          "CHN",
          "GBR",
          "DEU",
          "KOR",
          "CAN",
          "CHE",
          "HKG",
          "SGP",
          "FRA",
          "UGA",
          "ISR",
          "JPN",
          "AUS",
          "ITA",
          "NLD",
          "AUT",
          "SWE",
          "KNA",
          "RUS",
          "IND",
          "ARE",
          "SAU",
          "POL",
          "DNK",
          "TWN",
          "FIN",
          "BEL",
          "BRA",
          "ESP",
          "NOR",
          "GRC",
          "IRN",
          "CZE",
          "MCO",
          "CHL",
          "VNM",
          "IRL",
          "PRT",
          "BGR",
          "PRK",
          "COL",
          "MLI",
          "EST",
          "NZL",
          "IOT",
          "CYP",
          "ARM",
          "LUX",
          "MYS",
          "BOL",
          "TUR",
          "REU",
          "ZAF",
          "STP",
          "ARG"
         ],
         "name": "",
         "type": "choropleth",
         "z": {
          "bdata": "AAAAAAAA8D/KgfpRzC7pP+XPBJ4CxuI/SEDdsXK44j9ZuUnLeF3iP/eeVRGDSeI/Flf13ZrI4T84ZuhP/Z/hP0RGaa9NjOE/o/wCItbW4D/7hz9xkPPfP19NyPIZ6t8/x+aRJk+S3z/xHRow9rveP7vRho/Bq9s/qGJ0zbgi2z/smFw5mS7ZPwLoqZNj2Ng//LdzYzac2D+IiM12udjXPyotSuqttdc/uRGxbD8h1z/n53u5vfbVP+fne7m99tU/Sy52EiTH1T91rI7yc2PVP6iSqL9ey9M/0ddIFqmo0j/R10gWqajSP1ZDPxSqANI/f4jfavTd0D9/iN9q9N3QP1MxfVRP9M4/QBMXJtXezT+ju70B5K7MP66Sqv3lXss/b3U/ZnY9yD9VPakp4VHGP1U9qSnhUcY/psfp1nUMxD/856dV3ETBP/znp1XcRME//OenVdxEwT/856dV3ETBP/znp1XcRME/rpKq/eVeuz+ukqr95V67P66Sqv3lXrs//OenVdxEsT/856dV3ESxP/znp1XcRLE//OenVdxEsT/856dV3ESxP/znp1XcRLE//OenVdxEsT/856dV3ESxPw==",
          "dtype": "f8"
         }
        }
       ],
       "layout": {
        "coloraxis": {
         "colorbar": {
          "ticktext": [
           "1",
           "10",
           "100",
           "1000",
           "2900",
           "4786"
          ],
          "tickvals": [
           0.06745698062141509,
           0.23336281165952677,
           0.4491428429652712,
           0.6723589885915592,
           0.7759127608774489,
           1
          ],
          "title": {
           "text": "Number of Authors"
          }
         },
         "colorscale": [
          [
           0,
           "rgb(228, 241, 225)"
          ],
          [
           0.16666666666666666,
           "rgb(180, 217, 204)"
          ],
          [
           0.3333333333333333,
           "rgb(137, 192, 182)"
          ],
          [
           0.5,
           "rgb(99, 166, 160)"
          ],
          [
           0.6666666666666666,
           "rgb(68, 140, 138)"
          ],
          [
           0.8333333333333334,
           "rgb(40, 114, 116)"
          ],
          [
           1,
           "rgb(13, 88, 95)"
          ]
         ]
        },
        "geo": {
         "center": {},
         "domain": {
          "x": [
           0,
           1
          ],
          "y": [
           0,
           1
          ]
         },
         "projection": {
          "type": "natural earth"
         },
         "showcoastlines": false,
         "showframe": false
        },
        "legend": {
         "tracegroupgap": 0
        },
        "margin": {
         "b": 0,
         "l": 0,
         "r": 0,
         "t": 40
        },
        "template": {
         "data": {
          "bar": [
           {
            "error_x": {
             "color": "#2a3f5f"
            },
            "error_y": {
             "color": "#2a3f5f"
            },
            "marker": {
             "line": {
              "color": "#E5ECF6",
              "width": 0.5
             },
             "pattern": {
              "fillmode": "overlay",
              "size": 10,
              "solidity": 0.2
             }
            },
            "type": "bar"
           }
          ],
          "barpolar": [
           {
            "marker": {
             "line": {
              "color": "#E5ECF6",
              "width": 0.5
             },
             "pattern": {
              "fillmode": "overlay",
              "size": 10,
              "solidity": 0.2
             }
            },
            "type": "barpolar"
           }
          ],
          "carpet": [
           {
            "aaxis": {
             "endlinecolor": "#2a3f5f",
             "gridcolor": "white",
             "linecolor": "white",
             "minorgridcolor": "white",
             "startlinecolor": "#2a3f5f"
            },
            "baxis": {
             "endlinecolor": "#2a3f5f",
             "gridcolor": "white",
             "linecolor": "white",
             "minorgridcolor": "white",
             "startlinecolor": "#2a3f5f"
            },
            "type": "carpet"
           }
          ],
          "choropleth": [
           {
            "colorbar": {
             "outlinewidth": 0,
             "ticks": ""
            },
            "type": "choropleth"
           }
          ],
          "contour": [
           {
            "colorbar": {
             "outlinewidth": 0,
             "ticks": ""
            },
            "colorscale": [
             [
              0,
              "#0d0887"
             ],
             [
              0.1111111111111111,
              "#46039f"
             ],
             [
              0.2222222222222222,
              "#7201a8"
             ],
             [
              0.3333333333333333,
              "#9c179e"
             ],
             [
              0.4444444444444444,
              "#bd3786"
             ],
             [
              0.5555555555555556,
              "#d8576b"
             ],
             [
              0.6666666666666666,
              "#ed7953"
             ],
             [
              0.7777777777777778,
              "#fb9f3a"
             ],
             [
              0.8888888888888888,
              "#fdca26"
             ],
             [
              1,
              "#f0f921"
             ]
            ],
            "type": "contour"
           }
          ],
          "contourcarpet": [
           {
            "colorbar": {
             "outlinewidth": 0,
             "ticks": ""
            },
            "type": "contourcarpet"
           }
          ],
          "heatmap": [
           {
            "colorbar": {
             "outlinewidth": 0,
             "ticks": ""
            },
            "colorscale": [
             [
              0,
              "#0d0887"
             ],
             [
              0.1111111111111111,
              "#46039f"
             ],
             [
              0.2222222222222222,
              "#7201a8"
             ],
             [
              0.3333333333333333,
              "#9c179e"
             ],
             [
              0.4444444444444444,
              "#bd3786"
             ],
             [
              0.5555555555555556,
              "#d8576b"
             ],
             [
              0.6666666666666666,
              "#ed7953"
             ],
             [
              0.7777777777777778,
              "#fb9f3a"
             ],
             [
              0.8888888888888888,
              "#fdca26"
             ],
             [
              1,
              "#f0f921"
             ]
            ],
            "type": "heatmap"
           }
          ],
          "histogram": [
           {
            "marker": {
             "pattern": {
              "fillmode": "overlay",
              "size": 10,
              "solidity": 0.2
             }
            },
            "type": "histogram"
           }
          ],
          "histogram2d": [
           {
            "colorbar": {
             "outlinewidth": 0,
             "ticks": ""
            },
            "colorscale": [
             [
              0,
              "#0d0887"
             ],
             [
              0.1111111111111111,
              "#46039f"
             ],
             [
              0.2222222222222222,
              "#7201a8"
             ],
             [
              0.3333333333333333,
              "#9c179e"
             ],
             [
              0.4444444444444444,
              "#bd3786"
             ],
             [
              0.5555555555555556,
              "#d8576b"
             ],
             [
              0.6666666666666666,
              "#ed7953"
             ],
             [
              0.7777777777777778,
              "#fb9f3a"
             ],
             [
              0.8888888888888888,
              "#fdca26"
             ],
             [
              1,
              "#f0f921"
             ]
            ],
            "type": "histogram2d"
           }
          ],
          "histogram2dcontour": [
           {
            "colorbar": {
             "outlinewidth": 0,
             "ticks": ""
            },
            "colorscale": [
             [
              0,
              "#0d0887"
             ],
             [
              0.1111111111111111,
              "#46039f"
             ],
             [
              0.2222222222222222,
              "#7201a8"
             ],
             [
              0.3333333333333333,
              "#9c179e"
             ],
             [
              0.4444444444444444,
              "#bd3786"
             ],
             [
              0.5555555555555556,
              "#d8576b"
             ],
             [
              0.6666666666666666,
              "#ed7953"
             ],
             [
              0.7777777777777778,
              "#fb9f3a"
             ],
             [
              0.8888888888888888,
              "#fdca26"
             ],
             [
              1,
              "#f0f921"
             ]
            ],
            "type": "histogram2dcontour"
           }
          ],
          "mesh3d": [
           {
            "colorbar": {
             "outlinewidth": 0,
             "ticks": ""
            },
            "type": "mesh3d"
           }
          ],
          "parcoords": [
           {
            "line": {
             "colorbar": {
              "outlinewidth": 0,
              "ticks": ""
             }
            },
            "type": "parcoords"
           }
          ],
          "pie": [
           {
            "automargin": true,
            "type": "pie"
           }
          ],
          "scatter": [
           {
            "fillpattern": {
             "fillmode": "overlay",
             "size": 10,
             "solidity": 0.2
            },
            "type": "scatter"
           }
          ],
          "scatter3d": [
           {
            "line": {
             "colorbar": {
              "outlinewidth": 0,
              "ticks": ""
             }
            },
            "marker": {
             "colorbar": {
              "outlinewidth": 0,
              "ticks": ""
             }
            },
            "type": "scatter3d"
           }
          ],
          "scattercarpet": [
           {
            "marker": {
             "colorbar": {
              "outlinewidth": 0,
              "ticks": ""
             }
            },
            "type": "scattercarpet"
           }
          ],
          "scattergeo": [
           {
            "marker": {
             "colorbar": {
              "outlinewidth": 0,
              "ticks": ""
             }
            },
            "type": "scattergeo"
           }
          ],
          "scattergl": [
           {
            "marker": {
             "colorbar": {
              "outlinewidth": 0,
              "ticks": ""
             }
            },
            "type": "scattergl"
           }
          ],
          "scattermap": [
           {
            "marker": {
             "colorbar": {
              "outlinewidth": 0,
              "ticks": ""
             }
            },
            "type": "scattermap"
           }
          ],
          "scattermapbox": [
           {
            "marker": {
             "colorbar": {
              "outlinewidth": 0,
              "ticks": ""
             }
            },
            "type": "scattermapbox"
           }
          ],
          "scatterpolar": [
           {
            "marker": {
             "colorbar": {
              "outlinewidth": 0,
              "ticks": ""
             }
            },
            "type": "scatterpolar"
           }
          ],
          "scatterpolargl": [
           {
            "marker": {
             "colorbar": {
              "outlinewidth": 0,
              "ticks": ""
             }
            },
            "type": "scatterpolargl"
           }
          ],
          "scatterternary": [
           {
            "marker": {
             "colorbar": {
              "outlinewidth": 0,
              "ticks": ""
             }
            },
            "type": "scatterternary"
           }
          ],
          "surface": [
           {
            "colorbar": {
             "outlinewidth": 0,
             "ticks": ""
            },
            "colorscale": [
             [
              0,
              "#0d0887"
             ],
             [
              0.1111111111111111,
              "#46039f"
             ],
             [
              0.2222222222222222,
              "#7201a8"
             ],
             [
              0.3333333333333333,
              "#9c179e"
             ],
             [
              0.4444444444444444,
              "#bd3786"
             ],
             [
              0.5555555555555556,
              "#d8576b"
             ],
             [
              0.6666666666666666,
              "#ed7953"
             ],
             [
              0.7777777777777778,
              "#fb9f3a"
             ],
             [
              0.8888888888888888,
              "#fdca26"
             ],
             [
              1,
              "#f0f921"
             ]
            ],
            "type": "surface"
           }
          ],
          "table": [
           {
            "cells": {
             "fill": {
              "color": "#EBF0F8"
             },
             "line": {
              "color": "white"
             }
            },
            "header": {
             "fill": {
              "color": "#C8D4E3"
             },
             "line": {
              "color": "white"
             }
            },
            "type": "table"
           }
          ]
         },
         "layout": {
          "annotationdefaults": {
           "arrowcolor": "#2a3f5f",
           "arrowhead": 0,
           "arrowwidth": 1
          },
          "autotypenumbers": "strict",
          "coloraxis": {
           "colorbar": {
            "outlinewidth": 0,
            "ticks": ""
           }
          },
          "colorscale": {
           "diverging": [
            [
             0,
             "#8e0152"
            ],
            [
             0.1,
             "#c51b7d"
            ],
            [
             0.2,
             "#de77ae"
            ],
            [
             0.3,
             "#f1b6da"
            ],
            [
             0.4,
             "#fde0ef"
            ],
            [
             0.5,
             "#f7f7f7"
            ],
            [
             0.6,
             "#e6f5d0"
            ],
            [
             0.7,
             "#b8e186"
            ],
            [
             0.8,
             "#7fbc41"
            ],
            [
             0.9,
             "#4d9221"
            ],
            [
             1,
             "#276419"
            ]
           ],
           "sequential": [
            [
             0,
             "#0d0887"
            ],
            [
             0.1111111111111111,
             "#46039f"
            ],
            [
             0.2222222222222222,
             "#7201a8"
            ],
            [
             0.3333333333333333,
             "#9c179e"
            ],
            [
             0.4444444444444444,
             "#bd3786"
            ],
            [
             0.5555555555555556,
             "#d8576b"
            ],
            [
             0.6666666666666666,
             "#ed7953"
            ],
            [
             0.7777777777777778,
             "#fb9f3a"
            ],
            [
             0.8888888888888888,
             "#fdca26"
            ],
            [
             1,
             "#f0f921"
            ]
           ],
           "sequentialminus": [
            [
             0,
             "#0d0887"
            ],
            [
             0.1111111111111111,
             "#46039f"
            ],
            [
             0.2222222222222222,
             "#7201a8"
            ],
            [
             0.3333333333333333,
             "#9c179e"
            ],
            [
             0.4444444444444444,
             "#bd3786"
            ],
            [
             0.5555555555555556,
             "#d8576b"
            ],
            [
             0.6666666666666666,
             "#ed7953"
            ],
            [
             0.7777777777777778,
             "#fb9f3a"
            ],
            [
             0.8888888888888888,
             "#fdca26"
            ],
            [
             1,
             "#f0f921"
            ]
           ]
          },
          "colorway": [
           "#636efa",
           "#EF553B",
           "#00cc96",
           "#ab63fa",
           "#FFA15A",
           "#19d3f3",
           "#FF6692",
           "#B6E880",
           "#FF97FF",
           "#FECB52"
          ],
          "font": {
           "color": "#2a3f5f"
          },
          "geo": {
           "bgcolor": "white",
           "lakecolor": "white",
           "landcolor": "#E5ECF6",
           "showlakes": true,
           "showland": true,
           "subunitcolor": "white"
          },
          "hoverlabel": {
           "align": "left"
          },
          "hovermode": "closest",
          "mapbox": {
           "style": "light"
          },
          "paper_bgcolor": "white",
          "plot_bgcolor": "#E5ECF6",
          "polar": {
           "angularaxis": {
            "gridcolor": "white",
            "linecolor": "white",
            "ticks": ""
           },
           "bgcolor": "#E5ECF6",
           "radialaxis": {
            "gridcolor": "white",
            "linecolor": "white",
            "ticks": ""
           }
          },
          "scene": {
           "xaxis": {
            "backgroundcolor": "#E5ECF6",
            "gridcolor": "white",
            "gridwidth": 2,
            "linecolor": "white",
            "showbackground": true,
            "ticks": "",
            "zerolinecolor": "white"
           },
           "yaxis": {
            "backgroundcolor": "#E5ECF6",
            "gridcolor": "white",
            "gridwidth": 2,
            "linecolor": "white",
            "showbackground": true,
            "ticks": "",
            "zerolinecolor": "white"
           },
           "zaxis": {
            "backgroundcolor": "#E5ECF6",
            "gridcolor": "white",
            "gridwidth": 2,
            "linecolor": "white",
            "showbackground": true,
            "ticks": "",
            "zerolinecolor": "white"
           }
          },
          "shapedefaults": {
           "line": {
            "color": "#2a3f5f"
           }
          },
          "ternary": {
           "aaxis": {
            "gridcolor": "white",
            "linecolor": "white",
            "ticks": ""
           },
           "baxis": {
            "gridcolor": "white",
            "linecolor": "white",
            "ticks": ""
           },
           "bgcolor": "#E5ECF6",
           "caxis": {
            "gridcolor": "white",
            "linecolor": "white",
            "ticks": ""
           }
          },
          "title": {
           "x": 0.05
          },
          "xaxis": {
           "automargin": true,
           "gridcolor": "white",
           "linecolor": "white",
           "ticks": "",
           "title": {
            "standoff": 15
           },
           "zerolinecolor": "white",
           "zerolinewidth": 2
          },
          "yaxis": {
           "automargin": true,
           "gridcolor": "white",
           "linecolor": "white",
           "ticks": "",
           "title": {
            "standoff": 15
           },
           "zerolinecolor": "white",
           "zerolinewidth": 2
          }
         }
        },
        "title": {
         "text": "ICML 2024 Conference, Number of Authors by Country"
        }
       }
      }
     },
     "metadata": {},
     "output_type": "display_data"
    }
   ],
   "source": [
    "df = get_df_by_conference('ICML')\n",
    "country_counts = df['affiliation_country'].value_counts().reset_index()\n",
    "\n",
    "\n",
    "plt_author_df(country_counts, \"ICML 2024 Conference, Number of Authors by Country\", threshold=2900)"
   ]
  },
  {
   "cell_type": "code",
   "execution_count": null,
   "id": "6a7b65da",
   "metadata": {},
   "outputs": [
    {
     "data": {
      "application/vnd.plotly.v1+json": {
       "config": {
        "plotlyServerURL": "https://plot.ly"
       },
       "data": [
        {
         "coloraxis": "coloraxis",
         "customdata": {
          "bdata": "AAAAAAAAOUBDuI4ZGqPWPwAAAAAAAEFASrcRA9Gz2D8AAAAAAADwP8dS4E+KQ7M/AAAAAAAA8D/HUuBPikOzPwAAAAAAAD5AO/sGZfTb1z8AAAAAAABRQFgngc0ba90/AAAAAAAAJEBxkF/jFKnQPwAAAAAAABBA2JV9SVddxj8AAAAAAADwP8dS4E+KQ7M/AAAAAAAAJEBxkF/jFKnQPwAAAAAAgGRAPYg5Euq84T8AAAAAAGBhQFfwgBXLKuE/AAAAAAAACEDHUuBPikPDPwAAAAAAGIhAClco0zIZ5z8AAAAAAAAIQMdS4E+KQ8M/AAAAAAAAAEB41FJxToi+PwAAAAAAABxAKnzQd0/lzD8AAAAAAMBlQBtB6FM+8eE/AAAAAAAANEB8oaf6OCfVPwAAAAAAAPA/x1LgT4pDsz8AAAAAAAAmQILeRMTYQ9E/AAAAAAAA8D/HUuBPikOzPwAAAAAAACZAgt5ExNhD0T8AAAAAAMBaQF8kd/7/Q+A/AAAAAACAakDFLpsGAaDiPwAAAAAAABhAvNilvEoKyz8AAAAAAKBjQCjWZ3JcluE/AAAAAAAAEEDYlX1JV13GPwAAAAAAAFJAFC4YoFfP3T8AAAAAAAA7QMEVQ4bqJtc/AAAAAAAAAEB41FJxToi+PwAAAAAAABBA2JV9SVddxj8AAAAAAIBBQKCTmWDs5dg/AAAAAAAAU0DOfLJBOi7ePwAAAAAAAAhAx1LgT4pDwz8AAAAAAMBdQA/ffX6zoeA/AAAAAAAA8D/HUuBPikOzPwAAAAAAAAhAx1LgT4pDwz8AAAAAAAAcQCp80HdP5cw/AAAAAAAA8D/HUuBPikOzPwAAAAAAgEVA1LlPC9pK2j8AAAAAAAAYQLzYpbxKCss/AAAAAAAA8D/HUuBPikOzPwAAAAAAACJAO79tcRz/zz8AAAAAAAAIQMdS4E+KQ8M/AAAAAAAAKECRo5aFN9LRPwAAAAAAADFA7n6hzAkV1D8AAAAAAAA1QCKlV3f3edU/AAAAAABAYECC+617s+/gPwAAAAAAAPA/x1LgT4pDsz8AAAAAAADwP8dS4E+KQ7M/AAAAAAAAKECRo5aFN9LRPwAAAAAAQFtABzgLjlFU4D8AAAAAADyWQAAAAAAAAPA/AAAAAAAAEEDYlX1JV13GPwAAAAAAAPA/x1LgT4pDsz8=",
          "dtype": "f8",
          "shape": "56, 2"
         },
         "geo": "geo",
         "hovertemplate": "<b>%{hovertext}</b><br><br>iso_code=%{location}<br>Papers=%{customdata[0]}<extra></extra>",
         "hovertext": [
          "AE",
          "AI",
          "AM",
          "AR",
          "AT",
          "AU",
          "BE",
          "BG",
          "BO",
          "BR",
          "CA",
          "CH",
          "CL",
          "CN",
          "CO",
          "CY",
          "CZ",
          "DE",
          "DK",
          "EE",
          "ES",
          "EU",
          "FI",
          "FR",
          "GB",
          "GR",
          "HK",
          "IE",
          "IL",
          "IN",
          "IO",
          "IR",
          "IT",
          "JP",
          "KP",
          "KR",
          "LU",
          "ML",
          "MO",
          "MY",
          "NL",
          "NO",
          "NZ",
          "PL",
          "PT",
          "RU",
          "SA",
          "SE",
          "SG",
          "ST",
          "TR",
          "TW",
          "UK",
          "US",
          "VN",
          "ZA"
         ],
         "locations": [
          "ARE",
          "KNA",
          "ARM",
          "ARG",
          "AUT",
          "AUS",
          "BEL",
          "BGR",
          "BOL",
          "BRA",
          "CAN",
          "CHE",
          "CHL",
          "CHN",
          "COL",
          "CYP",
          "CZE",
          "DEU",
          "DNK",
          "EST",
          "ESP",
          "REU",
          "FIN",
          "FRA",
          "GBR",
          "GRC",
          "HKG",
          "IRL",
          "ISR",
          "IND",
          "IOT",
          "IRN",
          "ITA",
          "JPN",
          "PRK",
          "KOR",
          "LUX",
          "MLI",
          "MCO",
          "MYS",
          "NLD",
          "NOR",
          "NZL",
          "POL",
          "PRT",
          "RUS",
          "SAU",
          "SWE",
          "SGP",
          "STP",
          "TUR",
          "TWN",
          "UGA",
          "USA",
          "VNM",
          "ZAF"
         ],
         "name": "",
         "type": "choropleth",
         "z": {
          "bdata": "Q7iOGRqj1j9KtxED0bPYP8dS4E+KQ7M/x1LgT4pDsz87+wZl9NvXP1gngc0ba90/cZBf4xSp0D/YlX1JV13GP8dS4E+KQ7M/cZBf4xSp0D89iDkS6rzhP1fwgBXLKuE/x1LgT4pDwz8KVyjTMhnnP8dS4E+KQ8M/eNRScU6Ivj8qfNB3T+XMPxtB6FM+8eE/fKGn+jgn1T/HUuBPikOzP4LeRMTYQ9E/x1LgT4pDsz+C3kTE2EPRP18kd/7/Q+A/xS6bBgGg4j+82KW8SgrLPyjWZ3JcluE/2JV9SVddxj8ULhigV8/dP8EVQ4bqJtc/eNRScU6Ivj/YlX1JV13GP6CTmWDs5dg/znyyQTou3j/HUuBPikPDPw/ffX6zoeA/x1LgT4pDsz/HUuBPikPDPyp80HdP5cw/x1LgT4pDsz/UuU8L2kraP7zYpbxKCss/x1LgT4pDsz87v21xHP/PP8dS4E+KQ8M/kaOWhTfS0T/ufqHMCRXUPyKlV3f3edU/gvute7Pv4D/HUuBPikOzP8dS4E+KQ7M/kaOWhTfS0T8HOAuOUVTgPwAAAAAAAPA/2JV9SVddxj/HUuBPikOzPw==",
          "dtype": "f8"
         }
        }
       ],
       "layout": {
        "coloraxis": {
         "colorbar": {
          "ticktext": [
           "1",
           "10",
           "100",
           "1000",
           "1423"
          ],
          "tickvals": [
           0.07524933290580825,
           0.2603199215357171,
           0.501025972422865,
           0.7500271268986634,
           1
          ],
          "title": {
           "text": "Number of Papers"
          }
         },
         "colorscale": [
          [
           0,
           "rgb(228, 241, 225)"
          ],
          [
           0.16666666666666666,
           "rgb(180, 217, 204)"
          ],
          [
           0.3333333333333333,
           "rgb(137, 192, 182)"
          ],
          [
           0.5,
           "rgb(99, 166, 160)"
          ],
          [
           0.6666666666666666,
           "rgb(68, 140, 138)"
          ],
          [
           0.8333333333333334,
           "rgb(40, 114, 116)"
          ],
          [
           1,
           "rgb(13, 88, 95)"
          ]
         ]
        },
        "geo": {
         "center": {},
         "domain": {
          "x": [
           0,
           1
          ],
          "y": [
           0,
           1
          ]
         },
         "projection": {
          "type": "natural earth"
         },
         "showcoastlines": false,
         "showframe": false
        },
        "legend": {
         "tracegroupgap": 0
        },
        "margin": {
         "b": 0,
         "l": 0,
         "r": 0,
         "t": 40
        },
        "template": {
         "data": {
          "bar": [
           {
            "error_x": {
             "color": "#2a3f5f"
            },
            "error_y": {
             "color": "#2a3f5f"
            },
            "marker": {
             "line": {
              "color": "#E5ECF6",
              "width": 0.5
             },
             "pattern": {
              "fillmode": "overlay",
              "size": 10,
              "solidity": 0.2
             }
            },
            "type": "bar"
           }
          ],
          "barpolar": [
           {
            "marker": {
             "line": {
              "color": "#E5ECF6",
              "width": 0.5
             },
             "pattern": {
              "fillmode": "overlay",
              "size": 10,
              "solidity": 0.2
             }
            },
            "type": "barpolar"
           }
          ],
          "carpet": [
           {
            "aaxis": {
             "endlinecolor": "#2a3f5f",
             "gridcolor": "white",
             "linecolor": "white",
             "minorgridcolor": "white",
             "startlinecolor": "#2a3f5f"
            },
            "baxis": {
             "endlinecolor": "#2a3f5f",
             "gridcolor": "white",
             "linecolor": "white",
             "minorgridcolor": "white",
             "startlinecolor": "#2a3f5f"
            },
            "type": "carpet"
           }
          ],
          "choropleth": [
           {
            "colorbar": {
             "outlinewidth": 0,
             "ticks": ""
            },
            "type": "choropleth"
           }
          ],
          "contour": [
           {
            "colorbar": {
             "outlinewidth": 0,
             "ticks": ""
            },
            "colorscale": [
             [
              0,
              "#0d0887"
             ],
             [
              0.1111111111111111,
              "#46039f"
             ],
             [
              0.2222222222222222,
              "#7201a8"
             ],
             [
              0.3333333333333333,
              "#9c179e"
             ],
             [
              0.4444444444444444,
              "#bd3786"
             ],
             [
              0.5555555555555556,
              "#d8576b"
             ],
             [
              0.6666666666666666,
              "#ed7953"
             ],
             [
              0.7777777777777778,
              "#fb9f3a"
             ],
             [
              0.8888888888888888,
              "#fdca26"
             ],
             [
              1,
              "#f0f921"
             ]
            ],
            "type": "contour"
           }
          ],
          "contourcarpet": [
           {
            "colorbar": {
             "outlinewidth": 0,
             "ticks": ""
            },
            "type": "contourcarpet"
           }
          ],
          "heatmap": [
           {
            "colorbar": {
             "outlinewidth": 0,
             "ticks": ""
            },
            "colorscale": [
             [
              0,
              "#0d0887"
             ],
             [
              0.1111111111111111,
              "#46039f"
             ],
             [
              0.2222222222222222,
              "#7201a8"
             ],
             [
              0.3333333333333333,
              "#9c179e"
             ],
             [
              0.4444444444444444,
              "#bd3786"
             ],
             [
              0.5555555555555556,
              "#d8576b"
             ],
             [
              0.6666666666666666,
              "#ed7953"
             ],
             [
              0.7777777777777778,
              "#fb9f3a"
             ],
             [
              0.8888888888888888,
              "#fdca26"
             ],
             [
              1,
              "#f0f921"
             ]
            ],
            "type": "heatmap"
           }
          ],
          "histogram": [
           {
            "marker": {
             "pattern": {
              "fillmode": "overlay",
              "size": 10,
              "solidity": 0.2
             }
            },
            "type": "histogram"
           }
          ],
          "histogram2d": [
           {
            "colorbar": {
             "outlinewidth": 0,
             "ticks": ""
            },
            "colorscale": [
             [
              0,
              "#0d0887"
             ],
             [
              0.1111111111111111,
              "#46039f"
             ],
             [
              0.2222222222222222,
              "#7201a8"
             ],
             [
              0.3333333333333333,
              "#9c179e"
             ],
             [
              0.4444444444444444,
              "#bd3786"
             ],
             [
              0.5555555555555556,
              "#d8576b"
             ],
             [
              0.6666666666666666,
              "#ed7953"
             ],
             [
              0.7777777777777778,
              "#fb9f3a"
             ],
             [
              0.8888888888888888,
              "#fdca26"
             ],
             [
              1,
              "#f0f921"
             ]
            ],
            "type": "histogram2d"
           }
          ],
          "histogram2dcontour": [
           {
            "colorbar": {
             "outlinewidth": 0,
             "ticks": ""
            },
            "colorscale": [
             [
              0,
              "#0d0887"
             ],
             [
              0.1111111111111111,
              "#46039f"
             ],
             [
              0.2222222222222222,
              "#7201a8"
             ],
             [
              0.3333333333333333,
              "#9c179e"
             ],
             [
              0.4444444444444444,
              "#bd3786"
             ],
             [
              0.5555555555555556,
              "#d8576b"
             ],
             [
              0.6666666666666666,
              "#ed7953"
             ],
             [
              0.7777777777777778,
              "#fb9f3a"
             ],
             [
              0.8888888888888888,
              "#fdca26"
             ],
             [
              1,
              "#f0f921"
             ]
            ],
            "type": "histogram2dcontour"
           }
          ],
          "mesh3d": [
           {
            "colorbar": {
             "outlinewidth": 0,
             "ticks": ""
            },
            "type": "mesh3d"
           }
          ],
          "parcoords": [
           {
            "line": {
             "colorbar": {
              "outlinewidth": 0,
              "ticks": ""
             }
            },
            "type": "parcoords"
           }
          ],
          "pie": [
           {
            "automargin": true,
            "type": "pie"
           }
          ],
          "scatter": [
           {
            "fillpattern": {
             "fillmode": "overlay",
             "size": 10,
             "solidity": 0.2
            },
            "type": "scatter"
           }
          ],
          "scatter3d": [
           {
            "line": {
             "colorbar": {
              "outlinewidth": 0,
              "ticks": ""
             }
            },
            "marker": {
             "colorbar": {
              "outlinewidth": 0,
              "ticks": ""
             }
            },
            "type": "scatter3d"
           }
          ],
          "scattercarpet": [
           {
            "marker": {
             "colorbar": {
              "outlinewidth": 0,
              "ticks": ""
             }
            },
            "type": "scattercarpet"
           }
          ],
          "scattergeo": [
           {
            "marker": {
             "colorbar": {
              "outlinewidth": 0,
              "ticks": ""
             }
            },
            "type": "scattergeo"
           }
          ],
          "scattergl": [
           {
            "marker": {
             "colorbar": {
              "outlinewidth": 0,
              "ticks": ""
             }
            },
            "type": "scattergl"
           }
          ],
          "scattermap": [
           {
            "marker": {
             "colorbar": {
              "outlinewidth": 0,
              "ticks": ""
             }
            },
            "type": "scattermap"
           }
          ],
          "scattermapbox": [
           {
            "marker": {
             "colorbar": {
              "outlinewidth": 0,
              "ticks": ""
             }
            },
            "type": "scattermapbox"
           }
          ],
          "scatterpolar": [
           {
            "marker": {
             "colorbar": {
              "outlinewidth": 0,
              "ticks": ""
             }
            },
            "type": "scatterpolar"
           }
          ],
          "scatterpolargl": [
           {
            "marker": {
             "colorbar": {
              "outlinewidth": 0,
              "ticks": ""
             }
            },
            "type": "scatterpolargl"
           }
          ],
          "scatterternary": [
           {
            "marker": {
             "colorbar": {
              "outlinewidth": 0,
              "ticks": ""
             }
            },
            "type": "scatterternary"
           }
          ],
          "surface": [
           {
            "colorbar": {
             "outlinewidth": 0,
             "ticks": ""
            },
            "colorscale": [
             [
              0,
              "#0d0887"
             ],
             [
              0.1111111111111111,
              "#46039f"
             ],
             [
              0.2222222222222222,
              "#7201a8"
             ],
             [
              0.3333333333333333,
              "#9c179e"
             ],
             [
              0.4444444444444444,
              "#bd3786"
             ],
             [
              0.5555555555555556,
              "#d8576b"
             ],
             [
              0.6666666666666666,
              "#ed7953"
             ],
             [
              0.7777777777777778,
              "#fb9f3a"
             ],
             [
              0.8888888888888888,
              "#fdca26"
             ],
             [
              1,
              "#f0f921"
             ]
            ],
            "type": "surface"
           }
          ],
          "table": [
           {
            "cells": {
             "fill": {
              "color": "#EBF0F8"
             },
             "line": {
              "color": "white"
             }
            },
            "header": {
             "fill": {
              "color": "#C8D4E3"
             },
             "line": {
              "color": "white"
             }
            },
            "type": "table"
           }
          ]
         },
         "layout": {
          "annotationdefaults": {
           "arrowcolor": "#2a3f5f",
           "arrowhead": 0,
           "arrowwidth": 1
          },
          "autotypenumbers": "strict",
          "coloraxis": {
           "colorbar": {
            "outlinewidth": 0,
            "ticks": ""
           }
          },
          "colorscale": {
           "diverging": [
            [
             0,
             "#8e0152"
            ],
            [
             0.1,
             "#c51b7d"
            ],
            [
             0.2,
             "#de77ae"
            ],
            [
             0.3,
             "#f1b6da"
            ],
            [
             0.4,
             "#fde0ef"
            ],
            [
             0.5,
             "#f7f7f7"
            ],
            [
             0.6,
             "#e6f5d0"
            ],
            [
             0.7,
             "#b8e186"
            ],
            [
             0.8,
             "#7fbc41"
            ],
            [
             0.9,
             "#4d9221"
            ],
            [
             1,
             "#276419"
            ]
           ],
           "sequential": [
            [
             0,
             "#0d0887"
            ],
            [
             0.1111111111111111,
             "#46039f"
            ],
            [
             0.2222222222222222,
             "#7201a8"
            ],
            [
             0.3333333333333333,
             "#9c179e"
            ],
            [
             0.4444444444444444,
             "#bd3786"
            ],
            [
             0.5555555555555556,
             "#d8576b"
            ],
            [
             0.6666666666666666,
             "#ed7953"
            ],
            [
             0.7777777777777778,
             "#fb9f3a"
            ],
            [
             0.8888888888888888,
             "#fdca26"
            ],
            [
             1,
             "#f0f921"
            ]
           ],
           "sequentialminus": [
            [
             0,
             "#0d0887"
            ],
            [
             0.1111111111111111,
             "#46039f"
            ],
            [
             0.2222222222222222,
             "#7201a8"
            ],
            [
             0.3333333333333333,
             "#9c179e"
            ],
            [
             0.4444444444444444,
             "#bd3786"
            ],
            [
             0.5555555555555556,
             "#d8576b"
            ],
            [
             0.6666666666666666,
             "#ed7953"
            ],
            [
             0.7777777777777778,
             "#fb9f3a"
            ],
            [
             0.8888888888888888,
             "#fdca26"
            ],
            [
             1,
             "#f0f921"
            ]
           ]
          },
          "colorway": [
           "#636efa",
           "#EF553B",
           "#00cc96",
           "#ab63fa",
           "#FFA15A",
           "#19d3f3",
           "#FF6692",
           "#B6E880",
           "#FF97FF",
           "#FECB52"
          ],
          "font": {
           "color": "#2a3f5f"
          },
          "geo": {
           "bgcolor": "white",
           "lakecolor": "white",
           "landcolor": "#E5ECF6",
           "showlakes": true,
           "showland": true,
           "subunitcolor": "white"
          },
          "hoverlabel": {
           "align": "left"
          },
          "hovermode": "closest",
          "mapbox": {
           "style": "light"
          },
          "paper_bgcolor": "white",
          "plot_bgcolor": "#E5ECF6",
          "polar": {
           "angularaxis": {
            "gridcolor": "white",
            "linecolor": "white",
            "ticks": ""
           },
           "bgcolor": "#E5ECF6",
           "radialaxis": {
            "gridcolor": "white",
            "linecolor": "white",
            "ticks": ""
           }
          },
          "scene": {
           "xaxis": {
            "backgroundcolor": "#E5ECF6",
            "gridcolor": "white",
            "gridwidth": 2,
            "linecolor": "white",
            "showbackground": true,
            "ticks": "",
            "zerolinecolor": "white"
           },
           "yaxis": {
            "backgroundcolor": "#E5ECF6",
            "gridcolor": "white",
            "gridwidth": 2,
            "linecolor": "white",
            "showbackground": true,
            "ticks": "",
            "zerolinecolor": "white"
           },
           "zaxis": {
            "backgroundcolor": "#E5ECF6",
            "gridcolor": "white",
            "gridwidth": 2,
            "linecolor": "white",
            "showbackground": true,
            "ticks": "",
            "zerolinecolor": "white"
           }
          },
          "shapedefaults": {
           "line": {
            "color": "#2a3f5f"
           }
          },
          "ternary": {
           "aaxis": {
            "gridcolor": "white",
            "linecolor": "white",
            "ticks": ""
           },
           "baxis": {
            "gridcolor": "white",
            "linecolor": "white",
            "ticks": ""
           },
           "bgcolor": "#E5ECF6",
           "caxis": {
            "gridcolor": "white",
            "linecolor": "white",
            "ticks": ""
           }
          },
          "title": {
           "x": 0.05
          },
          "xaxis": {
           "automargin": true,
           "gridcolor": "white",
           "linecolor": "white",
           "ticks": "",
           "title": {
            "standoff": 15
           },
           "zerolinecolor": "white",
           "zerolinewidth": 2
          },
          "yaxis": {
           "automargin": true,
           "gridcolor": "white",
           "linecolor": "white",
           "ticks": "",
           "title": {
            "standoff": 15
           },
           "zerolinecolor": "white",
           "zerolinewidth": 2
          }
         }
        },
        "title": {
         "text": "Paper Distribution by Country at ICML"
        }
       }
      }
     },
     "metadata": {},
     "output_type": "display_data"
    }
   ],
   "source": [
    "conf = 'ICML'\n",
    "paper_counts_df = get_paper_counts_by_conference(conf)\n",
    "\n",
    "# Generate and show the plot\n",
    "fig = plt_paper_df(paper_counts_df, f'Paper Distribution by Country at {conf}', threshold=1000)\n",
    "fig.show()"
   ]
  },
  {
   "cell_type": "code",
   "execution_count": null,
   "id": "10bfe224",
   "metadata": {},
   "outputs": [
    {
     "name": "stderr",
     "output_type": "stream",
     "text": [
      "/var/folders/ps/ccvmq3y93y3b3bszzzcw33g00000gn/T/ipykernel_66336/2209443974.py:18: SettingWithCopyWarning:\n",
      "\n",
      "\n",
      "A value is trying to be set on a copy of a slice from a DataFrame.\n",
      "Try using .loc[row_indexer,col_indexer] = value instead\n",
      "\n",
      "See the caveats in the documentation: https://pandas.pydata.org/pandas-docs/stable/user_guide/indexing.html#returning-a-view-versus-a-copy\n",
      "\n"
     ]
    },
    {
     "data": {
      "text/html": [
       "<div>\n",
       "<style scoped>\n",
       "    .dataframe tbody tr th:only-of-type {\n",
       "        vertical-align: middle;\n",
       "    }\n",
       "\n",
       "    .dataframe tbody tr th {\n",
       "        vertical-align: top;\n",
       "    }\n",
       "\n",
       "    .dataframe thead th {\n",
       "        text-align: right;\n",
       "    }\n",
       "</style>\n",
       "<table border=\"1\" class=\"dataframe\">\n",
       "  <thead>\n",
       "    <tr style=\"text-align: right;\">\n",
       "      <th></th>\n",
       "      <th>title</th>\n",
       "      <th>paper_id</th>\n",
       "      <th>pdf_url</th>\n",
       "      <th>full_name</th>\n",
       "    </tr>\n",
       "  </thead>\n",
       "  <tbody>\n",
       "    <tr>\n",
       "      <th>0</th>\n",
       "      <td>Provably Robust DPO: Aligning Language Models ...</td>\n",
       "      <td>yhpDKSw7yA</td>\n",
       "      <td>https://openreview.net/pdf/3f1185c2cb457015bf0...</td>\n",
       "      <td>Sayak Ray Chowdhury</td>\n",
       "    </tr>\n",
       "    <tr>\n",
       "      <th>4</th>\n",
       "      <td>Finite Time Logarithmic Regret Bounds for Self...</td>\n",
       "      <td>tTtSnpH4fc</td>\n",
       "      <td>https://openreview.net/pdf/a7f969be6c3977786d1...</td>\n",
       "      <td>Rahul Singh</td>\n",
       "    </tr>\n",
       "    <tr>\n",
       "      <th>9</th>\n",
       "      <td>PairNet: Training with Observed Pairs to Estim...</td>\n",
       "      <td>o5SVr80Rgg</td>\n",
       "      <td>https://openreview.net/pdf/8542c0b81c30deb10c2...</td>\n",
       "      <td>Lokesh Nagalapatti</td>\n",
       "    </tr>\n",
       "    <tr>\n",
       "      <th>13</th>\n",
       "      <td>On Online Experimentation without Device Ident...</td>\n",
       "      <td>merZTLSdC9</td>\n",
       "      <td>https://openreview.net/pdf/0615d619c3602e2d636...</td>\n",
       "      <td></td>\n",
       "    </tr>\n",
       "    <tr>\n",
       "      <th>14</th>\n",
       "      <td>PIPER: Primitive-Informed Preference-based Hie...</td>\n",
       "      <td>l6Hef6FVd0</td>\n",
       "      <td>https://openreview.net/pdf/486d2e3f8b1d6cd84cc...</td>\n",
       "      <td>Utsav Singh</td>\n",
       "    </tr>\n",
       "    <tr>\n",
       "      <th>16</th>\n",
       "      <td>Agnostic Learning of Mixed Linear Regressions ...</td>\n",
       "      <td>eo88noTbb5</td>\n",
       "      <td>https://openreview.net/pdf/17a75d2d4ceb5ac28e3...</td>\n",
       "      <td>Avishek Ghosh</td>\n",
       "    </tr>\n",
       "    <tr>\n",
       "      <th>17</th>\n",
       "      <td>Submodular framework for structured-sparse opt...</td>\n",
       "      <td>bfQCO9Vqhk</td>\n",
       "      <td>https://openreview.net/pdf/15e9e2ce1a2a6304834...</td>\n",
       "      <td></td>\n",
       "    </tr>\n",
       "    <tr>\n",
       "      <th>21</th>\n",
       "      <td>Testing the Feasibility of Linear Programs wit...</td>\n",
       "      <td>TfwGtfPkhV</td>\n",
       "      <td>https://openreview.net/pdf/a89b112bea8fde3d1e9...</td>\n",
       "      <td>Aditya Gopalan</td>\n",
       "    </tr>\n",
       "    <tr>\n",
       "      <th>22</th>\n",
       "      <td>Tandem Transformers for Inference Efficient LLMs</td>\n",
       "      <td>TN3fi7dwPo</td>\n",
       "      <td>https://openreview.net/pdf/c14bbb8bb8638326ffa...</td>\n",
       "      <td>Aishwarya P S</td>\n",
       "    </tr>\n",
       "    <tr>\n",
       "      <th>23</th>\n",
       "      <td>How Far Can Fairness Constraints Help Recover ...</td>\n",
       "      <td>RfQT6vJt8b</td>\n",
       "      <td>https://openreview.net/pdf/409965515edccbc49d3...</td>\n",
       "      <td>mohit sharma</td>\n",
       "    </tr>\n",
       "    <tr>\n",
       "      <th>25</th>\n",
       "      <td>Enhancing Trajectory Prediction through Self-S...</td>\n",
       "      <td>OQ7TlOphGX</td>\n",
       "      <td>https://openreview.net/pdf/6f5199a867ae97c4ee3...</td>\n",
       "      <td>Pravendra Singh</td>\n",
       "    </tr>\n",
       "    <tr>\n",
       "      <th>26</th>\n",
       "      <td>Causal Discovery with Fewer Conditional Indepe...</td>\n",
       "      <td>HpT19AKddu</td>\n",
       "      <td>https://openreview.net/pdf/23331b236f09db1c429...</td>\n",
       "      <td>Kirankumar Shiragur</td>\n",
       "    </tr>\n",
       "    <tr>\n",
       "      <th>27</th>\n",
       "      <td>Representation Surgery: Theory and Practice of...</td>\n",
       "      <td>GwA4go0Mw4</td>\n",
       "      <td>https://openreview.net/pdf/b913a137f582939ceef...</td>\n",
       "      <td>Shashwat Singh</td>\n",
       "    </tr>\n",
       "    <tr>\n",
       "      <th>30</th>\n",
       "      <td>OAK: Enriching Document Representations using ...</td>\n",
       "      <td>Cbacx90Wkt</td>\n",
       "      <td>https://openreview.net/pdf/c0530913b6c22d453b2...</td>\n",
       "      <td>Shikhar Mohan</td>\n",
       "    </tr>\n",
       "    <tr>\n",
       "      <th>36</th>\n",
       "      <td>WISER: Weak Supervision and Supervised Represe...</td>\n",
       "      <td>8ySQaphUYH</td>\n",
       "      <td>https://openreview.net/pdf/07f74f6818e7261951b...</td>\n",
       "      <td>Kumar Shubham</td>\n",
       "    </tr>\n",
       "    <tr>\n",
       "      <th>39</th>\n",
       "      <td>Risk Estimation in a Markov Cost Process: Lowe...</td>\n",
       "      <td>7xzhKEPfBo</td>\n",
       "      <td>https://openreview.net/pdf/61c68b6da42e9185837...</td>\n",
       "      <td></td>\n",
       "    </tr>\n",
       "  </tbody>\n",
       "</table>\n",
       "</div>"
      ],
      "text/plain": [
       "                                                title    paper_id  \\\n",
       "0   Provably Robust DPO: Aligning Language Models ...  yhpDKSw7yA   \n",
       "4   Finite Time Logarithmic Regret Bounds for Self...  tTtSnpH4fc   \n",
       "9   PairNet: Training with Observed Pairs to Estim...  o5SVr80Rgg   \n",
       "13  On Online Experimentation without Device Ident...  merZTLSdC9   \n",
       "14  PIPER: Primitive-Informed Preference-based Hie...  l6Hef6FVd0   \n",
       "16  Agnostic Learning of Mixed Linear Regressions ...  eo88noTbb5   \n",
       "17  Submodular framework for structured-sparse opt...  bfQCO9Vqhk   \n",
       "21  Testing the Feasibility of Linear Programs wit...  TfwGtfPkhV   \n",
       "22   Tandem Transformers for Inference Efficient LLMs  TN3fi7dwPo   \n",
       "23  How Far Can Fairness Constraints Help Recover ...  RfQT6vJt8b   \n",
       "25  Enhancing Trajectory Prediction through Self-S...  OQ7TlOphGX   \n",
       "26  Causal Discovery with Fewer Conditional Indepe...  HpT19AKddu   \n",
       "27  Representation Surgery: Theory and Practice of...  GwA4go0Mw4   \n",
       "30  OAK: Enriching Document Representations using ...  Cbacx90Wkt   \n",
       "36  WISER: Weak Supervision and Supervised Represe...  8ySQaphUYH   \n",
       "39  Risk Estimation in a Markov Cost Process: Lowe...  7xzhKEPfBo   \n",
       "\n",
       "                                              pdf_url            full_name  \n",
       "0   https://openreview.net/pdf/3f1185c2cb457015bf0...  Sayak Ray Chowdhury  \n",
       "4   https://openreview.net/pdf/a7f969be6c3977786d1...          Rahul Singh  \n",
       "9   https://openreview.net/pdf/8542c0b81c30deb10c2...   Lokesh Nagalapatti  \n",
       "13  https://openreview.net/pdf/0615d619c3602e2d636...                       \n",
       "14  https://openreview.net/pdf/486d2e3f8b1d6cd84cc...          Utsav Singh  \n",
       "16  https://openreview.net/pdf/17a75d2d4ceb5ac28e3...        Avishek Ghosh  \n",
       "17  https://openreview.net/pdf/15e9e2ce1a2a6304834...                       \n",
       "21  https://openreview.net/pdf/a89b112bea8fde3d1e9...       Aditya Gopalan  \n",
       "22  https://openreview.net/pdf/c14bbb8bb8638326ffa...        Aishwarya P S  \n",
       "23  https://openreview.net/pdf/409965515edccbc49d3...         mohit sharma  \n",
       "25  https://openreview.net/pdf/6f5199a867ae97c4ee3...      Pravendra Singh  \n",
       "26  https://openreview.net/pdf/23331b236f09db1c429...  Kirankumar Shiragur  \n",
       "27  https://openreview.net/pdf/b913a137f582939ceef...       Shashwat Singh  \n",
       "30  https://openreview.net/pdf/c0530913b6c22d453b2...        Shikhar Mohan  \n",
       "36  https://openreview.net/pdf/07f74f6818e7261951b...        Kumar Shubham  \n",
       "39  https://openreview.net/pdf/61c68b6da42e9185837...                       "
      ]
     },
     "execution_count": 138,
     "metadata": {},
     "output_type": "execute_result"
    }
   ],
   "source": [
    "squeel = \"\"\"SELECT title, paper_id, pdf_url, full_name, position, affiliation_name, affiliation_domain, affiliation_country FROM ( SELECT * \n",
    "FROM paper_authors \n",
    "JOIN authors ON author_id = authors.id \n",
    "JOIN papers ON paper_id = papers.id \n",
    "JOIN venue_infos ON papers.venue_info_id = venue_infos.id)\n",
    "\n",
    "WHERE affiliation_country = 'IN'\n",
    "and conference = 'ICML'\n",
    "and year = '2024'\n",
    "and track = 'Conference';\n",
    "\"\"\"\n",
    "\n",
    "\n",
    "ddf = pd.read_sql_query(squeel, conn)\n",
    "top_indian_authors = ddf[(ddf['position'] == 0) & (ddf['affiliation_country'] == 'IN')]\n",
    "\n",
    "papers_with_top_indian_authors = top_indian_authors[['title', 'paper_id', 'pdf_url', 'full_name']]\n",
    "papers_with_top_indian_authors[\"pdf_url\"] = \"https://openreview.net\" + papers_with_top_indian_authors[\"pdf_url\"]\n",
    "papers_with_top_indian_authors"
   ]
  },
  {
   "cell_type": "code",
   "execution_count": null,
   "id": "b637f946",
   "metadata": {},
   "outputs": [
    {
     "data": {
      "text/html": [
       "<div>\n",
       "<style scoped>\n",
       "    .dataframe tbody tr th:only-of-type {\n",
       "        vertical-align: middle;\n",
       "    }\n",
       "\n",
       "    .dataframe tbody tr th {\n",
       "        vertical-align: top;\n",
       "    }\n",
       "\n",
       "    .dataframe thead th {\n",
       "        text-align: right;\n",
       "    }\n",
       "</style>\n",
       "<table border=\"1\" class=\"dataframe\">\n",
       "  <thead>\n",
       "    <tr style=\"text-align: right;\">\n",
       "      <th></th>\n",
       "      <th>paper_title</th>\n",
       "      <th>pdf_url</th>\n",
       "      <th>author_list</th>\n",
       "      <th>top_author_from_india</th>\n",
       "      <th>majority_authors_from_india</th>\n",
       "    </tr>\n",
       "  </thead>\n",
       "  <tbody>\n",
       "    <tr>\n",
       "      <th>0</th>\n",
       "      <td>Total Variation Distance Meets Probabilistic I...</td>\n",
       "      <td>http://openreview.net/pdf/e6ffa80506c26dd3909c...</td>\n",
       "      <td>[Arnab Bhattacharyya, Sutanu Gayen, Kuldeep S....</td>\n",
       "      <td>False</td>\n",
       "      <td>False</td>\n",
       "    </tr>\n",
       "    <tr>\n",
       "      <th>1</th>\n",
       "      <td>Online Matrix Completion: A Collaborative Appr...</td>\n",
       "      <td>http://openreview.net/pdf/a47b0150343c512aed14...</td>\n",
       "      <td>[Dheeraj Baby, Soumyabrata Pal]</td>\n",
       "      <td>False</td>\n",
       "      <td>True</td>\n",
       "    </tr>\n",
       "    <tr>\n",
       "      <th>2</th>\n",
       "      <td>Risk Estimation in a Markov Cost Process: Lowe...</td>\n",
       "      <td>http://openreview.net/pdf/61c68b6da42e9185837b...</td>\n",
       "      <td>[, Prashanth L. A., ]</td>\n",
       "      <td>True</td>\n",
       "      <td>True</td>\n",
       "    </tr>\n",
       "    <tr>\n",
       "      <th>3</th>\n",
       "      <td>WISER: Weak Supervision and Supervised Represe...</td>\n",
       "      <td>http://openreview.net/pdf/07f74f6818e7261951b0...</td>\n",
       "      <td>[Kumar Shubham, Aishwarya Jayagopal, Syed Moha...</td>\n",
       "      <td>True</td>\n",
       "      <td>True</td>\n",
       "    </tr>\n",
       "    <tr>\n",
       "      <th>4</th>\n",
       "      <td>Centralized Selection with Preferences in the ...</td>\n",
       "      <td>http://openreview.net/pdf/a277d91287831c2afa5e...</td>\n",
       "      <td>[L. Elisa Celis, Amit Kumar, Nisheeth K. Vishnoi]</td>\n",
       "      <td>False</td>\n",
       "      <td>False</td>\n",
       "    </tr>\n",
       "    <tr>\n",
       "      <th>5</th>\n",
       "      <td>OAK: Enriching Document Representations using ...</td>\n",
       "      <td>http://openreview.net/pdf/c0530913b6c22d453b23...</td>\n",
       "      <td>[Shikhar Mohan, Deepak Saini, Anshul Mittal, S...</td>\n",
       "      <td>True</td>\n",
       "      <td>True</td>\n",
       "    </tr>\n",
       "    <tr>\n",
       "      <th>6</th>\n",
       "      <td>Weakly Convex Regularisers for Inverse Problem...</td>\n",
       "      <td>http://openreview.net/pdf/b0eb7cb8f2998339c2df...</td>\n",
       "      <td>[Zakhar Shumaylov, Jeremy Budd, Subhadip Mukhe...</td>\n",
       "      <td>False</td>\n",
       "      <td>False</td>\n",
       "    </tr>\n",
       "    <tr>\n",
       "      <th>7</th>\n",
       "      <td>Representation Surgery: Theory and Practice of...</td>\n",
       "      <td>http://openreview.net/pdf/b913a137f582939ceef4...</td>\n",
       "      <td>[Shashwat Singh, , Jonathan Herzig, Roee Aharo...</td>\n",
       "      <td>True</td>\n",
       "      <td>False</td>\n",
       "    </tr>\n",
       "    <tr>\n",
       "      <th>8</th>\n",
       "      <td>Causal Discovery with Fewer Conditional Indepe...</td>\n",
       "      <td>http://openreview.net/pdf/23331b236f09db1c4293...</td>\n",
       "      <td>[Kirankumar Shiragur, Jiaqi Zhang, ]</td>\n",
       "      <td>True</td>\n",
       "      <td>False</td>\n",
       "    </tr>\n",
       "    <tr>\n",
       "      <th>9</th>\n",
       "      <td>Enhancing Trajectory Prediction through Self-S...</td>\n",
       "      <td>http://openreview.net/pdf/6f5199a867ae97c4ee3f...</td>\n",
       "      <td>[Pravendra Singh]</td>\n",
       "      <td>True</td>\n",
       "      <td>True</td>\n",
       "    </tr>\n",
       "    <tr>\n",
       "      <th>10</th>\n",
       "      <td>In-Context Principle Learning from Mistakes</td>\n",
       "      <td>http://openreview.net/pdf/2526010313edf53a746e...</td>\n",
       "      <td>[Tianjun Zhang, , Luyu Gao, Steven Zheng, Swar...</td>\n",
       "      <td>False</td>\n",
       "      <td>False</td>\n",
       "    </tr>\n",
       "    <tr>\n",
       "      <th>11</th>\n",
       "      <td>How Far Can Fairness Constraints Help Recover ...</td>\n",
       "      <td>http://openreview.net/pdf/409965515edccbc49d37...</td>\n",
       "      <td>[mohit sharma, Amit Deshpande]</td>\n",
       "      <td>True</td>\n",
       "      <td>True</td>\n",
       "    </tr>\n",
       "    <tr>\n",
       "      <th>12</th>\n",
       "      <td>Tandem Transformers for Inference Efficient LLMs</td>\n",
       "      <td>http://openreview.net/pdf/c14bbb8bb8638326ffae...</td>\n",
       "      <td>[Aishwarya P S, Yashas Samaga B L, Toby James ...</td>\n",
       "      <td>True</td>\n",
       "      <td>False</td>\n",
       "    </tr>\n",
       "    <tr>\n",
       "      <th>13</th>\n",
       "      <td>Testing the Feasibility of Linear Programs wit...</td>\n",
       "      <td>http://openreview.net/pdf/a89b112bea8fde3d1e91...</td>\n",
       "      <td>[Aditya Gopalan, , Clayton Scott]</td>\n",
       "      <td>True</td>\n",
       "      <td>False</td>\n",
       "    </tr>\n",
       "    <tr>\n",
       "      <th>14</th>\n",
       "      <td>Policy Evaluation for Variance in Average Rewa...</td>\n",
       "      <td>http://openreview.net/pdf/3b877b3be936eb628fd4...</td>\n",
       "      <td>[Shubhada Agrawal, Prashanth L. A., ]</td>\n",
       "      <td>False</td>\n",
       "      <td>False</td>\n",
       "    </tr>\n",
       "    <tr>\n",
       "      <th>15</th>\n",
       "      <td>Submodular framework for structured-sparse opt...</td>\n",
       "      <td>http://openreview.net/pdf/15e9e2ce1a2a6304834b...</td>\n",
       "      <td>[, Pratik Jawanpuria, Karthik S. Gurumoorthy, ...</td>\n",
       "      <td>True</td>\n",
       "      <td>True</td>\n",
       "    </tr>\n",
       "    <tr>\n",
       "      <th>16</th>\n",
       "      <td>Agnostic Learning of Mixed Linear Regressions ...</td>\n",
       "      <td>http://openreview.net/pdf/17a75d2d4ceb5ac28e38...</td>\n",
       "      <td>[Avishek Ghosh, ]</td>\n",
       "      <td>True</td>\n",
       "      <td>True</td>\n",
       "    </tr>\n",
       "    <tr>\n",
       "      <th>17</th>\n",
       "      <td>Asymptotically Optimal and Computationally Eff...</td>\n",
       "      <td>http://openreview.net/pdf/e6a6390164671b94fb65...</td>\n",
       "      <td>[VIKAS DEEP, Sandeep Kumar Juneja]</td>\n",
       "      <td>False</td>\n",
       "      <td>True</td>\n",
       "    </tr>\n",
       "    <tr>\n",
       "      <th>18</th>\n",
       "      <td>PIPER: Primitive-Informed Preference-based Hie...</td>\n",
       "      <td>http://openreview.net/pdf/486d2e3f8b1d6cd84cc0...</td>\n",
       "      <td>[Utsav Singh, Wesley A. Suttle, Brian M. Sadle...</td>\n",
       "      <td>True</td>\n",
       "      <td>False</td>\n",
       "    </tr>\n",
       "    <tr>\n",
       "      <th>19</th>\n",
       "      <td>On Online Experimentation without Device Ident...</td>\n",
       "      <td>http://openreview.net/pdf/0615d619c3602e2d636f...</td>\n",
       "      <td>[, , Madalina Fiterau]</td>\n",
       "      <td>True</td>\n",
       "      <td>False</td>\n",
       "    </tr>\n",
       "    <tr>\n",
       "      <th>20</th>\n",
       "      <td>BRAIn: Bayesian Reward-conditioned Amortized I...</td>\n",
       "      <td>http://openreview.net/pdf/adec4b8db2c08af7cf38...</td>\n",
       "      <td>[Gaurav Pandey, Yatin Nandwani, , Mayank Mishr...</td>\n",
       "      <td>False</td>\n",
       "      <td>False</td>\n",
       "    </tr>\n",
       "    <tr>\n",
       "      <th>21</th>\n",
       "      <td>PairNet: Training with Observed Pairs to Estim...</td>\n",
       "      <td>http://openreview.net/pdf/8542c0b81c30deb10c2d...</td>\n",
       "      <td>[Lokesh Nagalapatti, Avishek Ghosh, Sunita Sar...</td>\n",
       "      <td>True</td>\n",
       "      <td>True</td>\n",
       "    </tr>\n",
       "    <tr>\n",
       "      <th>22</th>\n",
       "      <td>MS-TIP: Imputation Aware Pedestrian Trajectory...</td>\n",
       "      <td>http://openreview.net/pdf/1d8e4c1deb5aa09684e6...</td>\n",
       "      <td>[Achintya Nath, Paritosh Kabra, Ishu Gupta, Pr...</td>\n",
       "      <td>False</td>\n",
       "      <td>True</td>\n",
       "    </tr>\n",
       "    <tr>\n",
       "      <th>23</th>\n",
       "      <td>Finite Time Logarithmic Regret Bounds for Self...</td>\n",
       "      <td>http://openreview.net/pdf/a7f969be6c3977786d11...</td>\n",
       "      <td>[Rahul Singh, Akshay Mete, Avik Kar, ]</td>\n",
       "      <td>True</td>\n",
       "      <td>True</td>\n",
       "    </tr>\n",
       "    <tr>\n",
       "      <th>24</th>\n",
       "      <td>Unsupervised Parameter-free Simplicial Represe...</td>\n",
       "      <td>http://openreview.net/pdf/c86519c899c3ac54e770...</td>\n",
       "      <td>[Hiren Madhu, Sravanthi Gurugubelli, Sundeep P...</td>\n",
       "      <td>False</td>\n",
       "      <td>True</td>\n",
       "    </tr>\n",
       "    <tr>\n",
       "      <th>25</th>\n",
       "      <td>The WMDP Benchmark: Measuring and Reducing Mal...</td>\n",
       "      <td>http://openreview.net/pdf/1c3ad9f79f4531bbb0c5...</td>\n",
       "      <td>[Nathaniel Li, Alexander Pan, Anjali Gopal, Su...</td>\n",
       "      <td>False</td>\n",
       "      <td>False</td>\n",
       "    </tr>\n",
       "    <tr>\n",
       "      <th>26</th>\n",
       "      <td>Provably Robust DPO: Aligning Language Models ...</td>\n",
       "      <td>http://openreview.net/pdf/3f1185c2cb457015bf09...</td>\n",
       "      <td>[Sayak Ray Chowdhury, Nagarajan Natarajan]</td>\n",
       "      <td>True</td>\n",
       "      <td>True</td>\n",
       "    </tr>\n",
       "  </tbody>\n",
       "</table>\n",
       "</div>"
      ],
      "text/plain": [
       "                                          paper_title  \\\n",
       "0   Total Variation Distance Meets Probabilistic I...   \n",
       "1   Online Matrix Completion: A Collaborative Appr...   \n",
       "2   Risk Estimation in a Markov Cost Process: Lowe...   \n",
       "3   WISER: Weak Supervision and Supervised Represe...   \n",
       "4   Centralized Selection with Preferences in the ...   \n",
       "5   OAK: Enriching Document Representations using ...   \n",
       "6   Weakly Convex Regularisers for Inverse Problem...   \n",
       "7   Representation Surgery: Theory and Practice of...   \n",
       "8   Causal Discovery with Fewer Conditional Indepe...   \n",
       "9   Enhancing Trajectory Prediction through Self-S...   \n",
       "10        In-Context Principle Learning from Mistakes   \n",
       "11  How Far Can Fairness Constraints Help Recover ...   \n",
       "12   Tandem Transformers for Inference Efficient LLMs   \n",
       "13  Testing the Feasibility of Linear Programs wit...   \n",
       "14  Policy Evaluation for Variance in Average Rewa...   \n",
       "15  Submodular framework for structured-sparse opt...   \n",
       "16  Agnostic Learning of Mixed Linear Regressions ...   \n",
       "17  Asymptotically Optimal and Computationally Eff...   \n",
       "18  PIPER: Primitive-Informed Preference-based Hie...   \n",
       "19  On Online Experimentation without Device Ident...   \n",
       "20  BRAIn: Bayesian Reward-conditioned Amortized I...   \n",
       "21  PairNet: Training with Observed Pairs to Estim...   \n",
       "22  MS-TIP: Imputation Aware Pedestrian Trajectory...   \n",
       "23  Finite Time Logarithmic Regret Bounds for Self...   \n",
       "24  Unsupervised Parameter-free Simplicial Represe...   \n",
       "25  The WMDP Benchmark: Measuring and Reducing Mal...   \n",
       "26  Provably Robust DPO: Aligning Language Models ...   \n",
       "\n",
       "                                              pdf_url  \\\n",
       "0   http://openreview.net/pdf/e6ffa80506c26dd3909c...   \n",
       "1   http://openreview.net/pdf/a47b0150343c512aed14...   \n",
       "2   http://openreview.net/pdf/61c68b6da42e9185837b...   \n",
       "3   http://openreview.net/pdf/07f74f6818e7261951b0...   \n",
       "4   http://openreview.net/pdf/a277d91287831c2afa5e...   \n",
       "5   http://openreview.net/pdf/c0530913b6c22d453b23...   \n",
       "6   http://openreview.net/pdf/b0eb7cb8f2998339c2df...   \n",
       "7   http://openreview.net/pdf/b913a137f582939ceef4...   \n",
       "8   http://openreview.net/pdf/23331b236f09db1c4293...   \n",
       "9   http://openreview.net/pdf/6f5199a867ae97c4ee3f...   \n",
       "10  http://openreview.net/pdf/2526010313edf53a746e...   \n",
       "11  http://openreview.net/pdf/409965515edccbc49d37...   \n",
       "12  http://openreview.net/pdf/c14bbb8bb8638326ffae...   \n",
       "13  http://openreview.net/pdf/a89b112bea8fde3d1e91...   \n",
       "14  http://openreview.net/pdf/3b877b3be936eb628fd4...   \n",
       "15  http://openreview.net/pdf/15e9e2ce1a2a6304834b...   \n",
       "16  http://openreview.net/pdf/17a75d2d4ceb5ac28e38...   \n",
       "17  http://openreview.net/pdf/e6a6390164671b94fb65...   \n",
       "18  http://openreview.net/pdf/486d2e3f8b1d6cd84cc0...   \n",
       "19  http://openreview.net/pdf/0615d619c3602e2d636f...   \n",
       "20  http://openreview.net/pdf/adec4b8db2c08af7cf38...   \n",
       "21  http://openreview.net/pdf/8542c0b81c30deb10c2d...   \n",
       "22  http://openreview.net/pdf/1d8e4c1deb5aa09684e6...   \n",
       "23  http://openreview.net/pdf/a7f969be6c3977786d11...   \n",
       "24  http://openreview.net/pdf/c86519c899c3ac54e770...   \n",
       "25  http://openreview.net/pdf/1c3ad9f79f4531bbb0c5...   \n",
       "26  http://openreview.net/pdf/3f1185c2cb457015bf09...   \n",
       "\n",
       "                                          author_list  top_author_from_india  \\\n",
       "0   [Arnab Bhattacharyya, Sutanu Gayen, Kuldeep S....                  False   \n",
       "1                     [Dheeraj Baby, Soumyabrata Pal]                  False   \n",
       "2                               [, Prashanth L. A., ]                   True   \n",
       "3   [Kumar Shubham, Aishwarya Jayagopal, Syed Moha...                   True   \n",
       "4   [L. Elisa Celis, Amit Kumar, Nisheeth K. Vishnoi]                  False   \n",
       "5   [Shikhar Mohan, Deepak Saini, Anshul Mittal, S...                   True   \n",
       "6   [Zakhar Shumaylov, Jeremy Budd, Subhadip Mukhe...                  False   \n",
       "7   [Shashwat Singh, , Jonathan Herzig, Roee Aharo...                   True   \n",
       "8                [Kirankumar Shiragur, Jiaqi Zhang, ]                   True   \n",
       "9                                   [Pravendra Singh]                   True   \n",
       "10  [Tianjun Zhang, , Luyu Gao, Steven Zheng, Swar...                  False   \n",
       "11                     [mohit sharma, Amit Deshpande]                   True   \n",
       "12  [Aishwarya P S, Yashas Samaga B L, Toby James ...                   True   \n",
       "13                  [Aditya Gopalan, , Clayton Scott]                   True   \n",
       "14              [Shubhada Agrawal, Prashanth L. A., ]                  False   \n",
       "15  [, Pratik Jawanpuria, Karthik S. Gurumoorthy, ...                   True   \n",
       "16                                  [Avishek Ghosh, ]                   True   \n",
       "17                 [VIKAS DEEP, Sandeep Kumar Juneja]                  False   \n",
       "18  [Utsav Singh, Wesley A. Suttle, Brian M. Sadle...                   True   \n",
       "19                             [, , Madalina Fiterau]                   True   \n",
       "20  [Gaurav Pandey, Yatin Nandwani, , Mayank Mishr...                  False   \n",
       "21  [Lokesh Nagalapatti, Avishek Ghosh, Sunita Sar...                   True   \n",
       "22  [Achintya Nath, Paritosh Kabra, Ishu Gupta, Pr...                  False   \n",
       "23             [Rahul Singh, Akshay Mete, Avik Kar, ]                   True   \n",
       "24  [Hiren Madhu, Sravanthi Gurugubelli, Sundeep P...                  False   \n",
       "25  [Nathaniel Li, Alexander Pan, Anjali Gopal, Su...                  False   \n",
       "26         [Sayak Ray Chowdhury, Nagarajan Natarajan]                   True   \n",
       "\n",
       "    majority_authors_from_india  \n",
       "0                         False  \n",
       "1                          True  \n",
       "2                          True  \n",
       "3                          True  \n",
       "4                         False  \n",
       "5                          True  \n",
       "6                         False  \n",
       "7                         False  \n",
       "8                         False  \n",
       "9                          True  \n",
       "10                        False  \n",
       "11                         True  \n",
       "12                        False  \n",
       "13                        False  \n",
       "14                        False  \n",
       "15                         True  \n",
       "16                         True  \n",
       "17                         True  \n",
       "18                        False  \n",
       "19                        False  \n",
       "20                        False  \n",
       "21                         True  \n",
       "22                         True  \n",
       "23                         True  \n",
       "24                         True  \n",
       "25                        False  \n",
       "26                         True  "
      ]
     },
     "execution_count": 139,
     "metadata": {},
     "output_type": "execute_result"
    }
   ],
   "source": [
    "squeel = \"\"\"SELECT title, paper_id, pdf_url, full_name, position, affiliation_name, affiliation_domain, affiliation_country FROM ( SELECT * \n",
    "FROM paper_authors \n",
    "JOIN authors ON author_id = authors.id \n",
    "JOIN papers ON paper_id = papers.id \n",
    "JOIN venue_infos ON papers.venue_info_id = venue_infos.id)\n",
    "\n",
    "WHERE conference = 'ICML'\n",
    "and year = '2024'\n",
    "and track = 'Conference';\n",
    "\"\"\"\n",
    "\n",
    "ddf = pd.read_sql_query(squeel, conn)\n",
    "\n",
    "\n",
    "kdf = process_papers(ddf)\n",
    "\n",
    "kdf[\"pdf_url\"] = \"http://openreview.net\"+ kdf[\"pdf_url\"]\n",
    "\n",
    "kdf"
   ]
  }
 ],
 "metadata": {
  "kernelspec": {
   "display_name": ".venv",
   "language": "python",
   "name": "python3"
  },
  "language_info": {
   "codemirror_mode": {
    "name": "ipython",
    "version": 3
   },
   "file_extension": ".py",
   "mimetype": "text/x-python",
   "name": "python",
   "nbconvert_exporter": "python",
   "pygments_lexer": "ipython3",
   "version": "3.12.3"
  }
 },
 "nbformat": 4,
 "nbformat_minor": 5
}
